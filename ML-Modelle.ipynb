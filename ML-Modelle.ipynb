{
 "cells": [
  {
   "attachments": {},
   "cell_type": "markdown",
   "metadata": {},
   "source": [
    "# Sensor Based Activity Recoginition \n",
    "Challenge: cdl1 - Sensor based Activity Recognition  \n",
    "Team: Lea Bütler, Manjavy Kirupa, Etienne Roulet, Si Ben Tran  \n",
    "\n",
    "Aufgabe: ML Modell erstellen\n",
    "\n",
    "Hier in diesem Notebook erstellen wir unsere Machine Learning Modelle.\n",
    "\n",
    "---"
   ]
  },
  {
   "attachments": {},
   "cell_type": "markdown",
   "metadata": {},
   "source": [
    "# Libraries Importieren"
   ]
  },
  {
   "cell_type": "code",
   "execution_count": 24,
   "metadata": {},
   "outputs": [
    {
     "name": "stderr",
     "output_type": "stream",
     "text": [
      "\u001b[34m\u001b[1mwandb\u001b[0m: \u001b[33mWARNING\u001b[0m If you're specifying your api key in code, ensure this code is not shared publicly.\n",
      "\u001b[34m\u001b[1mwandb\u001b[0m: \u001b[33mWARNING\u001b[0m Consider setting the WANDB_API_KEY environment variable, or running `wandb login` from the command line.\n",
      "\u001b[34m\u001b[1mwandb\u001b[0m: Appending key for api.wandb.ai to your netrc file: /Users/leabuetler/.netrc\n"
     ]
    },
    {
     "name": "stdout",
     "output_type": "stream",
     "text": [
      "Successfull wandb login:  True\n"
     ]
    }
   ],
   "source": [
    "# Data Science Libraries\n",
    "import pandas as pd\n",
    "import matplotlib.pyplot as plt\n",
    "import numpy as np\n",
    "import sklearn\n",
    "\n",
    "# Preprocessing \n",
    "from sklearn.model_selection import train_test_split, GroupShuffleSplit\n",
    "\n",
    "# ML Models\n",
    "## import logistic regression\n",
    "from sklearn.linear_model import LogisticRegression\n",
    "\n",
    "## Decision Tree\n",
    "from sklearn.tree import DecisionTreeClassifier\n",
    "\n",
    "## Random Forest\n",
    "from sklearn.ensemble import RandomForestClassifier\n",
    "\n",
    "## KNN\n",
    "from sklearn.neighbors import KNeighborsClassifier\n",
    "\n",
    "## SVM\n",
    "from sklearn.svm import SVC\n",
    "\n",
    "## Stochastic Gradient Descent\n",
    "from sklearn.linear_model import SGDClassifier\n",
    "\n",
    "# import metrics \n",
    "from sklearn.metrics import accuracy_score, precision_score, recall_score, f1_score\n",
    "from sklearn.metrics import confusion_matrix, ConfusionMatrixDisplay\n",
    "\n",
    "# import wandb\n",
    "import wandb\n",
    "\n",
    "# import config.py for wandb API_KEY\n",
    "import config\n",
    "# login to wandb with config \n",
    "wandb.login(key=config.API_KEY)\n",
    "\n",
    "print(\"Successfull wandb login: \", wandb.login())\n"
   ]
  },
  {
   "attachments": {},
   "cell_type": "markdown",
   "metadata": {},
   "source": [
    "# Daten einlesen"
   ]
  },
  {
   "attachments": {},
   "cell_type": "markdown",
   "metadata": {},
   "source": [
    "- Einlesen der unprocessierten Daten\n",
    "- Einlesen der getrimmten und aggregierten Daten"
   ]
  },
  {
   "cell_type": "code",
   "execution_count": 19,
   "metadata": {},
   "outputs": [
    {
     "data": {
      "text/plain": [
       "'raw_unprocessed_data (2539533, 17)'"
      ]
     },
     "metadata": {},
     "output_type": "display_data"
    },
    {
     "data": {
      "text/html": [
       "<div>\n",
       "<style scoped>\n",
       "    .dataframe tbody tr th:only-of-type {\n",
       "        vertical-align: middle;\n",
       "    }\n",
       "\n",
       "    .dataframe tbody tr th {\n",
       "        vertical-align: top;\n",
       "    }\n",
       "\n",
       "    .dataframe thead th {\n",
       "        text-align: right;\n",
       "    }\n",
       "</style>\n",
       "<table border=\"1\" class=\"dataframe\">\n",
       "  <thead>\n",
       "    <tr style=\"text-align: right;\">\n",
       "      <th></th>\n",
       "      <th>time</th>\n",
       "      <th>Accelerometer_x</th>\n",
       "      <th>Accelerometer_y</th>\n",
       "      <th>Accelerometer_z</th>\n",
       "      <th>Gyroscope_x</th>\n",
       "      <th>Gyroscope_y</th>\n",
       "      <th>Gyroscope_z</th>\n",
       "      <th>Magnetometer_x</th>\n",
       "      <th>Magnetometer_y</th>\n",
       "      <th>Magnetometer_z</th>\n",
       "      <th>Orientation_qx</th>\n",
       "      <th>Orientation_qy</th>\n",
       "      <th>Orientation_qz</th>\n",
       "      <th>id</th>\n",
       "      <th>user</th>\n",
       "      <th>class</th>\n",
       "      <th>id_combined</th>\n",
       "    </tr>\n",
       "  </thead>\n",
       "  <tbody>\n",
       "    <tr>\n",
       "      <th>0</th>\n",
       "      <td>2023-02-27 15:02:04.548</td>\n",
       "      <td>0.000</td>\n",
       "      <td>-3.552</td>\n",
       "      <td>-9.140</td>\n",
       "      <td>NaN</td>\n",
       "      <td>NaN</td>\n",
       "      <td>NaN</td>\n",
       "      <td>NaN</td>\n",
       "      <td>NaN</td>\n",
       "      <td>NaN</td>\n",
       "      <td>0.161765</td>\n",
       "      <td>-0.088290</td>\n",
       "      <td>-0.470671</td>\n",
       "      <td>01_SamsungA22-2023-02-27_15-02-03</td>\n",
       "      <td>Ben_Tran</td>\n",
       "      <td>Laufen</td>\n",
       "      <td>01_SamsungA22-2023-02-27_15-02-03Ben_TranLaufen</td>\n",
       "    </tr>\n",
       "    <tr>\n",
       "      <th>1</th>\n",
       "      <td>2023-02-27 15:02:17.156</td>\n",
       "      <td>0.000</td>\n",
       "      <td>9.722</td>\n",
       "      <td>1.278</td>\n",
       "      <td>NaN</td>\n",
       "      <td>NaN</td>\n",
       "      <td>NaN</td>\n",
       "      <td>NaN</td>\n",
       "      <td>NaN</td>\n",
       "      <td>NaN</td>\n",
       "      <td>-0.217750</td>\n",
       "      <td>-0.719579</td>\n",
       "      <td>0.631111</td>\n",
       "      <td>01_SamsungA22-2023-02-27_15-02-03</td>\n",
       "      <td>Ben_Tran</td>\n",
       "      <td>Laufen</td>\n",
       "      <td>01_SamsungA22-2023-02-27_15-02-03Ben_TranLaufen</td>\n",
       "    </tr>\n",
       "    <tr>\n",
       "      <th>2</th>\n",
       "      <td>2023-02-27 15:02:31.574</td>\n",
       "      <td>-0.728</td>\n",
       "      <td>9.779</td>\n",
       "      <td>0.000</td>\n",
       "      <td>NaN</td>\n",
       "      <td>NaN</td>\n",
       "      <td>NaN</td>\n",
       "      <td>NaN</td>\n",
       "      <td>NaN</td>\n",
       "      <td>NaN</td>\n",
       "      <td>-0.420650</td>\n",
       "      <td>0.568356</td>\n",
       "      <td>-0.598058</td>\n",
       "      <td>01_SamsungA22-2023-02-27_15-02-03</td>\n",
       "      <td>Ben_Tran</td>\n",
       "      <td>Laufen</td>\n",
       "      <td>01_SamsungA22-2023-02-27_15-02-03Ben_TranLaufen</td>\n",
       "    </tr>\n",
       "    <tr>\n",
       "      <th>3</th>\n",
       "      <td>2023-02-27 15:02:16.685</td>\n",
       "      <td>NaN</td>\n",
       "      <td>NaN</td>\n",
       "      <td>NaN</td>\n",
       "      <td>NaN</td>\n",
       "      <td>NaN</td>\n",
       "      <td>NaN</td>\n",
       "      <td>0.000000</td>\n",
       "      <td>43.5</td>\n",
       "      <td>-13.143750</td>\n",
       "      <td>NaN</td>\n",
       "      <td>NaN</td>\n",
       "      <td>NaN</td>\n",
       "      <td>01_SamsungA22-2023-02-27_15-02-03</td>\n",
       "      <td>Ben_Tran</td>\n",
       "      <td>Laufen</td>\n",
       "      <td>01_SamsungA22-2023-02-27_15-02-03Ben_TranLaufen</td>\n",
       "    </tr>\n",
       "    <tr>\n",
       "      <th>4</th>\n",
       "      <td>2023-02-27 15:02:32.295</td>\n",
       "      <td>NaN</td>\n",
       "      <td>NaN</td>\n",
       "      <td>NaN</td>\n",
       "      <td>NaN</td>\n",
       "      <td>NaN</td>\n",
       "      <td>NaN</td>\n",
       "      <td>-13.012501</td>\n",
       "      <td>0.0</td>\n",
       "      <td>20.587502</td>\n",
       "      <td>NaN</td>\n",
       "      <td>NaN</td>\n",
       "      <td>NaN</td>\n",
       "      <td>01_SamsungA22-2023-02-27_15-02-03</td>\n",
       "      <td>Ben_Tran</td>\n",
       "      <td>Laufen</td>\n",
       "      <td>01_SamsungA22-2023-02-27_15-02-03Ben_TranLaufen</td>\n",
       "    </tr>\n",
       "  </tbody>\n",
       "</table>\n",
       "</div>"
      ],
      "text/plain": [
       "                      time  Accelerometer_x  Accelerometer_y  Accelerometer_z  \\\n",
       "0  2023-02-27 15:02:04.548            0.000           -3.552           -9.140   \n",
       "1  2023-02-27 15:02:17.156            0.000            9.722            1.278   \n",
       "2  2023-02-27 15:02:31.574           -0.728            9.779            0.000   \n",
       "3  2023-02-27 15:02:16.685              NaN              NaN              NaN   \n",
       "4  2023-02-27 15:02:32.295              NaN              NaN              NaN   \n",
       "\n",
       "   Gyroscope_x  Gyroscope_y  Gyroscope_z  Magnetometer_x  Magnetometer_y  \\\n",
       "0          NaN          NaN          NaN             NaN             NaN   \n",
       "1          NaN          NaN          NaN             NaN             NaN   \n",
       "2          NaN          NaN          NaN             NaN             NaN   \n",
       "3          NaN          NaN          NaN        0.000000            43.5   \n",
       "4          NaN          NaN          NaN      -13.012501             0.0   \n",
       "\n",
       "   Magnetometer_z  Orientation_qx  Orientation_qy  Orientation_qz  \\\n",
       "0             NaN        0.161765       -0.088290       -0.470671   \n",
       "1             NaN       -0.217750       -0.719579        0.631111   \n",
       "2             NaN       -0.420650        0.568356       -0.598058   \n",
       "3      -13.143750             NaN             NaN             NaN   \n",
       "4       20.587502             NaN             NaN             NaN   \n",
       "\n",
       "                                  id      user   class  \\\n",
       "0  01_SamsungA22-2023-02-27_15-02-03  Ben_Tran  Laufen   \n",
       "1  01_SamsungA22-2023-02-27_15-02-03  Ben_Tran  Laufen   \n",
       "2  01_SamsungA22-2023-02-27_15-02-03  Ben_Tran  Laufen   \n",
       "3  01_SamsungA22-2023-02-27_15-02-03  Ben_Tran  Laufen   \n",
       "4  01_SamsungA22-2023-02-27_15-02-03  Ben_Tran  Laufen   \n",
       "\n",
       "                                       id_combined  \n",
       "0  01_SamsungA22-2023-02-27_15-02-03Ben_TranLaufen  \n",
       "1  01_SamsungA22-2023-02-27_15-02-03Ben_TranLaufen  \n",
       "2  01_SamsungA22-2023-02-27_15-02-03Ben_TranLaufen  \n",
       "3  01_SamsungA22-2023-02-27_15-02-03Ben_TranLaufen  \n",
       "4  01_SamsungA22-2023-02-27_15-02-03Ben_TranLaufen  "
      ]
     },
     "metadata": {},
     "output_type": "display_data"
    },
    {
     "data": {
      "text/plain": [
       "'data (2344488, 65)'"
      ]
     },
     "metadata": {},
     "output_type": "display_data"
    },
    {
     "data": {
      "text/html": [
       "<div>\n",
       "<style scoped>\n",
       "    .dataframe tbody tr th:only-of-type {\n",
       "        vertical-align: middle;\n",
       "    }\n",
       "\n",
       "    .dataframe tbody tr th {\n",
       "        vertical-align: top;\n",
       "    }\n",
       "\n",
       "    .dataframe thead th {\n",
       "        text-align: right;\n",
       "    }\n",
       "</style>\n",
       "<table border=\"1\" class=\"dataframe\">\n",
       "  <thead>\n",
       "    <tr style=\"text-align: right;\">\n",
       "      <th></th>\n",
       "      <th>time</th>\n",
       "      <th>Accelerometer_x</th>\n",
       "      <th>Accelerometer_y</th>\n",
       "      <th>Accelerometer_z</th>\n",
       "      <th>Gyroscope_x</th>\n",
       "      <th>Gyroscope_y</th>\n",
       "      <th>Gyroscope_z</th>\n",
       "      <th>Magnetometer_x</th>\n",
       "      <th>Magnetometer_y</th>\n",
       "      <th>Magnetometer_z</th>\n",
       "      <th>...</th>\n",
       "      <th>Orientation_qx_mean</th>\n",
       "      <th>Orientation_qx_median</th>\n",
       "      <th>Orientation_qy_min</th>\n",
       "      <th>Orientation_qy_max</th>\n",
       "      <th>Orientation_qy_mean</th>\n",
       "      <th>Orientation_qy_median</th>\n",
       "      <th>Orientation_qz_min</th>\n",
       "      <th>Orientation_qz_max</th>\n",
       "      <th>Orientation_qz_mean</th>\n",
       "      <th>Orientation_qz_median</th>\n",
       "    </tr>\n",
       "  </thead>\n",
       "  <tbody>\n",
       "    <tr>\n",
       "      <th>0</th>\n",
       "      <td>2023-02-27 15:02:17.156</td>\n",
       "      <td>0.000</td>\n",
       "      <td>9.722</td>\n",
       "      <td>1.278</td>\n",
       "      <td>0.0</td>\n",
       "      <td>0.0</td>\n",
       "      <td>0.0</td>\n",
       "      <td>0.000000</td>\n",
       "      <td>0.0</td>\n",
       "      <td>0.000000</td>\n",
       "      <td>...</td>\n",
       "      <td>NaN</td>\n",
       "      <td>NaN</td>\n",
       "      <td>NaN</td>\n",
       "      <td>NaN</td>\n",
       "      <td>NaN</td>\n",
       "      <td>NaN</td>\n",
       "      <td>NaN</td>\n",
       "      <td>NaN</td>\n",
       "      <td>NaN</td>\n",
       "      <td>NaN</td>\n",
       "    </tr>\n",
       "    <tr>\n",
       "      <th>1</th>\n",
       "      <td>2023-02-27 15:02:31.574</td>\n",
       "      <td>-0.728</td>\n",
       "      <td>9.779</td>\n",
       "      <td>0.000</td>\n",
       "      <td>0.0</td>\n",
       "      <td>0.0</td>\n",
       "      <td>0.0</td>\n",
       "      <td>0.000000</td>\n",
       "      <td>0.0</td>\n",
       "      <td>0.000000</td>\n",
       "      <td>...</td>\n",
       "      <td>-0.319200</td>\n",
       "      <td>-0.319200</td>\n",
       "      <td>-0.719579</td>\n",
       "      <td>0.568356</td>\n",
       "      <td>-0.075612</td>\n",
       "      <td>-0.075612</td>\n",
       "      <td>-0.598058</td>\n",
       "      <td>0.631111</td>\n",
       "      <td>0.016527</td>\n",
       "      <td>0.016527</td>\n",
       "    </tr>\n",
       "    <tr>\n",
       "      <th>2</th>\n",
       "      <td>2023-02-27 15:02:16.685</td>\n",
       "      <td>0.000</td>\n",
       "      <td>0.000</td>\n",
       "      <td>0.000</td>\n",
       "      <td>0.0</td>\n",
       "      <td>0.0</td>\n",
       "      <td>0.0</td>\n",
       "      <td>0.000000</td>\n",
       "      <td>43.5</td>\n",
       "      <td>-13.143750</td>\n",
       "      <td>...</td>\n",
       "      <td>-0.210325</td>\n",
       "      <td>-0.210325</td>\n",
       "      <td>0.000000</td>\n",
       "      <td>0.568356</td>\n",
       "      <td>0.284178</td>\n",
       "      <td>0.284178</td>\n",
       "      <td>-0.598058</td>\n",
       "      <td>0.000000</td>\n",
       "      <td>-0.299029</td>\n",
       "      <td>-0.299029</td>\n",
       "    </tr>\n",
       "    <tr>\n",
       "      <th>3</th>\n",
       "      <td>2023-02-27 15:02:32.295</td>\n",
       "      <td>0.000</td>\n",
       "      <td>0.000</td>\n",
       "      <td>0.000</td>\n",
       "      <td>0.0</td>\n",
       "      <td>0.0</td>\n",
       "      <td>0.0</td>\n",
       "      <td>-13.012501</td>\n",
       "      <td>0.0</td>\n",
       "      <td>20.587502</td>\n",
       "      <td>...</td>\n",
       "      <td>0.000000</td>\n",
       "      <td>0.000000</td>\n",
       "      <td>0.000000</td>\n",
       "      <td>0.000000</td>\n",
       "      <td>0.000000</td>\n",
       "      <td>0.000000</td>\n",
       "      <td>0.000000</td>\n",
       "      <td>0.000000</td>\n",
       "      <td>0.000000</td>\n",
       "      <td>0.000000</td>\n",
       "    </tr>\n",
       "    <tr>\n",
       "      <th>4</th>\n",
       "      <td>2023-02-27 15:02:33.285</td>\n",
       "      <td>0.000</td>\n",
       "      <td>0.000</td>\n",
       "      <td>0.000</td>\n",
       "      <td>0.0</td>\n",
       "      <td>0.0</td>\n",
       "      <td>0.0</td>\n",
       "      <td>-22.612501</td>\n",
       "      <td>0.0</td>\n",
       "      <td>20.268751</td>\n",
       "      <td>...</td>\n",
       "      <td>0.000000</td>\n",
       "      <td>0.000000</td>\n",
       "      <td>0.000000</td>\n",
       "      <td>0.000000</td>\n",
       "      <td>0.000000</td>\n",
       "      <td>0.000000</td>\n",
       "      <td>0.000000</td>\n",
       "      <td>0.000000</td>\n",
       "      <td>0.000000</td>\n",
       "      <td>0.000000</td>\n",
       "    </tr>\n",
       "  </tbody>\n",
       "</table>\n",
       "<p>5 rows × 65 columns</p>\n",
       "</div>"
      ],
      "text/plain": [
       "                      time  Accelerometer_x  Accelerometer_y  Accelerometer_z  \\\n",
       "0  2023-02-27 15:02:17.156            0.000            9.722            1.278   \n",
       "1  2023-02-27 15:02:31.574           -0.728            9.779            0.000   \n",
       "2  2023-02-27 15:02:16.685            0.000            0.000            0.000   \n",
       "3  2023-02-27 15:02:32.295            0.000            0.000            0.000   \n",
       "4  2023-02-27 15:02:33.285            0.000            0.000            0.000   \n",
       "\n",
       "   Gyroscope_x  Gyroscope_y  Gyroscope_z  Magnetometer_x  Magnetometer_y  \\\n",
       "0          0.0          0.0          0.0        0.000000             0.0   \n",
       "1          0.0          0.0          0.0        0.000000             0.0   \n",
       "2          0.0          0.0          0.0        0.000000            43.5   \n",
       "3          0.0          0.0          0.0      -13.012501             0.0   \n",
       "4          0.0          0.0          0.0      -22.612501             0.0   \n",
       "\n",
       "   Magnetometer_z  ...  Orientation_qx_mean  Orientation_qx_median  \\\n",
       "0        0.000000  ...                  NaN                    NaN   \n",
       "1        0.000000  ...            -0.319200              -0.319200   \n",
       "2      -13.143750  ...            -0.210325              -0.210325   \n",
       "3       20.587502  ...             0.000000               0.000000   \n",
       "4       20.268751  ...             0.000000               0.000000   \n",
       "\n",
       "   Orientation_qy_min Orientation_qy_max Orientation_qy_mean  \\\n",
       "0                 NaN                NaN                 NaN   \n",
       "1           -0.719579           0.568356           -0.075612   \n",
       "2            0.000000           0.568356            0.284178   \n",
       "3            0.000000           0.000000            0.000000   \n",
       "4            0.000000           0.000000            0.000000   \n",
       "\n",
       "  Orientation_qy_median Orientation_qz_min  Orientation_qz_max  \\\n",
       "0                   NaN                NaN                 NaN   \n",
       "1             -0.075612          -0.598058            0.631111   \n",
       "2              0.284178          -0.598058            0.000000   \n",
       "3              0.000000           0.000000            0.000000   \n",
       "4              0.000000           0.000000            0.000000   \n",
       "\n",
       "   Orientation_qz_mean  Orientation_qz_median  \n",
       "0                  NaN                    NaN  \n",
       "1             0.016527               0.016527  \n",
       "2            -0.299029              -0.299029  \n",
       "3             0.000000               0.000000  \n",
       "4             0.000000               0.000000  \n",
       "\n",
       "[5 rows x 65 columns]"
      ]
     },
     "metadata": {},
     "output_type": "display_data"
    }
   ],
   "source": [
    "# File: Alle_Messungen.csv (Raw Data) einlesen\n",
    "raw_unprocessed_data = pd.read_csv(\"../Sensor_Data-Wrangling-und-EDA/Alle_Messungen.csv\", index_col=0)\n",
    "data = pd.read_csv(\"../Sensor_Data-Wrangling-und-EDA/data_trimmed_aggregated_windows_size_5s.csv\")\n",
    "# display head \n",
    "display(\"raw_unprocessed_data \" + str(raw_unprocessed_data.shape), raw_unprocessed_data.head())\n",
    "display(\"data \" + str(data.shape), data.head())"
   ]
  },
  {
   "attachments": {},
   "cell_type": "markdown",
   "metadata": {},
   "source": [
    "## Preprocessing der Daten für Baseline Modell\n",
    "\n",
    "Für das Baseline Modell werden die Daten wie folgt verarbeitet:\n",
    "\n",
    "- Entfernen der Zeilen, die NaN Werte aufweisen\n",
    "- Die Anzahl Observationen gleichmässig auf die minimale Anzahl Observationen pro Klasse sampeln\n",
    "- Die Daten werden in Trainings und Validierungsdaten gesplittet, dabei sollten die Anzahl der Werte in 'class' gleichmaessig verteilt sein\n",
    "- Die Verteilung der Klassen wird mittels einem Barplot gezeigt\n",
    "- Das erstellen eines Logistischen Regression Modell fuer multiple Klassen, mittels sklearn\n",
    "- Berechnung der Accuracy sowie Visualisierung der Confusion Matrix\n",
    "\n",
    "Fragen: \n",
    "\n",
    "- Warum wurde hier nicht nach \"id_combined\" gesplittet?  \n",
    "Hier handelt es sich um die unverarbeiteten Daten, also die Daten, die wir weder getrimmt (5 Sekunden Schnitt) noch aggregiert haben. Die Daten sind also noch in der Form, wie sie vom Sensor kommen. Da es sich hierbei um ein Baseline Model handelt, haben wir uns dazu entschieden, die Daten nicht nach \"id_combined\" zu splitten."
   ]
  },
  {
   "cell_type": "code",
   "execution_count": 20,
   "metadata": {},
   "outputs": [
    {
     "data": {
      "image/png": "[encoded data removed]",
      "text/plain": [
       "<Figure size 1500x500 with 3 Axes>"
      ]
     },
     "metadata": {},
     "output_type": "display_data"
    }
   ],
   "source": [
    "# remove na rows from raw_unprocessed_data\n",
    "raw_unprocessed_data = raw_unprocessed_data.dropna(axis = 0)\n",
    "\n",
    "# drop uneccessary columns for the baseline modell\n",
    "baseline_data = raw_unprocessed_data.drop(['time', 'id', 'user', 'id_combined'], axis = 1)\n",
    "\n",
    "# get the number of observation for each class and select the minimum\n",
    "min_class = baseline_data['class'].value_counts().min()\n",
    "\n",
    "# Select the min_class of each class to get an equal number of observations for each class\n",
    "baseline_data = baseline_data.groupby('class').sample(n = min_class, random_state=42)\n",
    "\n",
    "# split the data into baselin_train_X, baseline_train_y, baseline_test_X, baseline_test_y \n",
    "baseline_train_X, baseline_val_X, baseline_train_y, baseline_val_y = train_test_split(baseline_data.drop('class', axis = 1), baseline_data['class'], test_size = 0.2, random_state = 42)\n",
    "\n",
    "# plot the class distribution of the baselin_data, baseline_train_y and baseline_test_y in 3 subplots\n",
    "fig, (ax1, ax2, ax3) = plt.subplots(1, 3, figsize = (15, 5))\n",
    "\n",
    "# plot the class distribution of the baseline_data\n",
    "baseline_data['class'].value_counts().plot(kind = \"bar\", ax = ax1, color = \"lightblue\", edgecolor = \"black\", linewidth = 1)\n",
    "ax1.set_xlabel(\"Class\")\n",
    "ax1.set_ylabel(\"Number of Observations\")\n",
    "ax1.set_title(\"Number of Observations per Class in Baseline Data\")\n",
    "\n",
    "# plot the class distribution of the baseline_train_y\n",
    "baseline_train_y.value_counts().plot(kind = \"bar\", ax = ax2, color = \"lightblue\", edgecolor = \"black\", linewidth = 1)\n",
    "ax2.set_xlabel(\"Class\")\n",
    "ax2.set_ylabel(\"Number of Observations\")\n",
    "ax2.set_title(\"Number of Observations per Class in Train Data\")\n",
    "\n",
    "# plot the class distribution of the baseline_test_y\n",
    "baseline_val_y.value_counts().plot(kind = \"bar\", ax = ax3, color = \"lightblue\", edgecolor = \"black\", linewidth = 1)\n",
    "ax3.set_xlabel(\"Class\")\n",
    "ax3.set_ylabel(\"Number of Observations\")\n",
    "ax3.set_title(\"Number of Observations per Class in Validate Data\")\n",
    "\n",
    "# set the title of the figure and optimize the layout of the subplots\n",
    "fig.suptitle(\"Class Distribution of Baseline Data, Train and Test Data\", fontsize = 16)\n",
    "plt.tight_layout()\n",
    "plt.show()\n"
   ]
  },
  {
   "attachments": {},
   "cell_type": "markdown",
   "metadata": {},
   "source": [
    "--- \n",
    "\n",
    "# Preprocessing der Daten für die ML-Modelle\n",
    "\n",
    "- Damit wir ein Data Leakage vermeiden, splitten wir die Daten aufgrund von id_combined, somit stellen wir sicher, dass die Daten, die wir für das Training verwenden, nicht in der Validierung verwendet werden.\n",
    "- Weil wir die Accuracy Metrik haben, ist es uns wichtig, dass die \"Class\" gleichverteilt ist sowohl beim Training als auch beim Test Datensatz. Die Funktin ermoeglicht es uns die Daten zu splitten, sodass die Verteilung der Klassen gleich ist. \n"
   ]
  },
  {
   "cell_type": "code",
   "execution_count": 21,
   "metadata": {},
   "outputs": [],
   "source": [
    "# Create function\n",
    "def preprocess_data(data, test_size=0.2, random_state_split=42, make_plot=False, undersample=False, oversample=False):\n",
    "    # Split data into train and validation sets using GroupShuffleSplit\n",
    "    df_train_idx, df_val_idx = next(iter(sklearn.model_selection.GroupShuffleSplit(n_splits=1, test_size=test_size, random_state=random_state_split).split(data, groups=data['id_combined'])))\n",
    "    df_train_ = data.iloc[df_train_idx]\n",
    "    df_val_ = data.iloc[df_val_idx]\n",
    "\n",
    "    # Undersample if specified, else oversample if specified, else keep original dataset\n",
    "    if undersample and not oversample:\n",
    "        print(\"undersample dataset\")\n",
    "        df_train = df_train_.groupby('class').sample(n = df_train_['class'].value_counts().min(), random_state=random_state_split)\n",
    "        df_val = df_val_.groupby('class').sample(n = df_val_['class'].value_counts().min(), random_state=random_state_split)\n",
    "    elif oversample and not undersample:\n",
    "        print(\"oversample dataset\")\n",
    "        df_train = df_train_.groupby('class').sample(n = df_train_['class'].value_counts().max(), replace=True, random_state=random_state_split)\n",
    "        df_val = df_val_.groupby('class').sample(n = df_val_['class'].value_counts().max(), replace=True, random_state=random_state_split)\n",
    "\n",
    "        #df_train = df_train_.groupby('class').apply(lambda x: x.sample(df_train_['class'].value_counts().max(), replace=True, random_state=42))\n",
    "        #df_val = df_val_.groupby('class').apply(lambda x: x.sample(df_val_['class'].value_counts().max(), replace=True, random_state=42))\n",
    "    else:\n",
    "        print(\"no undersampling or oversampling\")\n",
    "        df_train = df_train_\n",
    "        df_val = df_val_\n",
    "\n",
    "    # Plot class distribution if specified\n",
    "    if make_plot:\n",
    "        # create counterplot for the class distribution of train and test data\n",
    "        fig, (ax1, ax2) = plt.subplots(1, 2, figsize = (15, 5))\n",
    "\n",
    "        # plot the class distribution of the train data\n",
    "        df_train['class'].value_counts().plot(kind = \"bar\", ax = ax1, color = \"lightblue\", edgecolor = \"black\", linewidth = 1)\n",
    "        ax1.set_xlabel(\"Class\")\n",
    "        ax1.set_ylabel(\"Number of Observations\")\n",
    "        ax1.set_title(\"Number of Observations per Class in Train Data\")\n",
    "        for p in ax1.patches:\n",
    "            ax1.annotate(str(p.get_height()), (p.get_x() * 1.005, p.get_height() * 1.005))\n",
    "\n",
    "        # plot the class distribution of the test data\n",
    "        df_val['class'].value_counts().plot(kind = \"bar\", ax = ax2, color = \"lightblue\", edgecolor = \"black\", linewidth = 1)\n",
    "        ax2.set_xlabel(\"Class\")\n",
    "        ax2.set_ylabel(\"Number of Observations\")\n",
    "        ax2.set_title(\"Number of Observations per Class in Validate Data\")\n",
    "        for p in ax2.patches:\n",
    "            ax2.annotate(str(p.get_height()), (p.get_x() * 1.005, p.get_height() * 1.005))\n",
    "\n",
    "        # set the title of the figure and optimize the layout of the subplots\n",
    "        fig.suptitle(\"Class Distribution of Train and Validate Dataz\\n undersample: \" + str(undersample) + \" ,oversample: \" + str(oversample), fontsize = 16)\n",
    "        plt.tight_layout()\n",
    "        plt.show()\n",
    "\n",
    "    # cols that should be dropped from the dataset\n",
    "    cols_to_drop = ['time', 'Accelerometer_x', 'Accelerometer_y', 'Accelerometer_z', 'Gyroscope_x', 'Gyroscope_y', 'Gyroscope_z', 'Magnetometer_x',\n",
    "                    'Magnetometer_y', 'Magnetometer_z', 'Orientation_qx', 'Orientation_qy', 'Orientation_qz', 'id', 'user', 'id_combined']\n",
    "    \n",
    "    # Drop columns\n",
    "    df_train = df_train.drop(cols_to_drop, axis=1)\n",
    "    df_val = df_val.drop(cols_to_drop, axis=1)\n",
    "\n",
    "    # drop rows with NaN Values (cause from the export_aggregated_df(concat_only=True) function, there exists rows with NaN values)\n",
    "    df_train = df_train.dropna()\n",
    "    df_val = df_val.dropna()\n",
    "\n",
    "    # Creata X and y \n",
    "    y_train = df_train['class']\n",
    "    X_train = df_train.drop('class', axis=1)\n",
    "    y_val = df_val['class']\n",
    "    X_val = df_val.drop('class', axis=1)\n",
    "\n",
    "    # Return preprocessed data\n",
    "    return X_train, y_train, X_val, y_val"
   ]
  },
  {
   "cell_type": "code",
   "execution_count": 22,
   "metadata": {},
   "outputs": [
    {
     "name": "stdout",
     "output_type": "stream",
     "text": [
      "oversample dataset\n"
     ]
    },
    {
     "data": {
      "image/png": "[encoded data removed]",
      "text/plain": [
       "<Figure size 1500x500 with 2 Axes>"
      ]
     },
     "metadata": {},
     "output_type": "display_data"
    },
    {
     "name": "stdout",
     "output_type": "stream",
     "text": [
      "undersample dataset\n"
     ]
    },
    {
     "data": {
      "image/png": "[encoded data removed]",
      "text/plain": [
       "<Figure size 1500x500 with 2 Axes>"
      ]
     },
     "metadata": {},
     "output_type": "display_data"
    },
    {
     "name": "stdout",
     "output_type": "stream",
     "text": [
      "no undersampling or oversampling\n"
     ]
    },
    {
     "data": {
      "image/png": "[encoded data removed]",
      "text/plain": [
       "<Figure size 1500x500 with 2 Axes>"
      ]
     },
     "metadata": {},
     "output_type": "display_data"
    },
    {
     "name": "stdout",
     "output_type": "stream",
     "text": [
      "Oversample and Undersampling Data Works\n"
     ]
    }
   ],
   "source": [
    "# preprocess data function with undersampling\n",
    "preprocess_data(data, test_size=0.2, random_state_split=3, make_plot=True, undersample=False, oversample=True)\n",
    "# preprocess data function with oversampling\n",
    "preprocess_data(data, test_size=0.3, random_state_split=5, make_plot=True, undersample=True, oversample=False)\n",
    "# preprocess data function with no undersampling or oversampling\n",
    "preprocess_data(data, test_size=0.3, random_state_split=7, make_plot=True, undersample=False, oversample=False)\n",
    "\n",
    "print(\"Oversample and Undersampling Data Works\")"
   ]
  },
  {
   "attachments": {},
   "cell_type": "markdown",
   "metadata": {},
   "source": [
    "---\n",
    "# Baseline Modell "
   ]
  },
  {
   "cell_type": "code",
   "execution_count": 6,
   "metadata": {},
   "outputs": [
    {
     "data": {
      "image/png": "[encoded data removed]",
      "text/plain": [
       "<Figure size 2000x1000 with 2 Axes>"
      ]
     },
     "metadata": {},
     "output_type": "display_data"
    }
   ],
   "source": [
    "# create a logistic regression model for multiclass classification with sklearn\n",
    "logistic_regression = LogisticRegression(multi_class = \"multinomial\", solver = \"lbfgs\", max_iter = 1000, n_jobs=-1, random_state = 42)\n",
    "\n",
    "# fit the logistic regression model\n",
    "logistic_regression.fit(X = baseline_train_X, y = baseline_train_y)\n",
    "\n",
    "# predict the classes for the val data\n",
    "baseline_val_y_pred = logistic_regression.predict(X = baseline_val_X)\n",
    "\n",
    "# calculate the accuracy of the logistic regression model with train data and val data\n",
    "baseline_val_accuracy = accuracy_score(y_true = baseline_val_y, y_pred = baseline_val_y_pred)\n",
    "\n",
    "# create a confusion matrix display\n",
    "baseline_confmatrix = confusion_matrix(y_true = baseline_val_y, y_pred = baseline_val_y_pred)\n",
    "\n",
    "# plot the confusion matrix of the logistic regression model\n",
    "fig, ax = plt.subplots(figsize = (20,10))\n",
    "disp = ConfusionMatrixDisplay(confusion_matrix=baseline_confmatrix, display_labels=logistic_regression.classes_)\n",
    "disp.plot(ax = ax, cmap = \"Blues\", values_format = \"d\", xticks_rotation = 'vertical')\n",
    "plt.title(\"Confusion Matrix of Logistic Regression Baseline Model \\n Accuracy Score of: \" + str(round(baseline_val_accuracy, 4)), fontsize = 20, y = 1.01)\n",
    "plt.xlabel(\"Predicted Class\", fontsize = 15)\n",
    "plt.ylabel(\"True Class\", fontsize = 15)\n",
    "plt.show()\n"
   ]
  },
  {
   "attachments": {},
   "cell_type": "markdown",
   "metadata": {},
   "source": [
    "Unser Baseline Modell ist ein Logistisches Regression Modell. Wir haben uns für dieses Modell entschieden, da es einfach zu implementieren ist und wir so einen Vergleich zu den anderen Machine Learning Modellen erstellen können."
   ]
  },
  {
   "attachments": {},
   "cell_type": "markdown",
   "metadata": {},
   "source": [
    "---\n",
    "# Modell-01 - Decision Tree\n",
    "## Model trainieren"
   ]
  },
  {
   "cell_type": "code",
   "execution_count": 6,
   "metadata": {},
   "outputs": [
    {
     "name": "stderr",
     "output_type": "stream",
     "text": [
      "500 response executing GraphQL.\n",
      "{\"errors\":[{\"message\":\"Post \\\"http://anaconda2.default.svc.cluster.local/validate\\\": read tcp 10.52.113.3:41088-\\u003e10.55.247.53:80: read: connection reset by peer\",\"path\":[\"upsertSweep\"]}],\"data\":{\"upsertSweep\":null}}\n",
      "\u001b[34m\u001b[1mwandb\u001b[0m: \u001b[32m\u001b[41mERROR\u001b[0m Error while calling W&B API: Post \"http://anaconda2.default.svc.cluster.local/validate\": read tcp 10.52.113.3:41088->10.55.247.53:80: read: connection reset by peer (<Response [500]>)\n"
     ]
    },
    {
     "name": "stdout",
     "output_type": "stream",
     "text": [
      "Create sweep with ID: nwsamvtg\n",
      "Sweep URL: https://wandb.ai/fhnw-cdl1/01-decision-tree/sweeps/nwsamvtg\n"
     ]
    },
    {
     "name": "stderr",
     "output_type": "stream",
     "text": [
      "\u001b[34m\u001b[1mwandb\u001b[0m: Agent Starting Run: g7k5ps0k with config:\n",
      "\u001b[34m\u001b[1mwandb\u001b[0m: \tccp_alpha: 0.01\n",
      "\u001b[34m\u001b[1mwandb\u001b[0m: \tclass_weight: balanced\n",
      "\u001b[34m\u001b[1mwandb\u001b[0m: \tcriterion: gini\n",
      "\u001b[34m\u001b[1mwandb\u001b[0m: \tmax_depth: 5\n",
      "\u001b[34m\u001b[1mwandb\u001b[0m: \tmax_features: auto\n",
      "\u001b[34m\u001b[1mwandb\u001b[0m: \tmin_samples_leaf: 10\n",
      "\u001b[34m\u001b[1mwandb\u001b[0m: \tmin_samples_split: 5\n",
      "\u001b[34m\u001b[1mwandb\u001b[0m: \toversample: True\n",
      "\u001b[34m\u001b[1mwandb\u001b[0m: \trandom_state: 9530\n",
      "\u001b[34m\u001b[1mwandb\u001b[0m: \trandom_state_split: 1609\n",
      "\u001b[34m\u001b[1mwandb\u001b[0m: \tsplitter: best\n",
      "\u001b[34m\u001b[1mwandb\u001b[0m: \ttest_size: 0.2\n",
      "\u001b[34m\u001b[1mwandb\u001b[0m: \tundersample: False\n",
      "Failed to detect the name of this notebook, you can set it manually with the WANDB_NOTEBOOK_NAME environment variable to enable code saving.\n",
      "\u001b[34m\u001b[1mwandb\u001b[0m: \u001b[33mWARNING\u001b[0m Ignored wandb.init() arg project when running a sweep.\n"
     ]
    },
    {
     "data": {
      "text/html": [
       "Tracking run with wandb version 0.15.3"
      ],
      "text/plain": [
       "<IPython.core.display.HTML object>"
      ]
     },
     "metadata": {},
     "output_type": "display_data"
    },
    {
     "data": {
      "text/html": [
       "Run data is saved locally in <code>/Users/leabuetler/git_repos/06_Semester/cdl1/Sensor-Klassifikation-ohne-Deep-Learning/wandb/run-20230523_111908-g7k5ps0k</code>"
      ],
      "text/plain": [
       "<IPython.core.display.HTML object>"
      ]
     },
     "metadata": {},
     "output_type": "display_data"
    },
    {
     "data": {
      "text/html": [
       "Syncing run <strong><a href='https://wandb.ai/fhnw-cdl1/01-decision-tree/runs/g7k5ps0k' target=\"_blank\">valiant-sweep-1</a></strong> to <a href='https://wandb.ai/fhnw-cdl1/01-decision-tree' target=\"_blank\">Weights & Biases</a> (<a href='https://wandb.me/run' target=\"_blank\">docs</a>)<br/>Sweep page: <a href='https://wandb.ai/fhnw-cdl1/01-decision-tree/sweeps/nwsamvtg' target=\"_blank\">https://wandb.ai/fhnw-cdl1/01-decision-tree/sweeps/nwsamvtg</a>"
      ],
      "text/plain": [
       "<IPython.core.display.HTML object>"
      ]
     },
     "metadata": {},
     "output_type": "display_data"
    },
    {
     "data": {
      "text/html": [
       " View project at <a href='https://wandb.ai/fhnw-cdl1/01-decision-tree' target=\"_blank\">https://wandb.ai/fhnw-cdl1/01-decision-tree</a>"
      ],
      "text/plain": [
       "<IPython.core.display.HTML object>"
      ]
     },
     "metadata": {},
     "output_type": "display_data"
    },
    {
     "data": {
      "text/html": [
       " View sweep at <a href='https://wandb.ai/fhnw-cdl1/01-decision-tree/sweeps/nwsamvtg' target=\"_blank\">https://wandb.ai/fhnw-cdl1/01-decision-tree/sweeps/nwsamvtg</a>"
      ],
      "text/plain": [
       "<IPython.core.display.HTML object>"
      ]
     },
     "metadata": {},
     "output_type": "display_data"
    },
    {
     "data": {
      "text/html": [
       " View run at <a href='https://wandb.ai/fhnw-cdl1/01-decision-tree/runs/g7k5ps0k' target=\"_blank\">https://wandb.ai/fhnw-cdl1/01-decision-tree/runs/g7k5ps0k</a>"
      ],
      "text/plain": [
       "<IPython.core.display.HTML object>"
      ]
     },
     "metadata": {},
     "output_type": "display_data"
    },
    {
     "name": "stdout",
     "output_type": "stream",
     "text": [
      "oversample dataset\n"
     ]
    },
    {
     "name": "stderr",
     "output_type": "stream",
     "text": [
      "/Users/leabuetler/opt/anaconda3/envs/sensor_challenge/lib/python3.9/site-packages/sklearn/tree/_classes.py:269: FutureWarning: `max_features='auto'` has been deprecated in 1.1 and will be removed in 1.3. To keep the past behaviour, explicitly set `max_features='sqrt'`.\n",
      "  warnings.warn(\n"
     ]
    },
    {
     "data": {
      "text/html": [
       "Waiting for W&B process to finish... <strong style=\"color:green\">(success).</strong>"
      ],
      "text/plain": [
       "<IPython.core.display.HTML object>"
      ]
     },
     "metadata": {},
     "output_type": "display_data"
    },
    {
     "data": {
      "application/vnd.jupyter.widget-view+json": {
       "model_id": "c9c5ab693e804f75a41a646c651b19ca",
       "version_major": 2,
       "version_minor": 0
      },
      "text/plain": [
       "VBox(children=(Label(value='0.001 MB of 0.001 MB uploaded (0.000 MB deduped)\\r'), FloatProgress(value=1.0, max…"
      ]
     },
     "metadata": {},
     "output_type": "display_data"
    },
    {
     "data": {
      "text/html": [
       "<style>\n",
       "    table.wandb td:nth-child(1) { padding: 0 10px; text-align: left ; width: auto;} td:nth-child(2) {text-align: left ; width: 100%}\n",
       "    .wandb-row { display: flex; flex-direction: row; flex-wrap: wrap; justify-content: flex-start; width: 100% }\n",
       "    .wandb-col { display: flex; flex-direction: column; flex-basis: 100%; flex: 1; padding: 10px; }\n",
       "    </style>\n",
       "<div class=\"wandb-row\"><div class=\"wandb-col\"><h3>Run history:</h3><br/><table class=\"wandb\"><tr><td>accuracy_train</td><td>▁</td></tr><tr><td>accuracy_val</td><td>▁</td></tr><tr><td>f1_train</td><td>▁</td></tr><tr><td>f1_val</td><td>▁</td></tr><tr><td>precision_train</td><td>▁</td></tr><tr><td>precision_val</td><td>▁</td></tr><tr><td>recall_train</td><td>▁</td></tr><tr><td>recall_val</td><td>▁</td></tr></table><br/></div><div class=\"wandb-col\"><h3>Run summary:</h3><br/><table class=\"wandb\"><tr><td>accuracy_train</td><td>0.83317</td></tr><tr><td>accuracy_val</td><td>0.72186</td></tr><tr><td>f1_train</td><td>0.83011</td></tr><tr><td>f1_val</td><td>0.70904</td></tr><tr><td>precision_train</td><td>0.83621</td></tr><tr><td>precision_val</td><td>0.73759</td></tr><tr><td>recall_train</td><td>0.83317</td></tr><tr><td>recall_val</td><td>0.72186</td></tr></table><br/></div></div>"
      ],
      "text/plain": [
       "<IPython.core.display.HTML object>"
      ]
     },
     "metadata": {},
     "output_type": "display_data"
    },
    {
     "data": {
      "text/html": [
       " View run <strong style=\"color:#cdcd00\">valiant-sweep-1</strong> at: <a href='https://wandb.ai/fhnw-cdl1/01-decision-tree/runs/g7k5ps0k' target=\"_blank\">https://wandb.ai/fhnw-cdl1/01-decision-tree/runs/g7k5ps0k</a><br/>Synced 6 W&B file(s), 0 media file(s), 0 artifact file(s) and 0 other file(s)"
      ],
      "text/plain": [
       "<IPython.core.display.HTML object>"
      ]
     },
     "metadata": {},
     "output_type": "display_data"
    },
    {
     "data": {
      "text/html": [
       "Find logs at: <code>./wandb/run-20230523_111908-g7k5ps0k/logs</code>"
      ],
      "text/plain": [
       "<IPython.core.display.HTML object>"
      ]
     },
     "metadata": {},
     "output_type": "display_data"
    },
    {
     "name": "stderr",
     "output_type": "stream",
     "text": [
      "\u001b[34m\u001b[1mwandb\u001b[0m: Agent Starting Run: tn2lbl36 with config:\n",
      "\u001b[34m\u001b[1mwandb\u001b[0m: \tccp_alpha: 0.01\n",
      "\u001b[34m\u001b[1mwandb\u001b[0m: \tclass_weight: balanced\n",
      "\u001b[34m\u001b[1mwandb\u001b[0m: \tcriterion: gini\n",
      "\u001b[34m\u001b[1mwandb\u001b[0m: \tmax_depth: 5\n",
      "\u001b[34m\u001b[1mwandb\u001b[0m: \tmax_features: auto\n",
      "\u001b[34m\u001b[1mwandb\u001b[0m: \tmin_samples_leaf: 10\n",
      "\u001b[34m\u001b[1mwandb\u001b[0m: \tmin_samples_split: 5\n",
      "\u001b[34m\u001b[1mwandb\u001b[0m: \toversample: True\n",
      "\u001b[34m\u001b[1mwandb\u001b[0m: \trandom_state: 5603\n",
      "\u001b[34m\u001b[1mwandb\u001b[0m: \trandom_state_split: 4505\n",
      "\u001b[34m\u001b[1mwandb\u001b[0m: \tsplitter: best\n",
      "\u001b[34m\u001b[1mwandb\u001b[0m: \ttest_size: 0.2\n",
      "\u001b[34m\u001b[1mwandb\u001b[0m: \tundersample: False\n",
      "Failed to detect the name of this notebook, you can set it manually with the WANDB_NOTEBOOK_NAME environment variable to enable code saving.\n",
      "\u001b[34m\u001b[1mwandb\u001b[0m: \u001b[33mWARNING\u001b[0m Ignored wandb.init() arg project when running a sweep.\n"
     ]
    },
    {
     "data": {
      "text/html": [
       "Tracking run with wandb version 0.15.3"
      ],
      "text/plain": [
       "<IPython.core.display.HTML object>"
      ]
     },
     "metadata": {},
     "output_type": "display_data"
    },
    {
     "data": {
      "text/html": [
       "Run data is saved locally in <code>/Users/leabuetler/git_repos/06_Semester/cdl1/Sensor-Klassifikation-ohne-Deep-Learning/wandb/run-20230523_112118-tn2lbl36</code>"
      ],
      "text/plain": [
       "<IPython.core.display.HTML object>"
      ]
     },
     "metadata": {},
     "output_type": "display_data"
    },
    {
     "data": {
      "text/html": [
       "Syncing run <strong><a href='https://wandb.ai/fhnw-cdl1/01-decision-tree/runs/tn2lbl36' target=\"_blank\">royal-sweep-2</a></strong> to <a href='https://wandb.ai/fhnw-cdl1/01-decision-tree' target=\"_blank\">Weights & Biases</a> (<a href='https://wandb.me/run' target=\"_blank\">docs</a>)<br/>Sweep page: <a href='https://wandb.ai/fhnw-cdl1/01-decision-tree/sweeps/nwsamvtg' target=\"_blank\">https://wandb.ai/fhnw-cdl1/01-decision-tree/sweeps/nwsamvtg</a>"
      ],
      "text/plain": [
       "<IPython.core.display.HTML object>"
      ]
     },
     "metadata": {},
     "output_type": "display_data"
    },
    {
     "data": {
      "text/html": [
       " View project at <a href='https://wandb.ai/fhnw-cdl1/01-decision-tree' target=\"_blank\">https://wandb.ai/fhnw-cdl1/01-decision-tree</a>"
      ],
      "text/plain": [
       "<IPython.core.display.HTML object>"
      ]
     },
     "metadata": {},
     "output_type": "display_data"
    },
    {
     "data": {
      "text/html": [
       " View sweep at <a href='https://wandb.ai/fhnw-cdl1/01-decision-tree/sweeps/nwsamvtg' target=\"_blank\">https://wandb.ai/fhnw-cdl1/01-decision-tree/sweeps/nwsamvtg</a>"
      ],
      "text/plain": [
       "<IPython.core.display.HTML object>"
      ]
     },
     "metadata": {},
     "output_type": "display_data"
    },
    {
     "data": {
      "text/html": [
       " View run at <a href='https://wandb.ai/fhnw-cdl1/01-decision-tree/runs/tn2lbl36' target=\"_blank\">https://wandb.ai/fhnw-cdl1/01-decision-tree/runs/tn2lbl36</a>"
      ],
      "text/plain": [
       "<IPython.core.display.HTML object>"
      ]
     },
     "metadata": {},
     "output_type": "display_data"
    },
    {
     "name": "stdout",
     "output_type": "stream",
     "text": [
      "oversample dataset\n"
     ]
    },
    {
     "name": "stderr",
     "output_type": "stream",
     "text": [
      "/Users/leabuetler/opt/anaconda3/envs/sensor_challenge/lib/python3.9/site-packages/sklearn/tree/_classes.py:269: FutureWarning: `max_features='auto'` has been deprecated in 1.1 and will be removed in 1.3. To keep the past behaviour, explicitly set `max_features='sqrt'`.\n",
      "  warnings.warn(\n"
     ]
    },
    {
     "data": {
      "text/html": [
       "Waiting for W&B process to finish... <strong style=\"color:green\">(success).</strong>"
      ],
      "text/plain": [
       "<IPython.core.display.HTML object>"
      ]
     },
     "metadata": {},
     "output_type": "display_data"
    },
    {
     "data": {
      "text/html": [
       "<style>\n",
       "    table.wandb td:nth-child(1) { padding: 0 10px; text-align: left ; width: auto;} td:nth-child(2) {text-align: left ; width: 100%}\n",
       "    .wandb-row { display: flex; flex-direction: row; flex-wrap: wrap; justify-content: flex-start; width: 100% }\n",
       "    .wandb-col { display: flex; flex-direction: column; flex-basis: 100%; flex: 1; padding: 10px; }\n",
       "    </style>\n",
       "<div class=\"wandb-row\"><div class=\"wandb-col\"><h3>Run history:</h3><br/><table class=\"wandb\"><tr><td>accuracy_train</td><td>▁</td></tr><tr><td>accuracy_val</td><td>▁</td></tr><tr><td>f1_train</td><td>▁</td></tr><tr><td>f1_val</td><td>▁</td></tr><tr><td>precision_train</td><td>▁</td></tr><tr><td>precision_val</td><td>▁</td></tr><tr><td>recall_train</td><td>▁</td></tr><tr><td>recall_val</td><td>▁</td></tr></table><br/></div><div class=\"wandb-col\"><h3>Run summary:</h3><br/><table class=\"wandb\"><tr><td>accuracy_train</td><td>0.81469</td></tr><tr><td>accuracy_val</td><td>0.52369</td></tr><tr><td>f1_train</td><td>0.81734</td></tr><tr><td>f1_val</td><td>0.54044</td></tr><tr><td>precision_train</td><td>0.82493</td></tr><tr><td>precision_val</td><td>0.62466</td></tr><tr><td>recall_train</td><td>0.81469</td></tr><tr><td>recall_val</td><td>0.52369</td></tr></table><br/></div></div>"
      ],
      "text/plain": [
       "<IPython.core.display.HTML object>"
      ]
     },
     "metadata": {},
     "output_type": "display_data"
    },
    {
     "data": {
      "text/html": [
       " View run <strong style=\"color:#cdcd00\">royal-sweep-2</strong> at: <a href='https://wandb.ai/fhnw-cdl1/01-decision-tree/runs/tn2lbl36' target=\"_blank\">https://wandb.ai/fhnw-cdl1/01-decision-tree/runs/tn2lbl36</a><br/>Synced 6 W&B file(s), 0 media file(s), 0 artifact file(s) and 0 other file(s)"
      ],
      "text/plain": [
       "<IPython.core.display.HTML object>"
      ]
     },
     "metadata": {},
     "output_type": "display_data"
    },
    {
     "data": {
      "text/html": [
       "Find logs at: <code>./wandb/run-20230523_112118-tn2lbl36/logs</code>"
      ],
      "text/plain": [
       "<IPython.core.display.HTML object>"
      ]
     },
     "metadata": {},
     "output_type": "display_data"
    },
    {
     "name": "stderr",
     "output_type": "stream",
     "text": [
      "\u001b[34m\u001b[1mwandb\u001b[0m: Agent Starting Run: d558669q with config:\n",
      "\u001b[34m\u001b[1mwandb\u001b[0m: \tccp_alpha: 0.01\n",
      "\u001b[34m\u001b[1mwandb\u001b[0m: \tclass_weight: balanced\n",
      "\u001b[34m\u001b[1mwandb\u001b[0m: \tcriterion: gini\n",
      "\u001b[34m\u001b[1mwandb\u001b[0m: \tmax_depth: 5\n",
      "\u001b[34m\u001b[1mwandb\u001b[0m: \tmax_features: auto\n",
      "\u001b[34m\u001b[1mwandb\u001b[0m: \tmin_samples_leaf: 10\n",
      "\u001b[34m\u001b[1mwandb\u001b[0m: \tmin_samples_split: 5\n",
      "\u001b[34m\u001b[1mwandb\u001b[0m: \toversample: True\n",
      "\u001b[34m\u001b[1mwandb\u001b[0m: \trandom_state: 4882\n",
      "\u001b[34m\u001b[1mwandb\u001b[0m: \trandom_state_split: 4115\n",
      "\u001b[34m\u001b[1mwandb\u001b[0m: \tsplitter: best\n",
      "\u001b[34m\u001b[1mwandb\u001b[0m: \ttest_size: 0.2\n",
      "\u001b[34m\u001b[1mwandb\u001b[0m: \tundersample: False\n",
      "Failed to detect the name of this notebook, you can set it manually with the WANDB_NOTEBOOK_NAME environment variable to enable code saving.\n",
      "\u001b[34m\u001b[1mwandb\u001b[0m: \u001b[33mWARNING\u001b[0m Ignored wandb.init() arg project when running a sweep.\n"
     ]
    },
    {
     "data": {
      "text/html": [
       "Tracking run with wandb version 0.15.3"
      ],
      "text/plain": [
       "<IPython.core.display.HTML object>"
      ]
     },
     "metadata": {},
     "output_type": "display_data"
    },
    {
     "data": {
      "text/html": [
       "Run data is saved locally in <code>/Users/leabuetler/git_repos/06_Semester/cdl1/Sensor-Klassifikation-ohne-Deep-Learning/wandb/run-20230523_112342-d558669q</code>"
      ],
      "text/plain": [
       "<IPython.core.display.HTML object>"
      ]
     },
     "metadata": {},
     "output_type": "display_data"
    },
    {
     "data": {
      "text/html": [
       "Syncing run <strong><a href='https://wandb.ai/fhnw-cdl1/01-decision-tree/runs/d558669q' target=\"_blank\">devout-sweep-3</a></strong> to <a href='https://wandb.ai/fhnw-cdl1/01-decision-tree' target=\"_blank\">Weights & Biases</a> (<a href='https://wandb.me/run' target=\"_blank\">docs</a>)<br/>Sweep page: <a href='https://wandb.ai/fhnw-cdl1/01-decision-tree/sweeps/nwsamvtg' target=\"_blank\">https://wandb.ai/fhnw-cdl1/01-decision-tree/sweeps/nwsamvtg</a>"
      ],
      "text/plain": [
       "<IPython.core.display.HTML object>"
      ]
     },
     "metadata": {},
     "output_type": "display_data"
    },
    {
     "data": {
      "text/html": [
       " View project at <a href='https://wandb.ai/fhnw-cdl1/01-decision-tree' target=\"_blank\">https://wandb.ai/fhnw-cdl1/01-decision-tree</a>"
      ],
      "text/plain": [
       "<IPython.core.display.HTML object>"
      ]
     },
     "metadata": {},
     "output_type": "display_data"
    },
    {
     "data": {
      "text/html": [
       " View sweep at <a href='https://wandb.ai/fhnw-cdl1/01-decision-tree/sweeps/nwsamvtg' target=\"_blank\">https://wandb.ai/fhnw-cdl1/01-decision-tree/sweeps/nwsamvtg</a>"
      ],
      "text/plain": [
       "<IPython.core.display.HTML object>"
      ]
     },
     "metadata": {},
     "output_type": "display_data"
    },
    {
     "data": {
      "text/html": [
       " View run at <a href='https://wandb.ai/fhnw-cdl1/01-decision-tree/runs/d558669q' target=\"_blank\">https://wandb.ai/fhnw-cdl1/01-decision-tree/runs/d558669q</a>"
      ],
      "text/plain": [
       "<IPython.core.display.HTML object>"
      ]
     },
     "metadata": {},
     "output_type": "display_data"
    },
    {
     "name": "stdout",
     "output_type": "stream",
     "text": [
      "oversample dataset\n"
     ]
    },
    {
     "name": "stderr",
     "output_type": "stream",
     "text": [
      "/Users/leabuetler/opt/anaconda3/envs/sensor_challenge/lib/python3.9/site-packages/sklearn/tree/_classes.py:269: FutureWarning: `max_features='auto'` has been deprecated in 1.1 and will be removed in 1.3. To keep the past behaviour, explicitly set `max_features='sqrt'`.\n",
      "  warnings.warn(\n"
     ]
    },
    {
     "data": {
      "text/html": [
       "Waiting for W&B process to finish... <strong style=\"color:green\">(success).</strong>"
      ],
      "text/plain": [
       "<IPython.core.display.HTML object>"
      ]
     },
     "metadata": {},
     "output_type": "display_data"
    },
    {
     "data": {
      "application/vnd.jupyter.widget-view+json": {
       "model_id": "f719a36b59094036865a222bb23b3a54",
       "version_major": 2,
       "version_minor": 0
      },
      "text/plain": [
       "VBox(children=(Label(value='0.001 MB of 0.001 MB uploaded (0.000 MB deduped)\\r'), FloatProgress(value=1.0, max…"
      ]
     },
     "metadata": {},
     "output_type": "display_data"
    },
    {
     "data": {
      "text/html": [
       "<style>\n",
       "    table.wandb td:nth-child(1) { padding: 0 10px; text-align: left ; width: auto;} td:nth-child(2) {text-align: left ; width: 100%}\n",
       "    .wandb-row { display: flex; flex-direction: row; flex-wrap: wrap; justify-content: flex-start; width: 100% }\n",
       "    .wandb-col { display: flex; flex-direction: column; flex-basis: 100%; flex: 1; padding: 10px; }\n",
       "    </style>\n",
       "<div class=\"wandb-row\"><div class=\"wandb-col\"><h3>Run history:</h3><br/><table class=\"wandb\"><tr><td>accuracy_train</td><td>▁</td></tr><tr><td>accuracy_val</td><td>▁</td></tr><tr><td>f1_train</td><td>▁</td></tr><tr><td>f1_val</td><td>▁</td></tr><tr><td>precision_train</td><td>▁</td></tr><tr><td>precision_val</td><td>▁</td></tr><tr><td>recall_train</td><td>▁</td></tr><tr><td>recall_val</td><td>▁</td></tr></table><br/></div><div class=\"wandb-col\"><h3>Run summary:</h3><br/><table class=\"wandb\"><tr><td>accuracy_train</td><td>0.84222</td></tr><tr><td>accuracy_val</td><td>0.7049</td></tr><tr><td>f1_train</td><td>0.83799</td></tr><tr><td>f1_val</td><td>0.69125</td></tr><tr><td>precision_train</td><td>0.86536</td></tr><tr><td>precision_val</td><td>0.73999</td></tr><tr><td>recall_train</td><td>0.84222</td></tr><tr><td>recall_val</td><td>0.7049</td></tr></table><br/></div></div>"
      ],
      "text/plain": [
       "<IPython.core.display.HTML object>"
      ]
     },
     "metadata": {},
     "output_type": "display_data"
    },
    {
     "data": {
      "text/html": [
       " View run <strong style=\"color:#cdcd00\">devout-sweep-3</strong> at: <a href='https://wandb.ai/fhnw-cdl1/01-decision-tree/runs/d558669q' target=\"_blank\">https://wandb.ai/fhnw-cdl1/01-decision-tree/runs/d558669q</a><br/>Synced 6 W&B file(s), 0 media file(s), 0 artifact file(s) and 0 other file(s)"
      ],
      "text/plain": [
       "<IPython.core.display.HTML object>"
      ]
     },
     "metadata": {},
     "output_type": "display_data"
    },
    {
     "data": {
      "text/html": [
       "Find logs at: <code>./wandb/run-20230523_112342-d558669q/logs</code>"
      ],
      "text/plain": [
       "<IPython.core.display.HTML object>"
      ]
     },
     "metadata": {},
     "output_type": "display_data"
    },
    {
     "name": "stderr",
     "output_type": "stream",
     "text": [
      "\u001b[34m\u001b[1mwandb\u001b[0m: Agent Starting Run: l6ogm8ge with config:\n",
      "\u001b[34m\u001b[1mwandb\u001b[0m: \tccp_alpha: 0.01\n",
      "\u001b[34m\u001b[1mwandb\u001b[0m: \tclass_weight: balanced\n",
      "\u001b[34m\u001b[1mwandb\u001b[0m: \tcriterion: gini\n",
      "\u001b[34m\u001b[1mwandb\u001b[0m: \tmax_depth: 5\n",
      "\u001b[34m\u001b[1mwandb\u001b[0m: \tmax_features: auto\n",
      "\u001b[34m\u001b[1mwandb\u001b[0m: \tmin_samples_leaf: 10\n",
      "\u001b[34m\u001b[1mwandb\u001b[0m: \tmin_samples_split: 5\n",
      "\u001b[34m\u001b[1mwandb\u001b[0m: \toversample: True\n",
      "\u001b[34m\u001b[1mwandb\u001b[0m: \trandom_state: 4799\n",
      "\u001b[34m\u001b[1mwandb\u001b[0m: \trandom_state_split: 3252\n",
      "\u001b[34m\u001b[1mwandb\u001b[0m: \tsplitter: best\n",
      "\u001b[34m\u001b[1mwandb\u001b[0m: \ttest_size: 0.2\n",
      "\u001b[34m\u001b[1mwandb\u001b[0m: \tundersample: True\n",
      "Failed to detect the name of this notebook, you can set it manually with the WANDB_NOTEBOOK_NAME environment variable to enable code saving.\n",
      "\u001b[34m\u001b[1mwandb\u001b[0m: \u001b[33mWARNING\u001b[0m Ignored wandb.init() arg project when running a sweep.\n"
     ]
    },
    {
     "data": {
      "text/html": [
       "Tracking run with wandb version 0.15.3"
      ],
      "text/plain": [
       "<IPython.core.display.HTML object>"
      ]
     },
     "metadata": {},
     "output_type": "display_data"
    },
    {
     "data": {
      "text/html": [
       "Run data is saved locally in <code>/Users/leabuetler/git_repos/06_Semester/cdl1/Sensor-Klassifikation-ohne-Deep-Learning/wandb/run-20230523_112607-l6ogm8ge</code>"
      ],
      "text/plain": [
       "<IPython.core.display.HTML object>"
      ]
     },
     "metadata": {},
     "output_type": "display_data"
    },
    {
     "data": {
      "text/html": [
       "Syncing run <strong><a href='https://wandb.ai/fhnw-cdl1/01-decision-tree/runs/l6ogm8ge' target=\"_blank\">trim-sweep-4</a></strong> to <a href='https://wandb.ai/fhnw-cdl1/01-decision-tree' target=\"_blank\">Weights & Biases</a> (<a href='https://wandb.me/run' target=\"_blank\">docs</a>)<br/>Sweep page: <a href='https://wandb.ai/fhnw-cdl1/01-decision-tree/sweeps/nwsamvtg' target=\"_blank\">https://wandb.ai/fhnw-cdl1/01-decision-tree/sweeps/nwsamvtg</a>"
      ],
      "text/plain": [
       "<IPython.core.display.HTML object>"
      ]
     },
     "metadata": {},
     "output_type": "display_data"
    },
    {
     "data": {
      "text/html": [
       " View project at <a href='https://wandb.ai/fhnw-cdl1/01-decision-tree' target=\"_blank\">https://wandb.ai/fhnw-cdl1/01-decision-tree</a>"
      ],
      "text/plain": [
       "<IPython.core.display.HTML object>"
      ]
     },
     "metadata": {},
     "output_type": "display_data"
    },
    {
     "data": {
      "text/html": [
       " View sweep at <a href='https://wandb.ai/fhnw-cdl1/01-decision-tree/sweeps/nwsamvtg' target=\"_blank\">https://wandb.ai/fhnw-cdl1/01-decision-tree/sweeps/nwsamvtg</a>"
      ],
      "text/plain": [
       "<IPython.core.display.HTML object>"
      ]
     },
     "metadata": {},
     "output_type": "display_data"
    },
    {
     "data": {
      "text/html": [
       " View run at <a href='https://wandb.ai/fhnw-cdl1/01-decision-tree/runs/l6ogm8ge' target=\"_blank\">https://wandb.ai/fhnw-cdl1/01-decision-tree/runs/l6ogm8ge</a>"
      ],
      "text/plain": [
       "<IPython.core.display.HTML object>"
      ]
     },
     "metadata": {},
     "output_type": "display_data"
    },
    {
     "name": "stdout",
     "output_type": "stream",
     "text": [
      "no undersampling or oversampling\n"
     ]
    },
    {
     "name": "stderr",
     "output_type": "stream",
     "text": [
      "/Users/leabuetler/opt/anaconda3/envs/sensor_challenge/lib/python3.9/site-packages/sklearn/tree/_classes.py:269: FutureWarning: `max_features='auto'` has been deprecated in 1.1 and will be removed in 1.3. To keep the past behaviour, explicitly set `max_features='sqrt'`.\n",
      "  warnings.warn(\n"
     ]
    },
    {
     "data": {
      "text/html": [
       "Waiting for W&B process to finish... <strong style=\"color:green\">(success).</strong>"
      ],
      "text/plain": [
       "<IPython.core.display.HTML object>"
      ]
     },
     "metadata": {},
     "output_type": "display_data"
    },
    {
     "data": {
      "text/html": [
       "<style>\n",
       "    table.wandb td:nth-child(1) { padding: 0 10px; text-align: left ; width: auto;} td:nth-child(2) {text-align: left ; width: 100%}\n",
       "    .wandb-row { display: flex; flex-direction: row; flex-wrap: wrap; justify-content: flex-start; width: 100% }\n",
       "    .wandb-col { display: flex; flex-direction: column; flex-basis: 100%; flex: 1; padding: 10px; }\n",
       "    </style>\n",
       "<div class=\"wandb-row\"><div class=\"wandb-col\"><h3>Run history:</h3><br/><table class=\"wandb\"><tr><td>accuracy_train</td><td>▁</td></tr><tr><td>accuracy_val</td><td>▁</td></tr><tr><td>f1_train</td><td>▁</td></tr><tr><td>f1_val</td><td>▁</td></tr><tr><td>precision_train</td><td>▁</td></tr><tr><td>precision_val</td><td>▁</td></tr><tr><td>recall_train</td><td>▁</td></tr><tr><td>recall_val</td><td>▁</td></tr></table><br/></div><div class=\"wandb-col\"><h3>Run summary:</h3><br/><table class=\"wandb\"><tr><td>accuracy_train</td><td>0.85775</td></tr><tr><td>accuracy_val</td><td>0.66899</td></tr><tr><td>f1_train</td><td>0.85616</td></tr><tr><td>f1_val</td><td>0.67314</td></tr><tr><td>precision_train</td><td>0.85681</td></tr><tr><td>precision_val</td><td>0.69871</td></tr><tr><td>recall_train</td><td>0.85775</td></tr><tr><td>recall_val</td><td>0.66899</td></tr></table><br/></div></div>"
      ],
      "text/plain": [
       "<IPython.core.display.HTML object>"
      ]
     },
     "metadata": {},
     "output_type": "display_data"
    },
    {
     "data": {
      "text/html": [
       " View run <strong style=\"color:#cdcd00\">trim-sweep-4</strong> at: <a href='https://wandb.ai/fhnw-cdl1/01-decision-tree/runs/l6ogm8ge' target=\"_blank\">https://wandb.ai/fhnw-cdl1/01-decision-tree/runs/l6ogm8ge</a><br/>Synced 6 W&B file(s), 0 media file(s), 0 artifact file(s) and 0 other file(s)"
      ],
      "text/plain": [
       "<IPython.core.display.HTML object>"
      ]
     },
     "metadata": {},
     "output_type": "display_data"
    },
    {
     "data": {
      "text/html": [
       "Find logs at: <code>./wandb/run-20230523_112607-l6ogm8ge/logs</code>"
      ],
      "text/plain": [
       "<IPython.core.display.HTML object>"
      ]
     },
     "metadata": {},
     "output_type": "display_data"
    },
    {
     "name": "stderr",
     "output_type": "stream",
     "text": [
      "\u001b[34m\u001b[1mwandb\u001b[0m: Sweep Agent: Waiting for job.\n",
      "\u001b[34m\u001b[1mwandb\u001b[0m: Job received.\n",
      "\u001b[34m\u001b[1mwandb\u001b[0m: Agent Starting Run: 4grlwedv with config:\n",
      "\u001b[34m\u001b[1mwandb\u001b[0m: \tccp_alpha: 0.01\n",
      "\u001b[34m\u001b[1mwandb\u001b[0m: \tclass_weight: balanced\n",
      "\u001b[34m\u001b[1mwandb\u001b[0m: \tcriterion: gini\n",
      "\u001b[34m\u001b[1mwandb\u001b[0m: \tmax_depth: 5\n",
      "\u001b[34m\u001b[1mwandb\u001b[0m: \tmax_features: auto\n",
      "\u001b[34m\u001b[1mwandb\u001b[0m: \tmin_samples_leaf: 10\n",
      "\u001b[34m\u001b[1mwandb\u001b[0m: \tmin_samples_split: 5\n",
      "\u001b[34m\u001b[1mwandb\u001b[0m: \toversample: False\n",
      "\u001b[34m\u001b[1mwandb\u001b[0m: \trandom_state: 2400\n",
      "\u001b[34m\u001b[1mwandb\u001b[0m: \trandom_state_split: 3920\n",
      "\u001b[34m\u001b[1mwandb\u001b[0m: \tsplitter: best\n",
      "\u001b[34m\u001b[1mwandb\u001b[0m: \ttest_size: 0.2\n",
      "\u001b[34m\u001b[1mwandb\u001b[0m: \tundersample: False\n",
      "Failed to detect the name of this notebook, you can set it manually with the WANDB_NOTEBOOK_NAME environment variable to enable code saving.\n",
      "\u001b[34m\u001b[1mwandb\u001b[0m: \u001b[33mWARNING\u001b[0m Ignored wandb.init() arg project when running a sweep.\n"
     ]
    },
    {
     "data": {
      "text/html": [
       "Tracking run with wandb version 0.15.3"
      ],
      "text/plain": [
       "<IPython.core.display.HTML object>"
      ]
     },
     "metadata": {},
     "output_type": "display_data"
    },
    {
     "data": {
      "text/html": [
       "Run data is saved locally in <code>/Users/leabuetler/git_repos/06_Semester/cdl1/Sensor-Klassifikation-ohne-Deep-Learning/wandb/run-20230523_112732-4grlwedv</code>"
      ],
      "text/plain": [
       "<IPython.core.display.HTML object>"
      ]
     },
     "metadata": {},
     "output_type": "display_data"
    },
    {
     "data": {
      "text/html": [
       "Syncing run <strong><a href='https://wandb.ai/fhnw-cdl1/01-decision-tree/runs/4grlwedv' target=\"_blank\">apricot-sweep-5</a></strong> to <a href='https://wandb.ai/fhnw-cdl1/01-decision-tree' target=\"_blank\">Weights & Biases</a> (<a href='https://wandb.me/run' target=\"_blank\">docs</a>)<br/>Sweep page: <a href='https://wandb.ai/fhnw-cdl1/01-decision-tree/sweeps/nwsamvtg' target=\"_blank\">https://wandb.ai/fhnw-cdl1/01-decision-tree/sweeps/nwsamvtg</a>"
      ],
      "text/plain": [
       "<IPython.core.display.HTML object>"
      ]
     },
     "metadata": {},
     "output_type": "display_data"
    },
    {
     "data": {
      "text/html": [
       " View project at <a href='https://wandb.ai/fhnw-cdl1/01-decision-tree' target=\"_blank\">https://wandb.ai/fhnw-cdl1/01-decision-tree</a>"
      ],
      "text/plain": [
       "<IPython.core.display.HTML object>"
      ]
     },
     "metadata": {},
     "output_type": "display_data"
    },
    {
     "data": {
      "text/html": [
       " View sweep at <a href='https://wandb.ai/fhnw-cdl1/01-decision-tree/sweeps/nwsamvtg' target=\"_blank\">https://wandb.ai/fhnw-cdl1/01-decision-tree/sweeps/nwsamvtg</a>"
      ],
      "text/plain": [
       "<IPython.core.display.HTML object>"
      ]
     },
     "metadata": {},
     "output_type": "display_data"
    },
    {
     "data": {
      "text/html": [
       " View run at <a href='https://wandb.ai/fhnw-cdl1/01-decision-tree/runs/4grlwedv' target=\"_blank\">https://wandb.ai/fhnw-cdl1/01-decision-tree/runs/4grlwedv</a>"
      ],
      "text/plain": [
       "<IPython.core.display.HTML object>"
      ]
     },
     "metadata": {},
     "output_type": "display_data"
    },
    {
     "name": "stdout",
     "output_type": "stream",
     "text": [
      "no undersampling or oversampling\n"
     ]
    },
    {
     "name": "stderr",
     "output_type": "stream",
     "text": [
      "/Users/leabuetler/opt/anaconda3/envs/sensor_challenge/lib/python3.9/site-packages/sklearn/tree/_classes.py:269: FutureWarning: `max_features='auto'` has been deprecated in 1.1 and will be removed in 1.3. To keep the past behaviour, explicitly set `max_features='sqrt'`.\n",
      "  warnings.warn(\n"
     ]
    },
    {
     "data": {
      "text/html": [
       "Waiting for W&B process to finish... <strong style=\"color:green\">(success).</strong>"
      ],
      "text/plain": [
       "<IPython.core.display.HTML object>"
      ]
     },
     "metadata": {},
     "output_type": "display_data"
    },
    {
     "data": {
      "text/html": [
       "<style>\n",
       "    table.wandb td:nth-child(1) { padding: 0 10px; text-align: left ; width: auto;} td:nth-child(2) {text-align: left ; width: 100%}\n",
       "    .wandb-row { display: flex; flex-direction: row; flex-wrap: wrap; justify-content: flex-start; width: 100% }\n",
       "    .wandb-col { display: flex; flex-direction: column; flex-basis: 100%; flex: 1; padding: 10px; }\n",
       "    </style>\n",
       "<div class=\"wandb-row\"><div class=\"wandb-col\"><h3>Run history:</h3><br/><table class=\"wandb\"><tr><td>accuracy_train</td><td>▁</td></tr><tr><td>accuracy_val</td><td>▁</td></tr><tr><td>f1_train</td><td>▁</td></tr><tr><td>f1_val</td><td>▁</td></tr><tr><td>precision_train</td><td>▁</td></tr><tr><td>precision_val</td><td>▁</td></tr><tr><td>recall_train</td><td>▁</td></tr><tr><td>recall_val</td><td>▁</td></tr></table><br/></div><div class=\"wandb-col\"><h3>Run summary:</h3><br/><table class=\"wandb\"><tr><td>accuracy_train</td><td>0.73954</td></tr><tr><td>accuracy_val</td><td>0.69515</td></tr><tr><td>f1_train</td><td>0.74776</td></tr><tr><td>f1_val</td><td>0.69436</td></tr><tr><td>precision_train</td><td>0.79043</td></tr><tr><td>precision_val</td><td>0.71356</td></tr><tr><td>recall_train</td><td>0.73954</td></tr><tr><td>recall_val</td><td>0.69515</td></tr></table><br/></div></div>"
      ],
      "text/plain": [
       "<IPython.core.display.HTML object>"
      ]
     },
     "metadata": {},
     "output_type": "display_data"
    },
    {
     "data": {
      "text/html": [
       " View run <strong style=\"color:#cdcd00\">apricot-sweep-5</strong> at: <a href='https://wandb.ai/fhnw-cdl1/01-decision-tree/runs/4grlwedv' target=\"_blank\">https://wandb.ai/fhnw-cdl1/01-decision-tree/runs/4grlwedv</a><br/>Synced 6 W&B file(s), 0 media file(s), 0 artifact file(s) and 0 other file(s)"
      ],
      "text/plain": [
       "<IPython.core.display.HTML object>"
      ]
     },
     "metadata": {},
     "output_type": "display_data"
    },
    {
     "data": {
      "text/html": [
       "Find logs at: <code>./wandb/run-20230523_112732-4grlwedv/logs</code>"
      ],
      "text/plain": [
       "<IPython.core.display.HTML object>"
      ]
     },
     "metadata": {},
     "output_type": "display_data"
    },
    {
     "name": "stderr",
     "output_type": "stream",
     "text": [
      "\u001b[34m\u001b[1mwandb\u001b[0m: Sweep Agent: Waiting for job.\n",
      "\u001b[34m\u001b[1mwandb\u001b[0m: Job received.\n",
      "\u001b[34m\u001b[1mwandb\u001b[0m: Agent Starting Run: fnwyc0zh with config:\n",
      "\u001b[34m\u001b[1mwandb\u001b[0m: \tccp_alpha: 0.01\n",
      "\u001b[34m\u001b[1mwandb\u001b[0m: \tclass_weight: balanced\n",
      "\u001b[34m\u001b[1mwandb\u001b[0m: \tcriterion: gini\n",
      "\u001b[34m\u001b[1mwandb\u001b[0m: \tmax_depth: 5\n",
      "\u001b[34m\u001b[1mwandb\u001b[0m: \tmax_features: auto\n",
      "\u001b[34m\u001b[1mwandb\u001b[0m: \tmin_samples_leaf: 10\n",
      "\u001b[34m\u001b[1mwandb\u001b[0m: \tmin_samples_split: 5\n",
      "\u001b[34m\u001b[1mwandb\u001b[0m: \toversample: False\n",
      "\u001b[34m\u001b[1mwandb\u001b[0m: \trandom_state: 1644\n",
      "\u001b[34m\u001b[1mwandb\u001b[0m: \trandom_state_split: 2500\n",
      "\u001b[34m\u001b[1mwandb\u001b[0m: \tsplitter: best\n",
      "\u001b[34m\u001b[1mwandb\u001b[0m: \ttest_size: 0.2\n",
      "\u001b[34m\u001b[1mwandb\u001b[0m: \tundersample: True\n",
      "Failed to detect the name of this notebook, you can set it manually with the WANDB_NOTEBOOK_NAME environment variable to enable code saving.\n",
      "\u001b[34m\u001b[1mwandb\u001b[0m: \u001b[33mWARNING\u001b[0m Ignored wandb.init() arg project when running a sweep.\n"
     ]
    },
    {
     "data": {
      "text/html": [
       "Tracking run with wandb version 0.15.3"
      ],
      "text/plain": [
       "<IPython.core.display.HTML object>"
      ]
     },
     "metadata": {},
     "output_type": "display_data"
    },
    {
     "data": {
      "text/html": [
       "Run data is saved locally in <code>/Users/leabuetler/git_repos/06_Semester/cdl1/Sensor-Klassifikation-ohne-Deep-Learning/wandb/run-20230523_112858-fnwyc0zh</code>"
      ],
      "text/plain": [
       "<IPython.core.display.HTML object>"
      ]
     },
     "metadata": {},
     "output_type": "display_data"
    },
    {
     "data": {
      "text/html": [
       "Syncing run <strong><a href='https://wandb.ai/fhnw-cdl1/01-decision-tree/runs/fnwyc0zh' target=\"_blank\">silvery-sweep-6</a></strong> to <a href='https://wandb.ai/fhnw-cdl1/01-decision-tree' target=\"_blank\">Weights & Biases</a> (<a href='https://wandb.me/run' target=\"_blank\">docs</a>)<br/>Sweep page: <a href='https://wandb.ai/fhnw-cdl1/01-decision-tree/sweeps/nwsamvtg' target=\"_blank\">https://wandb.ai/fhnw-cdl1/01-decision-tree/sweeps/nwsamvtg</a>"
      ],
      "text/plain": [
       "<IPython.core.display.HTML object>"
      ]
     },
     "metadata": {},
     "output_type": "display_data"
    },
    {
     "data": {
      "text/html": [
       " View project at <a href='https://wandb.ai/fhnw-cdl1/01-decision-tree' target=\"_blank\">https://wandb.ai/fhnw-cdl1/01-decision-tree</a>"
      ],
      "text/plain": [
       "<IPython.core.display.HTML object>"
      ]
     },
     "metadata": {},
     "output_type": "display_data"
    },
    {
     "data": {
      "text/html": [
       " View sweep at <a href='https://wandb.ai/fhnw-cdl1/01-decision-tree/sweeps/nwsamvtg' target=\"_blank\">https://wandb.ai/fhnw-cdl1/01-decision-tree/sweeps/nwsamvtg</a>"
      ],
      "text/plain": [
       "<IPython.core.display.HTML object>"
      ]
     },
     "metadata": {},
     "output_type": "display_data"
    },
    {
     "data": {
      "text/html": [
       " View run at <a href='https://wandb.ai/fhnw-cdl1/01-decision-tree/runs/fnwyc0zh' target=\"_blank\">https://wandb.ai/fhnw-cdl1/01-decision-tree/runs/fnwyc0zh</a>"
      ],
      "text/plain": [
       "<IPython.core.display.HTML object>"
      ]
     },
     "metadata": {},
     "output_type": "display_data"
    },
    {
     "name": "stdout",
     "output_type": "stream",
     "text": [
      "undersample dataset\n"
     ]
    },
    {
     "name": "stderr",
     "output_type": "stream",
     "text": [
      "/Users/leabuetler/opt/anaconda3/envs/sensor_challenge/lib/python3.9/site-packages/sklearn/tree/_classes.py:269: FutureWarning: `max_features='auto'` has been deprecated in 1.1 and will be removed in 1.3. To keep the past behaviour, explicitly set `max_features='sqrt'`.\n",
      "  warnings.warn(\n"
     ]
    },
    {
     "data": {
      "text/html": [
       "Waiting for W&B process to finish... <strong style=\"color:green\">(success).</strong>"
      ],
      "text/plain": [
       "<IPython.core.display.HTML object>"
      ]
     },
     "metadata": {},
     "output_type": "display_data"
    },
    {
     "data": {
      "application/vnd.jupyter.widget-view+json": {
       "model_id": "a20fdaec3f4e447f9e7de7c8779a3fce",
       "version_major": 2,
       "version_minor": 0
      },
      "text/plain": [
       "VBox(children=(Label(value='0.001 MB of 0.001 MB uploaded (0.000 MB deduped)\\r'), FloatProgress(value=1.0, max…"
      ]
     },
     "metadata": {},
     "output_type": "display_data"
    },
    {
     "data": {
      "text/html": [
       "<style>\n",
       "    table.wandb td:nth-child(1) { padding: 0 10px; text-align: left ; width: auto;} td:nth-child(2) {text-align: left ; width: 100%}\n",
       "    .wandb-row { display: flex; flex-direction: row; flex-wrap: wrap; justify-content: flex-start; width: 100% }\n",
       "    .wandb-col { display: flex; flex-direction: column; flex-basis: 100%; flex: 1; padding: 10px; }\n",
       "    </style>\n",
       "<div class=\"wandb-row\"><div class=\"wandb-col\"><h3>Run history:</h3><br/><table class=\"wandb\"><tr><td>accuracy_train</td><td>▁</td></tr><tr><td>accuracy_val</td><td>▁</td></tr><tr><td>f1_train</td><td>▁</td></tr><tr><td>f1_val</td><td>▁</td></tr><tr><td>precision_train</td><td>▁</td></tr><tr><td>precision_val</td><td>▁</td></tr><tr><td>recall_train</td><td>▁</td></tr><tr><td>recall_val</td><td>▁</td></tr></table><br/></div><div class=\"wandb-col\"><h3>Run summary:</h3><br/><table class=\"wandb\"><tr><td>accuracy_train</td><td>0.84028</td></tr><tr><td>accuracy_val</td><td>0.68928</td></tr><tr><td>f1_train</td><td>0.84267</td></tr><tr><td>f1_val</td><td>0.68758</td></tr><tr><td>precision_train</td><td>0.85184</td></tr><tr><td>precision_val</td><td>0.71349</td></tr><tr><td>recall_train</td><td>0.84028</td></tr><tr><td>recall_val</td><td>0.68928</td></tr></table><br/></div></div>"
      ],
      "text/plain": [
       "<IPython.core.display.HTML object>"
      ]
     },
     "metadata": {},
     "output_type": "display_data"
    },
    {
     "data": {
      "text/html": [
       " View run <strong style=\"color:#cdcd00\">silvery-sweep-6</strong> at: <a href='https://wandb.ai/fhnw-cdl1/01-decision-tree/runs/fnwyc0zh' target=\"_blank\">https://wandb.ai/fhnw-cdl1/01-decision-tree/runs/fnwyc0zh</a><br/>Synced 6 W&B file(s), 0 media file(s), 0 artifact file(s) and 0 other file(s)"
      ],
      "text/plain": [
       "<IPython.core.display.HTML object>"
      ]
     },
     "metadata": {},
     "output_type": "display_data"
    },
    {
     "data": {
      "text/html": [
       "Find logs at: <code>./wandb/run-20230523_112858-fnwyc0zh/logs</code>"
      ],
      "text/plain": [
       "<IPython.core.display.HTML object>"
      ]
     },
     "metadata": {},
     "output_type": "display_data"
    },
    {
     "name": "stderr",
     "output_type": "stream",
     "text": [
      "\u001b[34m\u001b[1mwandb\u001b[0m: Agent Starting Run: vagmhjgb with config:\n",
      "\u001b[34m\u001b[1mwandb\u001b[0m: \tccp_alpha: 0.01\n",
      "\u001b[34m\u001b[1mwandb\u001b[0m: \tclass_weight: balanced\n",
      "\u001b[34m\u001b[1mwandb\u001b[0m: \tcriterion: gini\n",
      "\u001b[34m\u001b[1mwandb\u001b[0m: \tmax_depth: 5\n",
      "\u001b[34m\u001b[1mwandb\u001b[0m: \tmax_features: auto\n",
      "\u001b[34m\u001b[1mwandb\u001b[0m: \tmin_samples_leaf: 10\n",
      "\u001b[34m\u001b[1mwandb\u001b[0m: \tmin_samples_split: 5\n",
      "\u001b[34m\u001b[1mwandb\u001b[0m: \toversample: True\n",
      "\u001b[34m\u001b[1mwandb\u001b[0m: \trandom_state: 7099\n",
      "\u001b[34m\u001b[1mwandb\u001b[0m: \trandom_state_split: 8237\n",
      "\u001b[34m\u001b[1mwandb\u001b[0m: \tsplitter: best\n",
      "\u001b[34m\u001b[1mwandb\u001b[0m: \ttest_size: 0.2\n",
      "\u001b[34m\u001b[1mwandb\u001b[0m: \tundersample: True\n",
      "Failed to detect the name of this notebook, you can set it manually with the WANDB_NOTEBOOK_NAME environment variable to enable code saving.\n",
      "\u001b[34m\u001b[1mwandb\u001b[0m: \u001b[33mWARNING\u001b[0m Ignored wandb.init() arg project when running a sweep.\n"
     ]
    },
    {
     "data": {
      "text/html": [
       "Tracking run with wandb version 0.15.3"
      ],
      "text/plain": [
       "<IPython.core.display.HTML object>"
      ]
     },
     "metadata": {},
     "output_type": "display_data"
    },
    {
     "data": {
      "text/html": [
       "Run data is saved locally in <code>/Users/leabuetler/git_repos/06_Semester/cdl1/Sensor-Klassifikation-ohne-Deep-Learning/wandb/run-20230523_112949-vagmhjgb</code>"
      ],
      "text/plain": [
       "<IPython.core.display.HTML object>"
      ]
     },
     "metadata": {},
     "output_type": "display_data"
    },
    {
     "data": {
      "text/html": [
       "Syncing run <strong><a href='https://wandb.ai/fhnw-cdl1/01-decision-tree/runs/vagmhjgb' target=\"_blank\">solar-sweep-7</a></strong> to <a href='https://wandb.ai/fhnw-cdl1/01-decision-tree' target=\"_blank\">Weights & Biases</a> (<a href='https://wandb.me/run' target=\"_blank\">docs</a>)<br/>Sweep page: <a href='https://wandb.ai/fhnw-cdl1/01-decision-tree/sweeps/nwsamvtg' target=\"_blank\">https://wandb.ai/fhnw-cdl1/01-decision-tree/sweeps/nwsamvtg</a>"
      ],
      "text/plain": [
       "<IPython.core.display.HTML object>"
      ]
     },
     "metadata": {},
     "output_type": "display_data"
    },
    {
     "data": {
      "text/html": [
       " View project at <a href='https://wandb.ai/fhnw-cdl1/01-decision-tree' target=\"_blank\">https://wandb.ai/fhnw-cdl1/01-decision-tree</a>"
      ],
      "text/plain": [
       "<IPython.core.display.HTML object>"
      ]
     },
     "metadata": {},
     "output_type": "display_data"
    },
    {
     "data": {
      "text/html": [
       " View sweep at <a href='https://wandb.ai/fhnw-cdl1/01-decision-tree/sweeps/nwsamvtg' target=\"_blank\">https://wandb.ai/fhnw-cdl1/01-decision-tree/sweeps/nwsamvtg</a>"
      ],
      "text/plain": [
       "<IPython.core.display.HTML object>"
      ]
     },
     "metadata": {},
     "output_type": "display_data"
    },
    {
     "data": {
      "text/html": [
       " View run at <a href='https://wandb.ai/fhnw-cdl1/01-decision-tree/runs/vagmhjgb' target=\"_blank\">https://wandb.ai/fhnw-cdl1/01-decision-tree/runs/vagmhjgb</a>"
      ],
      "text/plain": [
       "<IPython.core.display.HTML object>"
      ]
     },
     "metadata": {},
     "output_type": "display_data"
    },
    {
     "name": "stdout",
     "output_type": "stream",
     "text": [
      "no undersampling or oversampling\n"
     ]
    },
    {
     "name": "stderr",
     "output_type": "stream",
     "text": [
      "/Users/leabuetler/opt/anaconda3/envs/sensor_challenge/lib/python3.9/site-packages/sklearn/tree/_classes.py:269: FutureWarning: `max_features='auto'` has been deprecated in 1.1 and will be removed in 1.3. To keep the past behaviour, explicitly set `max_features='sqrt'`.\n",
      "  warnings.warn(\n"
     ]
    },
    {
     "data": {
      "text/html": [
       "Waiting for W&B process to finish... <strong style=\"color:green\">(success).</strong>"
      ],
      "text/plain": [
       "<IPython.core.display.HTML object>"
      ]
     },
     "metadata": {},
     "output_type": "display_data"
    },
    {
     "data": {
      "text/html": [
       "<style>\n",
       "    table.wandb td:nth-child(1) { padding: 0 10px; text-align: left ; width: auto;} td:nth-child(2) {text-align: left ; width: 100%}\n",
       "    .wandb-row { display: flex; flex-direction: row; flex-wrap: wrap; justify-content: flex-start; width: 100% }\n",
       "    .wandb-col { display: flex; flex-direction: column; flex-basis: 100%; flex: 1; padding: 10px; }\n",
       "    </style>\n",
       "<div class=\"wandb-row\"><div class=\"wandb-col\"><h3>Run history:</h3><br/><table class=\"wandb\"><tr><td>accuracy_train</td><td>▁</td></tr><tr><td>accuracy_val</td><td>▁</td></tr><tr><td>f1_train</td><td>▁</td></tr><tr><td>f1_val</td><td>▁</td></tr><tr><td>precision_train</td><td>▁</td></tr><tr><td>precision_val</td><td>▁</td></tr><tr><td>recall_train</td><td>▁</td></tr><tr><td>recall_val</td><td>▁</td></tr></table><br/></div><div class=\"wandb-col\"><h3>Run summary:</h3><br/><table class=\"wandb\"><tr><td>accuracy_train</td><td>0.80456</td></tr><tr><td>accuracy_val</td><td>0.56609</td></tr><tr><td>f1_train</td><td>0.79687</td></tr><tr><td>f1_val</td><td>0.57982</td></tr><tr><td>precision_train</td><td>0.81345</td></tr><tr><td>precision_val</td><td>0.64231</td></tr><tr><td>recall_train</td><td>0.80456</td></tr><tr><td>recall_val</td><td>0.56609</td></tr></table><br/></div></div>"
      ],
      "text/plain": [
       "<IPython.core.display.HTML object>"
      ]
     },
     "metadata": {},
     "output_type": "display_data"
    },
    {
     "data": {
      "text/html": [
       " View run <strong style=\"color:#cdcd00\">solar-sweep-7</strong> at: <a href='https://wandb.ai/fhnw-cdl1/01-decision-tree/runs/vagmhjgb' target=\"_blank\">https://wandb.ai/fhnw-cdl1/01-decision-tree/runs/vagmhjgb</a><br/>Synced 6 W&B file(s), 0 media file(s), 0 artifact file(s) and 0 other file(s)"
      ],
      "text/plain": [
       "<IPython.core.display.HTML object>"
      ]
     },
     "metadata": {},
     "output_type": "display_data"
    },
    {
     "data": {
      "text/html": [
       "Find logs at: <code>./wandb/run-20230523_112949-vagmhjgb/logs</code>"
      ],
      "text/plain": [
       "<IPython.core.display.HTML object>"
      ]
     },
     "metadata": {},
     "output_type": "display_data"
    },
    {
     "name": "stderr",
     "output_type": "stream",
     "text": [
      "\u001b[34m\u001b[1mwandb\u001b[0m: Agent Starting Run: r74upfyq with config:\n",
      "\u001b[34m\u001b[1mwandb\u001b[0m: \tccp_alpha: 0.01\n",
      "\u001b[34m\u001b[1mwandb\u001b[0m: \tclass_weight: balanced\n",
      "\u001b[34m\u001b[1mwandb\u001b[0m: \tcriterion: gini\n",
      "\u001b[34m\u001b[1mwandb\u001b[0m: \tmax_depth: 5\n",
      "\u001b[34m\u001b[1mwandb\u001b[0m: \tmax_features: auto\n",
      "\u001b[34m\u001b[1mwandb\u001b[0m: \tmin_samples_leaf: 10\n",
      "\u001b[34m\u001b[1mwandb\u001b[0m: \tmin_samples_split: 5\n",
      "\u001b[34m\u001b[1mwandb\u001b[0m: \toversample: True\n",
      "\u001b[34m\u001b[1mwandb\u001b[0m: \trandom_state: 5677\n",
      "\u001b[34m\u001b[1mwandb\u001b[0m: \trandom_state_split: 5213\n",
      "\u001b[34m\u001b[1mwandb\u001b[0m: \tsplitter: best\n",
      "\u001b[34m\u001b[1mwandb\u001b[0m: \ttest_size: 0.2\n",
      "\u001b[34m\u001b[1mwandb\u001b[0m: \tundersample: False\n",
      "Failed to detect the name of this notebook, you can set it manually with the WANDB_NOTEBOOK_NAME environment variable to enable code saving.\n",
      "\u001b[34m\u001b[1mwandb\u001b[0m: \u001b[33mWARNING\u001b[0m Ignored wandb.init() arg project when running a sweep.\n",
      "\u001b[34m\u001b[1mwandb\u001b[0m: Ctrl + C detected. Stopping sweep.\n"
     ]
    }
   ],
   "source": [
    "# Define sweep config for decision tree\n",
    "sweep_config_dt = {\n",
    "    'method': 'random',\n",
    "    'metric': {\n",
    "        'name': 'accuracy_val',\n",
    "        'goal': 'maximize',\n",
    "    },\n",
    "    'parameters': {\n",
    "        'criterion': {\n",
    "            'values': ['gini']\n",
    "        },\n",
    "        'splitter': {\n",
    "            'values': ['best']\n",
    "        },\n",
    "        'max_depth': {\n",
    "            'values': [5]\n",
    "        },\n",
    "        'min_samples_split': {\n",
    "            'values': [5]\n",
    "        },\n",
    "        'min_samples_leaf': {\n",
    "            'values': [10]\n",
    "        },\n",
    "        'max_features': {\n",
    "            'values': ['auto']\n",
    "        },\n",
    "        'test_size': {\n",
    "            'values': [0.2]\n",
    "        },\n",
    "        'random_state': {\n",
    "            'min': 1,\n",
    "            'max': 10000,\n",
    "        },\n",
    "        'random_state_split': {\n",
    "            'min': 1,\n",
    "            'max': 10000,\n",
    "        },\n",
    "        'undersample': {\n",
    "            'values': [True, False]\n",
    "        },\n",
    "        'oversample': {\n",
    "            'values': [True, False]\n",
    "        },\n",
    "        'class_weight': {\n",
    "            'values': ['balanced']\n",
    "        },\n",
    "        'ccp_alpha': {\n",
    "            'values': [0.01]\n",
    "        }\n",
    "    }\n",
    "}\n",
    "\n",
    "# Initialize sweep\n",
    "sweep_id = wandb.sweep(sweep_config_dt, project=\"01-decision-tree\")\n",
    "\n",
    "# Define sweep function\n",
    "def sweep_dt_train():\n",
    "    # Initialize wandb\n",
    "    wandb.init(project=\"01-decision-tree\")\n",
    "\n",
    "    # Get hyperparameters\n",
    "    criterion = wandb.config.criterion\n",
    "    splitter = wandb.config.splitter\n",
    "    min_samples_split = wandb.config.min_samples_split\n",
    "    max_depth = wandb.config.max_depth\n",
    "    min_samples_leaf = wandb.config.min_samples_leaf\n",
    "    max_features = wandb.config.max_features\n",
    "    class_weight = wandb.config.class_weight\n",
    "    ccp_alpha = wandb.config.ccp_alpha\n",
    "    random_state = wandb.config.random_state\n",
    "\n",
    "    # Parametres for preprocess data \n",
    "    test_size = wandb.config.test_size\n",
    "    random_state_split = wandb.config.random_state_split\n",
    "    undersample = wandb.config.undersample\n",
    "    oversample = wandb.config.oversample\n",
    "\n",
    "    # load data and process it \n",
    "    X_train, y_train, X_val, y_val = preprocess_data(data, \n",
    "                                                     test_size=test_size, \n",
    "                                                     random_state_split=random_state_split, \n",
    "                                                     undersample=undersample, \n",
    "                                                     oversample=oversample)\n",
    "    \n",
    "    # create a decision tree model\n",
    "    dt_model = DecisionTreeClassifier(criterion=criterion,\n",
    "                                      splitter=splitter,\n",
    "                                      max_depth=max_depth,\n",
    "                                      min_samples_split=min_samples_split,\n",
    "                                      min_samples_leaf=min_samples_leaf,\n",
    "                                      max_features=max_features,\n",
    "                                      class_weight=class_weight,\n",
    "                                      ccp_alpha=ccp_alpha,\n",
    "                                      random_state=random_state)\n",
    "    \n",
    "    # fit the decision tree model\n",
    "    dt_model.fit(X_train, y_train)\n",
    "\n",
    "    # predict the classes for the val data\n",
    "    prediction_val = dt_model.predict(X_val)\n",
    "    prediction_train = dt_model.predict(X_train)\n",
    "\n",
    "    # calculate the accuracy of the decision tree model with train and val data\n",
    "    accuracy_val = accuracy_score(y_true = y_val, y_pred = prediction_val)\n",
    "    accuracy_train = accuracy_score(y_true = y_train, y_pred = prediction_train)\n",
    "\n",
    "    precision_val = precision_score(y_true = y_val, y_pred = prediction_val, average = \"weighted\")\n",
    "    precision_train = precision_score(y_true = y_train, y_pred = prediction_train, average = \"weighted\")\n",
    "\n",
    "    recall_val = recall_score(y_true = y_val, y_pred = prediction_val, average = \"weighted\")\n",
    "    recall_train = recall_score(y_true = y_train, y_pred = prediction_train, average = \"weighted\")\n",
    "\n",
    "    f1_val = f1_score(y_true = y_val, y_pred = prediction_val, average = \"weighted\")\n",
    "    f1_train = f1_score(y_true = y_train, y_pred = prediction_train, average = \"weighted\")    \n",
    "\n",
    "    # log metrics\n",
    "    wandb.log({'accuracy_val': accuracy_val,\n",
    "                'accuracy_train': accuracy_train,\n",
    "                'precision_val': precision_val,\n",
    "                'precision_train': precision_train,\n",
    "                'recall_val': recall_val,\n",
    "                'recall_train': recall_train,\n",
    "                'f1_val': f1_val,\n",
    "                'f1_train': f1_train})\n",
    "    \n",
    "# Run sweep\n",
    "wandb.agent(sweep_id, function=sweep_dt_train, count=10)\n",
    "wandb.finish()\n",
    "    "
   ]
  },
  {
   "attachments": {},
   "cell_type": "markdown",
   "metadata": {},
   "source": [
    "## Bestes Modell\n",
    "Nachdem mit Weights & Bias verschiedene Modelle trainiert und getestet wurden, konnte ein Accuracy Score von 0.8 - 0.9 erreicht werden:"
   ]
  },
  {
   "cell_type": "code",
   "execution_count": 8,
   "metadata": {},
   "outputs": [
    {
     "name": "stdout",
     "output_type": "stream",
     "text": [
      "no undersampling or oversampling\n"
     ]
    },
    {
     "name": "stderr",
     "output_type": "stream",
     "text": [
      "c:\\Users\\Si Ben Tran\\venv\\cdl1\\lib\\site-packages\\sklearn\\tree\\_classes.py:269: FutureWarning: `max_features='auto'` has been deprecated in 1.1 and will be removed in 1.3. To keep the past behaviour, explicitly set `max_features='sqrt'`.\n",
      "  warnings.warn(\n"
     ]
    },
    {
     "data": {
      "image/png": "[encoded data removed]",
      "text/plain": [
       "<Figure size 2000x1000 with 2 Axes>"
      ]
     },
     "metadata": {},
     "output_type": "display_data"
    }
   ],
   "source": [
    "# train test split\n",
    "decision_tree_X_train, decision_tree_y_train, decision_tree_X_val, decision_tree_y_val = preprocess_data(data, test_size=0.2, random_state_split=7885, make_plot=False, undersample=False, oversample=False)\n",
    "\n",
    "# create a logistic regression model for multiclass classification with sklearn\n",
    "decision_tree = DecisionTreeClassifier(criterion=\"gini\", max_depth=10, max_features=\"auto\", min_samples_leaf=20, min_samples_split=15, splitter=\"best\", random_state=7885, class_weight=\"balanced\", ccp_alpha=0.01)\n",
    "\n",
    "# fit the logistic regression model\n",
    "decision_tree.fit(X = decision_tree_X_train, y = decision_tree_y_train)\n",
    "\n",
    "# predict the classes for the val data\n",
    "decision_tree_val_y_pred = decision_tree.predict(X = decision_tree_X_val)\n",
    "\n",
    "# calculate the accuracy of the logistic regression model with train data and val data\n",
    "decision_tree_val_accuracy = accuracy_score(y_true = decision_tree_y_val, y_pred = decision_tree_val_y_pred)\n",
    "\n",
    "# create a confusion matrix display\n",
    "decision_tree_confmatrix = confusion_matrix(y_true = decision_tree_y_val, y_pred = decision_tree_val_y_pred)\n",
    "\n",
    "# plot the confusion matrix of the logistic regression model\n",
    "fig, ax = plt.subplots(figsize = (20,10))\n",
    "disp = ConfusionMatrixDisplay(confusion_matrix=decision_tree_confmatrix, display_labels=decision_tree.classes_)\n",
    "disp.plot(ax = ax, cmap = \"Blues\", values_format = \"d\", xticks_rotation = 'vertical')\n",
    "plt.title(\"Confusion Matrix of Decision Tree best Model \\n Accuracy Score of: \" + str(round(decision_tree_val_accuracy, 4)), fontsize = 20, y = 1.01)\n",
    "plt.xlabel(\"Predicted Class\", fontsize = 15)\n",
    "plt.ylabel(\"True Class\", fontsize = 15)\n",
    "plt.show()"
   ]
  },
  {
   "attachments": {},
   "cell_type": "markdown",
   "metadata": {},
   "source": [
    "## Fazit\n",
    "Für das Optimieren der Machine Learning Modelle wurde die Plattform Weights and Biases verwendet, um Grid Searches auszuführen und diese zu visualisieren.Durch die Visualisierungen können die trainierten modelle besser verglichen und die besten Parameter ausgewählt werden.\n",
    "Total wurden über 400 Modelle trainiert und getestet und validiert:\n",
    "![alt text](images/01_decision_tree/01_decision_tree_all.png \"Decision Tree - All Runs\")\n",
    "\n",
    "Zu beginn wurden standard Modellparameter mit üblichen Values getestet. Diese erzielten validation accuracies von 0.29 - 0.93. Das Modell welches am besten performte wurde jedoch mit einer Testsize von 0.1 trainiert, was zu klein ist und daher nicht aussagekräftig ist.\n",
    "![alt text](images/01_decision_tree/02_desicion_tree_run_1.png \"Decision Tree - Run 01\")\n",
    "\n",
    "Die Parameter, welche im ersten run die besten ergebnssse erzielten wurden übernommen und schlecht performte values wurden entfernt.\n",
    "![alt text](images/01_decision_tree/03_decision_tree_run_2.png \"Decision Tree - Run 02\")\n",
    "\n",
    "Auffallend war nun, dass die Testsize 0.1 zu klein gewählt ist, weshalb diese auf 0.2 erhöht wurde.\n",
    "![alt text](images/01_decision_tree/04_decision_tree_run_3.png \"Decision Tree - Run 03\")\n",
    "\n",
    "Erneut wurden nur die gut perfomenden Values übernommen und die Testsuze auf 0.2 fixiert.\n",
    "![alt text](images/01_decision_tree/05_decision_tree_run_4.png \"Decision Tree - Run 04\")\n",
    "\n",
    "Die besten Parameter wurden übernommen und diesmal nur gegenüber des Randomstates von train und test split getestet. Der Decision Tree hängt sehr stark vom Split der Daten ab.\n",
    "![alt text](images/01_decision_tree/06_decision_tree_run_5.png \"Decision Tree - Run 05\")\n",
    "\n",
    "Auch mit dieser Abhängigkeit des Radomstates konnte ein gutes ergebnis erzielt werden. Allerdings ist auffallend, dass die Train Accuracy gegenüber der Test Accuracy sehr hoch ist, was auf ein overfitting hindeutet. Aus diesem Grund wurden die Parameter Class Weight und \n",
    "![alt text](images/01_decision_tree/07_decision_tree_run_6.png \"Decision Tree - Run 06\")\n",
    "\n",
    "![alt text](images/01_decision_tree/08_decision_tree_run_7.png \"Decision Tree - Run 07\")\n",
    "\n",
    "Nach der Evaluierung konnten einige Erkenntnisse gewonnen werden:\n",
    "- zu wenig Daten\n",
    "- Scores sind extrem abhängig des Randomstates von train und test split\n",
    "- overfit\n",
    "- zu kleine testsize angenommen (danach min 0.2)\n",
    "\n",
    "\n",
    "---"
   ]
  },
  {
   "attachments": {},
   "cell_type": "markdown",
   "metadata": {},
   "source": [
    "# Modell-02 - Random Forest"
   ]
  },
  {
   "cell_type": "code",
   "execution_count": 8,
   "metadata": {},
   "outputs": [
    {
     "name": "stdout",
     "output_type": "stream",
     "text": [
      "Create sweep with ID: 549e9o5l\n",
      "Sweep URL: https://wandb.ai/fhnw-cdl1/02-random-forest/sweeps/549e9o5l\n"
     ]
    },
    {
     "name": "stderr",
     "output_type": "stream",
     "text": [
      "\u001b[34m\u001b[1mwandb\u001b[0m: Agent Starting Run: cn22pw5e with config:\n",
      "\u001b[34m\u001b[1mwandb\u001b[0m: \tbootstrap: False\n",
      "\u001b[34m\u001b[1mwandb\u001b[0m: \tcriterion: entropy\n",
      "\u001b[34m\u001b[1mwandb\u001b[0m: \tmax_depth: 10\n",
      "\u001b[34m\u001b[1mwandb\u001b[0m: \tmax_features: auto\n",
      "\u001b[34m\u001b[1mwandb\u001b[0m: \tmin_samples_leaf: 1\n",
      "\u001b[34m\u001b[1mwandb\u001b[0m: \tmin_samples_split: 10\n",
      "\u001b[34m\u001b[1mwandb\u001b[0m: \tn_estimators: 10\n",
      "\u001b[34m\u001b[1mwandb\u001b[0m: \toversample: True\n",
      "\u001b[34m\u001b[1mwandb\u001b[0m: \trandom_state: 5835\n",
      "\u001b[34m\u001b[1mwandb\u001b[0m: \trandom_state_split: 1510\n",
      "\u001b[34m\u001b[1mwandb\u001b[0m: \ttest_size: 0.2\n",
      "\u001b[34m\u001b[1mwandb\u001b[0m: \tundersample: True\n",
      "Failed to detect the name of this notebook, you can set it manually with the WANDB_NOTEBOOK_NAME environment variable to enable code saving.\n",
      "\u001b[34m\u001b[1mwandb\u001b[0m: \u001b[33mWARNING\u001b[0m Ignored wandb.init() arg project when running a sweep.\n"
     ]
    },
    {
     "data": {
      "text/html": [
       "Tracking run with wandb version 0.15.3"
      ],
      "text/plain": [
       "<IPython.core.display.HTML object>"
      ]
     },
     "metadata": {},
     "output_type": "display_data"
    },
    {
     "data": {
      "text/html": [
       "Run data is saved locally in <code>/Users/leabuetler/git_repos/06_Semester/cdl1/Sensor-Klassifikation-ohne-Deep-Learning/wandb/run-20230523_114324-cn22pw5e</code>"
      ],
      "text/plain": [
       "<IPython.core.display.HTML object>"
      ]
     },
     "metadata": {},
     "output_type": "display_data"
    },
    {
     "data": {
      "text/html": [
       "Syncing run <strong><a href='https://wandb.ai/fhnw-cdl1/02-random-forest/runs/cn22pw5e' target=\"_blank\">vivid-sweep-1</a></strong> to <a href='https://wandb.ai/fhnw-cdl1/02-random-forest' target=\"_blank\">Weights & Biases</a> (<a href='https://wandb.me/run' target=\"_blank\">docs</a>)<br/>Sweep page: <a href='https://wandb.ai/fhnw-cdl1/02-random-forest/sweeps/549e9o5l' target=\"_blank\">https://wandb.ai/fhnw-cdl1/02-random-forest/sweeps/549e9o5l</a>"
      ],
      "text/plain": [
       "<IPython.core.display.HTML object>"
      ]
     },
     "metadata": {},
     "output_type": "display_data"
    },
    {
     "data": {
      "text/html": [
       " View project at <a href='https://wandb.ai/fhnw-cdl1/02-random-forest' target=\"_blank\">https://wandb.ai/fhnw-cdl1/02-random-forest</a>"
      ],
      "text/plain": [
       "<IPython.core.display.HTML object>"
      ]
     },
     "metadata": {},
     "output_type": "display_data"
    },
    {
     "data": {
      "text/html": [
       " View sweep at <a href='https://wandb.ai/fhnw-cdl1/02-random-forest/sweeps/549e9o5l' target=\"_blank\">https://wandb.ai/fhnw-cdl1/02-random-forest/sweeps/549e9o5l</a>"
      ],
      "text/plain": [
       "<IPython.core.display.HTML object>"
      ]
     },
     "metadata": {},
     "output_type": "display_data"
    },
    {
     "data": {
      "text/html": [
       " View run at <a href='https://wandb.ai/fhnw-cdl1/02-random-forest/runs/cn22pw5e' target=\"_blank\">https://wandb.ai/fhnw-cdl1/02-random-forest/runs/cn22pw5e</a>"
      ],
      "text/plain": [
       "<IPython.core.display.HTML object>"
      ]
     },
     "metadata": {},
     "output_type": "display_data"
    },
    {
     "name": "stdout",
     "output_type": "stream",
     "text": [
      "no undersampling or oversampling\n"
     ]
    },
    {
     "name": "stderr",
     "output_type": "stream",
     "text": [
      "/Users/leabuetler/opt/anaconda3/envs/sensor_challenge/lib/python3.9/site-packages/sklearn/ensemble/_forest.py:424: FutureWarning: `max_features='auto'` has been deprecated in 1.1 and will be removed in 1.3. To keep the past behaviour, explicitly set `max_features='sqrt'` or remove this parameter as it is also the default value for RandomForestClassifiers and ExtraTreesClassifiers.\n",
      "  warn(\n"
     ]
    },
    {
     "data": {
      "text/html": [
       "Waiting for W&B process to finish... <strong style=\"color:green\">(success).</strong>"
      ],
      "text/plain": [
       "<IPython.core.display.HTML object>"
      ]
     },
     "metadata": {},
     "output_type": "display_data"
    },
    {
     "data": {
      "text/html": [
       "<style>\n",
       "    table.wandb td:nth-child(1) { padding: 0 10px; text-align: left ; width: auto;} td:nth-child(2) {text-align: left ; width: 100%}\n",
       "    .wandb-row { display: flex; flex-direction: row; flex-wrap: wrap; justify-content: flex-start; width: 100% }\n",
       "    .wandb-col { display: flex; flex-direction: column; flex-basis: 100%; flex: 1; padding: 10px; }\n",
       "    </style>\n",
       "<div class=\"wandb-row\"><div class=\"wandb-col\"><h3>Run history:</h3><br/><table class=\"wandb\"><tr><td>accuracy_train</td><td>▁</td></tr><tr><td>accuracy_val</td><td>▁</td></tr><tr><td>f1_train</td><td>▁</td></tr><tr><td>f1_val</td><td>▁</td></tr><tr><td>precision_train</td><td>▁</td></tr><tr><td>precision_val</td><td>▁</td></tr><tr><td>recall_train</td><td>▁</td></tr><tr><td>recall_val</td><td>▁</td></tr></table><br/></div><div class=\"wandb-col\"><h3>Run summary:</h3><br/><table class=\"wandb\"><tr><td>accuracy_train</td><td>0.9904</td></tr><tr><td>accuracy_val</td><td>0.79958</td></tr><tr><td>f1_train</td><td>0.99034</td></tr><tr><td>f1_val</td><td>0.80974</td></tr><tr><td>precision_train</td><td>0.9906</td></tr><tr><td>precision_val</td><td>0.85858</td></tr><tr><td>recall_train</td><td>0.9904</td></tr><tr><td>recall_val</td><td>0.79958</td></tr></table><br/></div></div>"
      ],
      "text/plain": [
       "<IPython.core.display.HTML object>"
      ]
     },
     "metadata": {},
     "output_type": "display_data"
    },
    {
     "data": {
      "text/html": [
       " View run <strong style=\"color:#cdcd00\">vivid-sweep-1</strong> at: <a href='https://wandb.ai/fhnw-cdl1/02-random-forest/runs/cn22pw5e' target=\"_blank\">https://wandb.ai/fhnw-cdl1/02-random-forest/runs/cn22pw5e</a><br/>Synced 6 W&B file(s), 0 media file(s), 0 artifact file(s) and 0 other file(s)"
      ],
      "text/plain": [
       "<IPython.core.display.HTML object>"
      ]
     },
     "metadata": {},
     "output_type": "display_data"
    },
    {
     "data": {
      "text/html": [
       "Find logs at: <code>./wandb/run-20230523_114324-cn22pw5e/logs</code>"
      ],
      "text/plain": [
       "<IPython.core.display.HTML object>"
      ]
     },
     "metadata": {},
     "output_type": "display_data"
    },
    {
     "name": "stderr",
     "output_type": "stream",
     "text": [
      "\u001b[34m\u001b[1mwandb\u001b[0m: Agent Starting Run: igj9lcqv with config:\n",
      "\u001b[34m\u001b[1mwandb\u001b[0m: \tbootstrap: False\n",
      "\u001b[34m\u001b[1mwandb\u001b[0m: \tcriterion: entropy\n",
      "\u001b[34m\u001b[1mwandb\u001b[0m: \tmax_depth: 10\n",
      "\u001b[34m\u001b[1mwandb\u001b[0m: \tmax_features: auto\n",
      "\u001b[34m\u001b[1mwandb\u001b[0m: \tmin_samples_leaf: 1\n",
      "\u001b[34m\u001b[1mwandb\u001b[0m: \tmin_samples_split: 10\n",
      "\u001b[34m\u001b[1mwandb\u001b[0m: \tn_estimators: 10\n",
      "\u001b[34m\u001b[1mwandb\u001b[0m: \toversample: False\n",
      "\u001b[34m\u001b[1mwandb\u001b[0m: \trandom_state: 4449\n",
      "\u001b[34m\u001b[1mwandb\u001b[0m: \trandom_state_split: 6295\n",
      "\u001b[34m\u001b[1mwandb\u001b[0m: \ttest_size: 0.2\n",
      "\u001b[34m\u001b[1mwandb\u001b[0m: \tundersample: False\n",
      "Failed to detect the name of this notebook, you can set it manually with the WANDB_NOTEBOOK_NAME environment variable to enable code saving.\n",
      "\u001b[34m\u001b[1mwandb\u001b[0m: \u001b[33mWARNING\u001b[0m Ignored wandb.init() arg project when running a sweep.\n"
     ]
    },
    {
     "data": {
      "text/html": [
       "Tracking run with wandb version 0.15.3"
      ],
      "text/plain": [
       "<IPython.core.display.HTML object>"
      ]
     },
     "metadata": {},
     "output_type": "display_data"
    },
    {
     "data": {
      "text/html": [
       "Run data is saved locally in <code>/Users/leabuetler/git_repos/06_Semester/cdl1/Sensor-Klassifikation-ohne-Deep-Learning/wandb/run-20230523_114457-igj9lcqv</code>"
      ],
      "text/plain": [
       "<IPython.core.display.HTML object>"
      ]
     },
     "metadata": {},
     "output_type": "display_data"
    },
    {
     "data": {
      "text/html": [
       "Syncing run <strong><a href='https://wandb.ai/fhnw-cdl1/02-random-forest/runs/igj9lcqv' target=\"_blank\">lilac-sweep-2</a></strong> to <a href='https://wandb.ai/fhnw-cdl1/02-random-forest' target=\"_blank\">Weights & Biases</a> (<a href='https://wandb.me/run' target=\"_blank\">docs</a>)<br/>Sweep page: <a href='https://wandb.ai/fhnw-cdl1/02-random-forest/sweeps/549e9o5l' target=\"_blank\">https://wandb.ai/fhnw-cdl1/02-random-forest/sweeps/549e9o5l</a>"
      ],
      "text/plain": [
       "<IPython.core.display.HTML object>"
      ]
     },
     "metadata": {},
     "output_type": "display_data"
    },
    {
     "data": {
      "text/html": [
       " View project at <a href='https://wandb.ai/fhnw-cdl1/02-random-forest' target=\"_blank\">https://wandb.ai/fhnw-cdl1/02-random-forest</a>"
      ],
      "text/plain": [
       "<IPython.core.display.HTML object>"
      ]
     },
     "metadata": {},
     "output_type": "display_data"
    },
    {
     "data": {
      "text/html": [
       " View sweep at <a href='https://wandb.ai/fhnw-cdl1/02-random-forest/sweeps/549e9o5l' target=\"_blank\">https://wandb.ai/fhnw-cdl1/02-random-forest/sweeps/549e9o5l</a>"
      ],
      "text/plain": [
       "<IPython.core.display.HTML object>"
      ]
     },
     "metadata": {},
     "output_type": "display_data"
    },
    {
     "data": {
      "text/html": [
       " View run at <a href='https://wandb.ai/fhnw-cdl1/02-random-forest/runs/igj9lcqv' target=\"_blank\">https://wandb.ai/fhnw-cdl1/02-random-forest/runs/igj9lcqv</a>"
      ],
      "text/plain": [
       "<IPython.core.display.HTML object>"
      ]
     },
     "metadata": {},
     "output_type": "display_data"
    },
    {
     "name": "stdout",
     "output_type": "stream",
     "text": [
      "no undersampling or oversampling\n"
     ]
    },
    {
     "name": "stderr",
     "output_type": "stream",
     "text": [
      "/Users/leabuetler/opt/anaconda3/envs/sensor_challenge/lib/python3.9/site-packages/sklearn/ensemble/_forest.py:424: FutureWarning: `max_features='auto'` has been deprecated in 1.1 and will be removed in 1.3. To keep the past behaviour, explicitly set `max_features='sqrt'` or remove this parameter as it is also the default value for RandomForestClassifiers and ExtraTreesClassifiers.\n",
      "  warn(\n"
     ]
    },
    {
     "data": {
      "text/html": [
       "Waiting for W&B process to finish... <strong style=\"color:green\">(success).</strong>"
      ],
      "text/plain": [
       "<IPython.core.display.HTML object>"
      ]
     },
     "metadata": {},
     "output_type": "display_data"
    },
    {
     "data": {
      "application/vnd.jupyter.widget-view+json": {
       "model_id": "bd2e95da361841a3ad88921a503283cf",
       "version_major": 2,
       "version_minor": 0
      },
      "text/plain": [
       "VBox(children=(Label(value='0.001 MB of 0.001 MB uploaded (0.000 MB deduped)\\r'), FloatProgress(value=1.0, max…"
      ]
     },
     "metadata": {},
     "output_type": "display_data"
    },
    {
     "data": {
      "text/html": [
       "<style>\n",
       "    table.wandb td:nth-child(1) { padding: 0 10px; text-align: left ; width: auto;} td:nth-child(2) {text-align: left ; width: 100%}\n",
       "    .wandb-row { display: flex; flex-direction: row; flex-wrap: wrap; justify-content: flex-start; width: 100% }\n",
       "    .wandb-col { display: flex; flex-direction: column; flex-basis: 100%; flex: 1; padding: 10px; }\n",
       "    </style>\n",
       "<div class=\"wandb-row\"><div class=\"wandb-col\"><h3>Run history:</h3><br/><table class=\"wandb\"><tr><td>accuracy_train</td><td>▁</td></tr><tr><td>accuracy_val</td><td>▁</td></tr><tr><td>f1_train</td><td>▁</td></tr><tr><td>f1_val</td><td>▁</td></tr><tr><td>precision_train</td><td>▁</td></tr><tr><td>precision_val</td><td>▁</td></tr><tr><td>recall_train</td><td>▁</td></tr><tr><td>recall_val</td><td>▁</td></tr></table><br/></div><div class=\"wandb-col\"><h3>Run summary:</h3><br/><table class=\"wandb\"><tr><td>accuracy_train</td><td>0.99358</td></tr><tr><td>accuracy_val</td><td>0.91205</td></tr><tr><td>f1_train</td><td>0.99356</td></tr><tr><td>f1_val</td><td>0.91192</td></tr><tr><td>precision_train</td><td>0.99364</td></tr><tr><td>precision_val</td><td>0.91965</td></tr><tr><td>recall_train</td><td>0.99358</td></tr><tr><td>recall_val</td><td>0.91205</td></tr></table><br/></div></div>"
      ],
      "text/plain": [
       "<IPython.core.display.HTML object>"
      ]
     },
     "metadata": {},
     "output_type": "display_data"
    },
    {
     "data": {
      "text/html": [
       " View run <strong style=\"color:#cdcd00\">lilac-sweep-2</strong> at: <a href='https://wandb.ai/fhnw-cdl1/02-random-forest/runs/igj9lcqv' target=\"_blank\">https://wandb.ai/fhnw-cdl1/02-random-forest/runs/igj9lcqv</a><br/>Synced 6 W&B file(s), 0 media file(s), 0 artifact file(s) and 0 other file(s)"
      ],
      "text/plain": [
       "<IPython.core.display.HTML object>"
      ]
     },
     "metadata": {},
     "output_type": "display_data"
    },
    {
     "data": {
      "text/html": [
       "Find logs at: <code>./wandb/run-20230523_114457-igj9lcqv/logs</code>"
      ],
      "text/plain": [
       "<IPython.core.display.HTML object>"
      ]
     },
     "metadata": {},
     "output_type": "display_data"
    },
    {
     "name": "stderr",
     "output_type": "stream",
     "text": [
      "\u001b[34m\u001b[1mwandb\u001b[0m: Sweep Agent: Waiting for job.\n",
      "\u001b[34m\u001b[1mwandb\u001b[0m: Job received.\n",
      "\u001b[34m\u001b[1mwandb\u001b[0m: Agent Starting Run: aqnv86p7 with config:\n",
      "\u001b[34m\u001b[1mwandb\u001b[0m: \tbootstrap: False\n",
      "\u001b[34m\u001b[1mwandb\u001b[0m: \tcriterion: entropy\n",
      "\u001b[34m\u001b[1mwandb\u001b[0m: \tmax_depth: 10\n",
      "\u001b[34m\u001b[1mwandb\u001b[0m: \tmax_features: auto\n",
      "\u001b[34m\u001b[1mwandb\u001b[0m: \tmin_samples_leaf: 1\n",
      "\u001b[34m\u001b[1mwandb\u001b[0m: \tmin_samples_split: 10\n",
      "\u001b[34m\u001b[1mwandb\u001b[0m: \tn_estimators: 10\n",
      "\u001b[34m\u001b[1mwandb\u001b[0m: \toversample: False\n",
      "\u001b[34m\u001b[1mwandb\u001b[0m: \trandom_state: 5521\n",
      "\u001b[34m\u001b[1mwandb\u001b[0m: \trandom_state_split: 5880\n",
      "\u001b[34m\u001b[1mwandb\u001b[0m: \ttest_size: 0.2\n",
      "\u001b[34m\u001b[1mwandb\u001b[0m: \tundersample: True\n",
      "Failed to detect the name of this notebook, you can set it manually with the WANDB_NOTEBOOK_NAME environment variable to enable code saving.\n",
      "\u001b[34m\u001b[1mwandb\u001b[0m: \u001b[33mWARNING\u001b[0m Ignored wandb.init() arg project when running a sweep.\n"
     ]
    },
    {
     "data": {
      "text/html": [
       "Tracking run with wandb version 0.15.3"
      ],
      "text/plain": [
       "<IPython.core.display.HTML object>"
      ]
     },
     "metadata": {},
     "output_type": "display_data"
    },
    {
     "data": {
      "text/html": [
       "Run data is saved locally in <code>/Users/leabuetler/git_repos/06_Semester/cdl1/Sensor-Klassifikation-ohne-Deep-Learning/wandb/run-20230523_114638-aqnv86p7</code>"
      ],
      "text/plain": [
       "<IPython.core.display.HTML object>"
      ]
     },
     "metadata": {},
     "output_type": "display_data"
    },
    {
     "data": {
      "text/html": [
       "Syncing run <strong><a href='https://wandb.ai/fhnw-cdl1/02-random-forest/runs/aqnv86p7' target=\"_blank\">sleek-sweep-3</a></strong> to <a href='https://wandb.ai/fhnw-cdl1/02-random-forest' target=\"_blank\">Weights & Biases</a> (<a href='https://wandb.me/run' target=\"_blank\">docs</a>)<br/>Sweep page: <a href='https://wandb.ai/fhnw-cdl1/02-random-forest/sweeps/549e9o5l' target=\"_blank\">https://wandb.ai/fhnw-cdl1/02-random-forest/sweeps/549e9o5l</a>"
      ],
      "text/plain": [
       "<IPython.core.display.HTML object>"
      ]
     },
     "metadata": {},
     "output_type": "display_data"
    },
    {
     "data": {
      "text/html": [
       " View project at <a href='https://wandb.ai/fhnw-cdl1/02-random-forest' target=\"_blank\">https://wandb.ai/fhnw-cdl1/02-random-forest</a>"
      ],
      "text/plain": [
       "<IPython.core.display.HTML object>"
      ]
     },
     "metadata": {},
     "output_type": "display_data"
    },
    {
     "data": {
      "text/html": [
       " View sweep at <a href='https://wandb.ai/fhnw-cdl1/02-random-forest/sweeps/549e9o5l' target=\"_blank\">https://wandb.ai/fhnw-cdl1/02-random-forest/sweeps/549e9o5l</a>"
      ],
      "text/plain": [
       "<IPython.core.display.HTML object>"
      ]
     },
     "metadata": {},
     "output_type": "display_data"
    },
    {
     "data": {
      "text/html": [
       " View run at <a href='https://wandb.ai/fhnw-cdl1/02-random-forest/runs/aqnv86p7' target=\"_blank\">https://wandb.ai/fhnw-cdl1/02-random-forest/runs/aqnv86p7</a>"
      ],
      "text/plain": [
       "<IPython.core.display.HTML object>"
      ]
     },
     "metadata": {},
     "output_type": "display_data"
    },
    {
     "name": "stdout",
     "output_type": "stream",
     "text": [
      "undersample dataset\n"
     ]
    },
    {
     "name": "stderr",
     "output_type": "stream",
     "text": [
      "/Users/leabuetler/opt/anaconda3/envs/sensor_challenge/lib/python3.9/site-packages/sklearn/ensemble/_forest.py:424: FutureWarning: `max_features='auto'` has been deprecated in 1.1 and will be removed in 1.3. To keep the past behaviour, explicitly set `max_features='sqrt'` or remove this parameter as it is also the default value for RandomForestClassifiers and ExtraTreesClassifiers.\n",
      "  warn(\n"
     ]
    },
    {
     "data": {
      "text/html": [
       "Waiting for W&B process to finish... <strong style=\"color:green\">(success).</strong>"
      ],
      "text/plain": [
       "<IPython.core.display.HTML object>"
      ]
     },
     "metadata": {},
     "output_type": "display_data"
    },
    {
     "data": {
      "application/vnd.jupyter.widget-view+json": {
       "model_id": "d7b0518fbf194ddb89d90dc8dbbfc57b",
       "version_major": 2,
       "version_minor": 0
      },
      "text/plain": [
       "VBox(children=(Label(value='0.001 MB of 0.001 MB uploaded (0.000 MB deduped)\\r'), FloatProgress(value=1.0, max…"
      ]
     },
     "metadata": {},
     "output_type": "display_data"
    },
    {
     "data": {
      "text/html": [
       "<style>\n",
       "    table.wandb td:nth-child(1) { padding: 0 10px; text-align: left ; width: auto;} td:nth-child(2) {text-align: left ; width: 100%}\n",
       "    .wandb-row { display: flex; flex-direction: row; flex-wrap: wrap; justify-content: flex-start; width: 100% }\n",
       "    .wandb-col { display: flex; flex-direction: column; flex-basis: 100%; flex: 1; padding: 10px; }\n",
       "    </style>\n",
       "<div class=\"wandb-row\"><div class=\"wandb-col\"><h3>Run history:</h3><br/><table class=\"wandb\"><tr><td>accuracy_train</td><td>▁</td></tr><tr><td>accuracy_val</td><td>▁</td></tr><tr><td>f1_train</td><td>▁</td></tr><tr><td>f1_val</td><td>▁</td></tr><tr><td>precision_train</td><td>▁</td></tr><tr><td>precision_val</td><td>▁</td></tr><tr><td>recall_train</td><td>▁</td></tr><tr><td>recall_val</td><td>▁</td></tr></table><br/></div><div class=\"wandb-col\"><h3>Run summary:</h3><br/><table class=\"wandb\"><tr><td>accuracy_train</td><td>0.99736</td></tr><tr><td>accuracy_val</td><td>0.81104</td></tr><tr><td>f1_train</td><td>0.99736</td></tr><tr><td>f1_val</td><td>0.80393</td></tr><tr><td>precision_train</td><td>0.99737</td></tr><tr><td>precision_val</td><td>0.81439</td></tr><tr><td>recall_train</td><td>0.99736</td></tr><tr><td>recall_val</td><td>0.81104</td></tr></table><br/></div></div>"
      ],
      "text/plain": [
       "<IPython.core.display.HTML object>"
      ]
     },
     "metadata": {},
     "output_type": "display_data"
    },
    {
     "data": {
      "text/html": [
       " View run <strong style=\"color:#cdcd00\">sleek-sweep-3</strong> at: <a href='https://wandb.ai/fhnw-cdl1/02-random-forest/runs/aqnv86p7' target=\"_blank\">https://wandb.ai/fhnw-cdl1/02-random-forest/runs/aqnv86p7</a><br/>Synced 6 W&B file(s), 0 media file(s), 0 artifact file(s) and 0 other file(s)"
      ],
      "text/plain": [
       "<IPython.core.display.HTML object>"
      ]
     },
     "metadata": {},
     "output_type": "display_data"
    },
    {
     "data": {
      "text/html": [
       "Find logs at: <code>./wandb/run-20230523_114638-aqnv86p7/logs</code>"
      ],
      "text/plain": [
       "<IPython.core.display.HTML object>"
      ]
     },
     "metadata": {},
     "output_type": "display_data"
    },
    {
     "name": "stderr",
     "output_type": "stream",
     "text": [
      "\u001b[34m\u001b[1mwandb\u001b[0m: Agent Starting Run: syt0fz4f with config:\n",
      "\u001b[34m\u001b[1mwandb\u001b[0m: \tbootstrap: False\n",
      "\u001b[34m\u001b[1mwandb\u001b[0m: \tcriterion: entropy\n",
      "\u001b[34m\u001b[1mwandb\u001b[0m: \tmax_depth: 10\n",
      "\u001b[34m\u001b[1mwandb\u001b[0m: \tmax_features: auto\n",
      "\u001b[34m\u001b[1mwandb\u001b[0m: \tmin_samples_leaf: 1\n",
      "\u001b[34m\u001b[1mwandb\u001b[0m: \tmin_samples_split: 10\n",
      "\u001b[34m\u001b[1mwandb\u001b[0m: \tn_estimators: 10\n",
      "\u001b[34m\u001b[1mwandb\u001b[0m: \toversample: True\n",
      "\u001b[34m\u001b[1mwandb\u001b[0m: \trandom_state: 7063\n",
      "\u001b[34m\u001b[1mwandb\u001b[0m: \trandom_state_split: 1063\n",
      "\u001b[34m\u001b[1mwandb\u001b[0m: \ttest_size: 0.2\n",
      "\u001b[34m\u001b[1mwandb\u001b[0m: \tundersample: False\n",
      "Failed to detect the name of this notebook, you can set it manually with the WANDB_NOTEBOOK_NAME environment variable to enable code saving.\n",
      "\u001b[34m\u001b[1mwandb\u001b[0m: \u001b[33mWARNING\u001b[0m Ignored wandb.init() arg project when running a sweep.\n"
     ]
    },
    {
     "data": {
      "text/html": [
       "Tracking run with wandb version 0.15.3"
      ],
      "text/plain": [
       "<IPython.core.display.HTML object>"
      ]
     },
     "metadata": {},
     "output_type": "display_data"
    },
    {
     "data": {
      "text/html": [
       "Run data is saved locally in <code>/Users/leabuetler/git_repos/06_Semester/cdl1/Sensor-Klassifikation-ohne-Deep-Learning/wandb/run-20230523_114745-syt0fz4f</code>"
      ],
      "text/plain": [
       "<IPython.core.display.HTML object>"
      ]
     },
     "metadata": {},
     "output_type": "display_data"
    },
    {
     "data": {
      "text/html": [
       "Syncing run <strong><a href='https://wandb.ai/fhnw-cdl1/02-random-forest/runs/syt0fz4f' target=\"_blank\">clean-sweep-4</a></strong> to <a href='https://wandb.ai/fhnw-cdl1/02-random-forest' target=\"_blank\">Weights & Biases</a> (<a href='https://wandb.me/run' target=\"_blank\">docs</a>)<br/>Sweep page: <a href='https://wandb.ai/fhnw-cdl1/02-random-forest/sweeps/549e9o5l' target=\"_blank\">https://wandb.ai/fhnw-cdl1/02-random-forest/sweeps/549e9o5l</a>"
      ],
      "text/plain": [
       "<IPython.core.display.HTML object>"
      ]
     },
     "metadata": {},
     "output_type": "display_data"
    },
    {
     "data": {
      "text/html": [
       " View project at <a href='https://wandb.ai/fhnw-cdl1/02-random-forest' target=\"_blank\">https://wandb.ai/fhnw-cdl1/02-random-forest</a>"
      ],
      "text/plain": [
       "<IPython.core.display.HTML object>"
      ]
     },
     "metadata": {},
     "output_type": "display_data"
    },
    {
     "data": {
      "text/html": [
       " View sweep at <a href='https://wandb.ai/fhnw-cdl1/02-random-forest/sweeps/549e9o5l' target=\"_blank\">https://wandb.ai/fhnw-cdl1/02-random-forest/sweeps/549e9o5l</a>"
      ],
      "text/plain": [
       "<IPython.core.display.HTML object>"
      ]
     },
     "metadata": {},
     "output_type": "display_data"
    },
    {
     "data": {
      "text/html": [
       " View run at <a href='https://wandb.ai/fhnw-cdl1/02-random-forest/runs/syt0fz4f' target=\"_blank\">https://wandb.ai/fhnw-cdl1/02-random-forest/runs/syt0fz4f</a>"
      ],
      "text/plain": [
       "<IPython.core.display.HTML object>"
      ]
     },
     "metadata": {},
     "output_type": "display_data"
    },
    {
     "name": "stdout",
     "output_type": "stream",
     "text": [
      "oversample dataset\n"
     ]
    },
    {
     "name": "stderr",
     "output_type": "stream",
     "text": [
      "/Users/leabuetler/opt/anaconda3/envs/sensor_challenge/lib/python3.9/site-packages/sklearn/ensemble/_forest.py:424: FutureWarning: `max_features='auto'` has been deprecated in 1.1 and will be removed in 1.3. To keep the past behaviour, explicitly set `max_features='sqrt'` or remove this parameter as it is also the default value for RandomForestClassifiers and ExtraTreesClassifiers.\n",
      "  warn(\n"
     ]
    },
    {
     "data": {
      "text/html": [
       "Waiting for W&B process to finish... <strong style=\"color:green\">(success).</strong>"
      ],
      "text/plain": [
       "<IPython.core.display.HTML object>"
      ]
     },
     "metadata": {},
     "output_type": "display_data"
    },
    {
     "data": {
      "text/html": [
       "<style>\n",
       "    table.wandb td:nth-child(1) { padding: 0 10px; text-align: left ; width: auto;} td:nth-child(2) {text-align: left ; width: 100%}\n",
       "    .wandb-row { display: flex; flex-direction: row; flex-wrap: wrap; justify-content: flex-start; width: 100% }\n",
       "    .wandb-col { display: flex; flex-direction: column; flex-basis: 100%; flex: 1; padding: 10px; }\n",
       "    </style>\n",
       "<div class=\"wandb-row\"><div class=\"wandb-col\"><h3>Run history:</h3><br/><table class=\"wandb\"><tr><td>accuracy_train</td><td>▁</td></tr><tr><td>accuracy_val</td><td>▁</td></tr><tr><td>f1_train</td><td>▁</td></tr><tr><td>f1_val</td><td>▁</td></tr><tr><td>precision_train</td><td>▁</td></tr><tr><td>precision_val</td><td>▁</td></tr><tr><td>recall_train</td><td>▁</td></tr><tr><td>recall_val</td><td>▁</td></tr></table><br/></div><div class=\"wandb-col\"><h3>Run summary:</h3><br/><table class=\"wandb\"><tr><td>accuracy_train</td><td>0.99711</td></tr><tr><td>accuracy_val</td><td>0.84456</td></tr><tr><td>f1_train</td><td>0.99711</td></tr><tr><td>f1_val</td><td>0.84457</td></tr><tr><td>precision_train</td><td>0.99712</td></tr><tr><td>precision_val</td><td>0.85276</td></tr><tr><td>recall_train</td><td>0.99711</td></tr><tr><td>recall_val</td><td>0.84456</td></tr></table><br/></div></div>"
      ],
      "text/plain": [
       "<IPython.core.display.HTML object>"
      ]
     },
     "metadata": {},
     "output_type": "display_data"
    },
    {
     "data": {
      "text/html": [
       " View run <strong style=\"color:#cdcd00\">clean-sweep-4</strong> at: <a href='https://wandb.ai/fhnw-cdl1/02-random-forest/runs/syt0fz4f' target=\"_blank\">https://wandb.ai/fhnw-cdl1/02-random-forest/runs/syt0fz4f</a><br/>Synced 6 W&B file(s), 0 media file(s), 0 artifact file(s) and 0 other file(s)"
      ],
      "text/plain": [
       "<IPython.core.display.HTML object>"
      ]
     },
     "metadata": {},
     "output_type": "display_data"
    },
    {
     "data": {
      "text/html": [
       "Find logs at: <code>./wandb/run-20230523_114745-syt0fz4f/logs</code>"
      ],
      "text/plain": [
       "<IPython.core.display.HTML object>"
      ]
     },
     "metadata": {},
     "output_type": "display_data"
    },
    {
     "name": "stderr",
     "output_type": "stream",
     "text": [
      "\u001b[34m\u001b[1mwandb\u001b[0m: Agent Starting Run: ml2vgct2 with config:\n",
      "\u001b[34m\u001b[1mwandb\u001b[0m: \tbootstrap: False\n",
      "\u001b[34m\u001b[1mwandb\u001b[0m: \tcriterion: entropy\n",
      "\u001b[34m\u001b[1mwandb\u001b[0m: \tmax_depth: 10\n",
      "\u001b[34m\u001b[1mwandb\u001b[0m: \tmax_features: auto\n",
      "\u001b[34m\u001b[1mwandb\u001b[0m: \tmin_samples_leaf: 1\n",
      "\u001b[34m\u001b[1mwandb\u001b[0m: \tmin_samples_split: 10\n",
      "\u001b[34m\u001b[1mwandb\u001b[0m: \tn_estimators: 10\n",
      "\u001b[34m\u001b[1mwandb\u001b[0m: \toversample: False\n",
      "\u001b[34m\u001b[1mwandb\u001b[0m: \trandom_state: 8031\n",
      "\u001b[34m\u001b[1mwandb\u001b[0m: \trandom_state_split: 9758\n",
      "\u001b[34m\u001b[1mwandb\u001b[0m: \ttest_size: 0.2\n",
      "\u001b[34m\u001b[1mwandb\u001b[0m: \tundersample: False\n",
      "Failed to detect the name of this notebook, you can set it manually with the WANDB_NOTEBOOK_NAME environment variable to enable code saving.\n",
      "\u001b[34m\u001b[1mwandb\u001b[0m: \u001b[33mWARNING\u001b[0m Ignored wandb.init() arg project when running a sweep.\n"
     ]
    },
    {
     "data": {
      "text/html": [
       "Tracking run with wandb version 0.15.3"
      ],
      "text/plain": [
       "<IPython.core.display.HTML object>"
      ]
     },
     "metadata": {},
     "output_type": "display_data"
    },
    {
     "data": {
      "text/html": [
       "Run data is saved locally in <code>/Users/leabuetler/git_repos/06_Semester/cdl1/Sensor-Klassifikation-ohne-Deep-Learning/wandb/run-20230523_115026-ml2vgct2</code>"
      ],
      "text/plain": [
       "<IPython.core.display.HTML object>"
      ]
     },
     "metadata": {},
     "output_type": "display_data"
    },
    {
     "data": {
      "text/html": [
       "Syncing run <strong><a href='https://wandb.ai/fhnw-cdl1/02-random-forest/runs/ml2vgct2' target=\"_blank\">cerulean-sweep-5</a></strong> to <a href='https://wandb.ai/fhnw-cdl1/02-random-forest' target=\"_blank\">Weights & Biases</a> (<a href='https://wandb.me/run' target=\"_blank\">docs</a>)<br/>Sweep page: <a href='https://wandb.ai/fhnw-cdl1/02-random-forest/sweeps/549e9o5l' target=\"_blank\">https://wandb.ai/fhnw-cdl1/02-random-forest/sweeps/549e9o5l</a>"
      ],
      "text/plain": [
       "<IPython.core.display.HTML object>"
      ]
     },
     "metadata": {},
     "output_type": "display_data"
    },
    {
     "data": {
      "text/html": [
       " View project at <a href='https://wandb.ai/fhnw-cdl1/02-random-forest' target=\"_blank\">https://wandb.ai/fhnw-cdl1/02-random-forest</a>"
      ],
      "text/plain": [
       "<IPython.core.display.HTML object>"
      ]
     },
     "metadata": {},
     "output_type": "display_data"
    },
    {
     "data": {
      "text/html": [
       " View sweep at <a href='https://wandb.ai/fhnw-cdl1/02-random-forest/sweeps/549e9o5l' target=\"_blank\">https://wandb.ai/fhnw-cdl1/02-random-forest/sweeps/549e9o5l</a>"
      ],
      "text/plain": [
       "<IPython.core.display.HTML object>"
      ]
     },
     "metadata": {},
     "output_type": "display_data"
    },
    {
     "data": {
      "text/html": [
       " View run at <a href='https://wandb.ai/fhnw-cdl1/02-random-forest/runs/ml2vgct2' target=\"_blank\">https://wandb.ai/fhnw-cdl1/02-random-forest/runs/ml2vgct2</a>"
      ],
      "text/plain": [
       "<IPython.core.display.HTML object>"
      ]
     },
     "metadata": {},
     "output_type": "display_data"
    },
    {
     "name": "stdout",
     "output_type": "stream",
     "text": [
      "no undersampling or oversampling\n"
     ]
    },
    {
     "name": "stderr",
     "output_type": "stream",
     "text": [
      "/Users/leabuetler/opt/anaconda3/envs/sensor_challenge/lib/python3.9/site-packages/sklearn/ensemble/_forest.py:424: FutureWarning: `max_features='auto'` has been deprecated in 1.1 and will be removed in 1.3. To keep the past behaviour, explicitly set `max_features='sqrt'` or remove this parameter as it is also the default value for RandomForestClassifiers and ExtraTreesClassifiers.\n",
      "  warn(\n"
     ]
    },
    {
     "data": {
      "text/html": [
       "Waiting for W&B process to finish... <strong style=\"color:green\">(success).</strong>"
      ],
      "text/plain": [
       "<IPython.core.display.HTML object>"
      ]
     },
     "metadata": {},
     "output_type": "display_data"
    },
    {
     "data": {
      "text/html": [
       "<style>\n",
       "    table.wandb td:nth-child(1) { padding: 0 10px; text-align: left ; width: auto;} td:nth-child(2) {text-align: left ; width: 100%}\n",
       "    .wandb-row { display: flex; flex-direction: row; flex-wrap: wrap; justify-content: flex-start; width: 100% }\n",
       "    .wandb-col { display: flex; flex-direction: column; flex-basis: 100%; flex: 1; padding: 10px; }\n",
       "    </style>\n",
       "<div class=\"wandb-row\"><div class=\"wandb-col\"><h3>Run history:</h3><br/><table class=\"wandb\"><tr><td>accuracy_train</td><td>▁</td></tr><tr><td>accuracy_val</td><td>▁</td></tr><tr><td>f1_train</td><td>▁</td></tr><tr><td>f1_val</td><td>▁</td></tr><tr><td>precision_train</td><td>▁</td></tr><tr><td>precision_val</td><td>▁</td></tr><tr><td>recall_train</td><td>▁</td></tr><tr><td>recall_val</td><td>▁</td></tr></table><br/></div><div class=\"wandb-col\"><h3>Run summary:</h3><br/><table class=\"wandb\"><tr><td>accuracy_train</td><td>0.99692</td></tr><tr><td>accuracy_val</td><td>0.75</td></tr><tr><td>f1_train</td><td>0.99691</td></tr><tr><td>f1_val</td><td>0.74637</td></tr><tr><td>precision_train</td><td>0.99693</td></tr><tr><td>precision_val</td><td>0.7603</td></tr><tr><td>recall_train</td><td>0.99692</td></tr><tr><td>recall_val</td><td>0.75</td></tr></table><br/></div></div>"
      ],
      "text/plain": [
       "<IPython.core.display.HTML object>"
      ]
     },
     "metadata": {},
     "output_type": "display_data"
    },
    {
     "data": {
      "text/html": [
       " View run <strong style=\"color:#cdcd00\">cerulean-sweep-5</strong> at: <a href='https://wandb.ai/fhnw-cdl1/02-random-forest/runs/ml2vgct2' target=\"_blank\">https://wandb.ai/fhnw-cdl1/02-random-forest/runs/ml2vgct2</a><br/>Synced 6 W&B file(s), 0 media file(s), 0 artifact file(s) and 0 other file(s)"
      ],
      "text/plain": [
       "<IPython.core.display.HTML object>"
      ]
     },
     "metadata": {},
     "output_type": "display_data"
    },
    {
     "data": {
      "text/html": [
       "Find logs at: <code>./wandb/run-20230523_115026-ml2vgct2/logs</code>"
      ],
      "text/plain": [
       "<IPython.core.display.HTML object>"
      ]
     },
     "metadata": {},
     "output_type": "display_data"
    },
    {
     "name": "stderr",
     "output_type": "stream",
     "text": [
      "\u001b[34m\u001b[1mwandb\u001b[0m: Agent Starting Run: wrh2uonz with config:\n",
      "\u001b[34m\u001b[1mwandb\u001b[0m: \tbootstrap: False\n",
      "\u001b[34m\u001b[1mwandb\u001b[0m: \tcriterion: entropy\n",
      "\u001b[34m\u001b[1mwandb\u001b[0m: \tmax_depth: 10\n",
      "\u001b[34m\u001b[1mwandb\u001b[0m: \tmax_features: auto\n",
      "\u001b[34m\u001b[1mwandb\u001b[0m: \tmin_samples_leaf: 1\n",
      "\u001b[34m\u001b[1mwandb\u001b[0m: \tmin_samples_split: 10\n",
      "\u001b[34m\u001b[1mwandb\u001b[0m: \tn_estimators: 10\n",
      "\u001b[34m\u001b[1mwandb\u001b[0m: \toversample: False\n",
      "\u001b[34m\u001b[1mwandb\u001b[0m: \trandom_state: 3140\n",
      "\u001b[34m\u001b[1mwandb\u001b[0m: \trandom_state_split: 2296\n",
      "\u001b[34m\u001b[1mwandb\u001b[0m: \ttest_size: 0.2\n",
      "\u001b[34m\u001b[1mwandb\u001b[0m: \tundersample: False\n",
      "Failed to detect the name of this notebook, you can set it manually with the WANDB_NOTEBOOK_NAME environment variable to enable code saving.\n",
      "\u001b[34m\u001b[1mwandb\u001b[0m: \u001b[33mWARNING\u001b[0m Ignored wandb.init() arg project when running a sweep.\n"
     ]
    },
    {
     "data": {
      "text/html": [
       "Tracking run with wandb version 0.15.3"
      ],
      "text/plain": [
       "<IPython.core.display.HTML object>"
      ]
     },
     "metadata": {},
     "output_type": "display_data"
    },
    {
     "data": {
      "text/html": [
       "Run data is saved locally in <code>/Users/leabuetler/git_repos/06_Semester/cdl1/Sensor-Klassifikation-ohne-Deep-Learning/wandb/run-20230523_115154-wrh2uonz</code>"
      ],
      "text/plain": [
       "<IPython.core.display.HTML object>"
      ]
     },
     "metadata": {},
     "output_type": "display_data"
    },
    {
     "data": {
      "text/html": [
       "Syncing run <strong><a href='https://wandb.ai/fhnw-cdl1/02-random-forest/runs/wrh2uonz' target=\"_blank\">magic-sweep-6</a></strong> to <a href='https://wandb.ai/fhnw-cdl1/02-random-forest' target=\"_blank\">Weights & Biases</a> (<a href='https://wandb.me/run' target=\"_blank\">docs</a>)<br/>Sweep page: <a href='https://wandb.ai/fhnw-cdl1/02-random-forest/sweeps/549e9o5l' target=\"_blank\">https://wandb.ai/fhnw-cdl1/02-random-forest/sweeps/549e9o5l</a>"
      ],
      "text/plain": [
       "<IPython.core.display.HTML object>"
      ]
     },
     "metadata": {},
     "output_type": "display_data"
    },
    {
     "data": {
      "text/html": [
       " View project at <a href='https://wandb.ai/fhnw-cdl1/02-random-forest' target=\"_blank\">https://wandb.ai/fhnw-cdl1/02-random-forest</a>"
      ],
      "text/plain": [
       "<IPython.core.display.HTML object>"
      ]
     },
     "metadata": {},
     "output_type": "display_data"
    },
    {
     "data": {
      "text/html": [
       " View sweep at <a href='https://wandb.ai/fhnw-cdl1/02-random-forest/sweeps/549e9o5l' target=\"_blank\">https://wandb.ai/fhnw-cdl1/02-random-forest/sweeps/549e9o5l</a>"
      ],
      "text/plain": [
       "<IPython.core.display.HTML object>"
      ]
     },
     "metadata": {},
     "output_type": "display_data"
    },
    {
     "data": {
      "text/html": [
       " View run at <a href='https://wandb.ai/fhnw-cdl1/02-random-forest/runs/wrh2uonz' target=\"_blank\">https://wandb.ai/fhnw-cdl1/02-random-forest/runs/wrh2uonz</a>"
      ],
      "text/plain": [
       "<IPython.core.display.HTML object>"
      ]
     },
     "metadata": {},
     "output_type": "display_data"
    },
    {
     "name": "stdout",
     "output_type": "stream",
     "text": [
      "no undersampling or oversampling\n"
     ]
    },
    {
     "name": "stderr",
     "output_type": "stream",
     "text": [
      "/Users/leabuetler/opt/anaconda3/envs/sensor_challenge/lib/python3.9/site-packages/sklearn/ensemble/_forest.py:424: FutureWarning: `max_features='auto'` has been deprecated in 1.1 and will be removed in 1.3. To keep the past behaviour, explicitly set `max_features='sqrt'` or remove this parameter as it is also the default value for RandomForestClassifiers and ExtraTreesClassifiers.\n",
      "  warn(\n"
     ]
    },
    {
     "data": {
      "text/html": [
       "Waiting for W&B process to finish... <strong style=\"color:green\">(success).</strong>"
      ],
      "text/plain": [
       "<IPython.core.display.HTML object>"
      ]
     },
     "metadata": {},
     "output_type": "display_data"
    },
    {
     "data": {
      "text/html": [
       "<style>\n",
       "    table.wandb td:nth-child(1) { padding: 0 10px; text-align: left ; width: auto;} td:nth-child(2) {text-align: left ; width: 100%}\n",
       "    .wandb-row { display: flex; flex-direction: row; flex-wrap: wrap; justify-content: flex-start; width: 100% }\n",
       "    .wandb-col { display: flex; flex-direction: column; flex-basis: 100%; flex: 1; padding: 10px; }\n",
       "    </style>\n",
       "<div class=\"wandb-row\"><div class=\"wandb-col\"><h3>Run history:</h3><br/><table class=\"wandb\"><tr><td>accuracy_train</td><td>▁</td></tr><tr><td>accuracy_val</td><td>▁</td></tr><tr><td>f1_train</td><td>▁</td></tr><tr><td>f1_val</td><td>▁</td></tr><tr><td>precision_train</td><td>▁</td></tr><tr><td>precision_val</td><td>▁</td></tr><tr><td>recall_train</td><td>▁</td></tr><tr><td>recall_val</td><td>▁</td></tr></table><br/></div><div class=\"wandb-col\"><h3>Run summary:</h3><br/><table class=\"wandb\"><tr><td>accuracy_train</td><td>0.99298</td></tr><tr><td>accuracy_val</td><td>0.87024</td></tr><tr><td>f1_train</td><td>0.99294</td></tr><tr><td>f1_val</td><td>0.87359</td></tr><tr><td>precision_train</td><td>0.99307</td></tr><tr><td>precision_val</td><td>0.90945</td></tr><tr><td>recall_train</td><td>0.99298</td></tr><tr><td>recall_val</td><td>0.87024</td></tr></table><br/></div></div>"
      ],
      "text/plain": [
       "<IPython.core.display.HTML object>"
      ]
     },
     "metadata": {},
     "output_type": "display_data"
    },
    {
     "data": {
      "text/html": [
       " View run <strong style=\"color:#cdcd00\">magic-sweep-6</strong> at: <a href='https://wandb.ai/fhnw-cdl1/02-random-forest/runs/wrh2uonz' target=\"_blank\">https://wandb.ai/fhnw-cdl1/02-random-forest/runs/wrh2uonz</a><br/>Synced 6 W&B file(s), 0 media file(s), 0 artifact file(s) and 0 other file(s)"
      ],
      "text/plain": [
       "<IPython.core.display.HTML object>"
      ]
     },
     "metadata": {},
     "output_type": "display_data"
    },
    {
     "data": {
      "text/html": [
       "Find logs at: <code>./wandb/run-20230523_115154-wrh2uonz/logs</code>"
      ],
      "text/plain": [
       "<IPython.core.display.HTML object>"
      ]
     },
     "metadata": {},
     "output_type": "display_data"
    },
    {
     "name": "stderr",
     "output_type": "stream",
     "text": [
      "\u001b[34m\u001b[1mwandb\u001b[0m: Sweep Agent: Waiting for job.\n",
      "\u001b[34m\u001b[1mwandb\u001b[0m: Job received.\n",
      "\u001b[34m\u001b[1mwandb\u001b[0m: Agent Starting Run: zfog99gp with config:\n",
      "\u001b[34m\u001b[1mwandb\u001b[0m: \tbootstrap: False\n",
      "\u001b[34m\u001b[1mwandb\u001b[0m: \tcriterion: entropy\n",
      "\u001b[34m\u001b[1mwandb\u001b[0m: \tmax_depth: 10\n",
      "\u001b[34m\u001b[1mwandb\u001b[0m: \tmax_features: sqrt\n",
      "\u001b[34m\u001b[1mwandb\u001b[0m: \tmin_samples_leaf: 1\n",
      "\u001b[34m\u001b[1mwandb\u001b[0m: \tmin_samples_split: 10\n",
      "\u001b[34m\u001b[1mwandb\u001b[0m: \tn_estimators: 10\n",
      "\u001b[34m\u001b[1mwandb\u001b[0m: \toversample: False\n",
      "\u001b[34m\u001b[1mwandb\u001b[0m: \trandom_state: 1277\n",
      "\u001b[34m\u001b[1mwandb\u001b[0m: \trandom_state_split: 1944\n",
      "\u001b[34m\u001b[1mwandb\u001b[0m: \ttest_size: 0.2\n",
      "\u001b[34m\u001b[1mwandb\u001b[0m: \tundersample: False\n",
      "Failed to detect the name of this notebook, you can set it manually with the WANDB_NOTEBOOK_NAME environment variable to enable code saving.\n",
      "\u001b[34m\u001b[1mwandb\u001b[0m: \u001b[33mWARNING\u001b[0m Ignored wandb.init() arg project when running a sweep.\n"
     ]
    },
    {
     "data": {
      "text/html": [
       "Tracking run with wandb version 0.15.3"
      ],
      "text/plain": [
       "<IPython.core.display.HTML object>"
      ]
     },
     "metadata": {},
     "output_type": "display_data"
    },
    {
     "data": {
      "text/html": [
       "Run data is saved locally in <code>/Users/leabuetler/git_repos/06_Semester/cdl1/Sensor-Klassifikation-ohne-Deep-Learning/wandb/run-20230523_115351-zfog99gp</code>"
      ],
      "text/plain": [
       "<IPython.core.display.HTML object>"
      ]
     },
     "metadata": {},
     "output_type": "display_data"
    },
    {
     "data": {
      "text/html": [
       "Syncing run <strong><a href='https://wandb.ai/fhnw-cdl1/02-random-forest/runs/zfog99gp' target=\"_blank\">olive-sweep-7</a></strong> to <a href='https://wandb.ai/fhnw-cdl1/02-random-forest' target=\"_blank\">Weights & Biases</a> (<a href='https://wandb.me/run' target=\"_blank\">docs</a>)<br/>Sweep page: <a href='https://wandb.ai/fhnw-cdl1/02-random-forest/sweeps/549e9o5l' target=\"_blank\">https://wandb.ai/fhnw-cdl1/02-random-forest/sweeps/549e9o5l</a>"
      ],
      "text/plain": [
       "<IPython.core.display.HTML object>"
      ]
     },
     "metadata": {},
     "output_type": "display_data"
    },
    {
     "data": {
      "text/html": [
       " View project at <a href='https://wandb.ai/fhnw-cdl1/02-random-forest' target=\"_blank\">https://wandb.ai/fhnw-cdl1/02-random-forest</a>"
      ],
      "text/plain": [
       "<IPython.core.display.HTML object>"
      ]
     },
     "metadata": {},
     "output_type": "display_data"
    },
    {
     "data": {
      "text/html": [
       " View sweep at <a href='https://wandb.ai/fhnw-cdl1/02-random-forest/sweeps/549e9o5l' target=\"_blank\">https://wandb.ai/fhnw-cdl1/02-random-forest/sweeps/549e9o5l</a>"
      ],
      "text/plain": [
       "<IPython.core.display.HTML object>"
      ]
     },
     "metadata": {},
     "output_type": "display_data"
    },
    {
     "data": {
      "text/html": [
       " View run at <a href='https://wandb.ai/fhnw-cdl1/02-random-forest/runs/zfog99gp' target=\"_blank\">https://wandb.ai/fhnw-cdl1/02-random-forest/runs/zfog99gp</a>"
      ],
      "text/plain": [
       "<IPython.core.display.HTML object>"
      ]
     },
     "metadata": {},
     "output_type": "display_data"
    },
    {
     "name": "stdout",
     "output_type": "stream",
     "text": [
      "no undersampling or oversampling\n"
     ]
    },
    {
     "name": "stderr",
     "output_type": "stream",
     "text": [
      "\u001b[34m\u001b[1mwandb\u001b[0m: Ctrl + C detected. Stopping sweep.\n"
     ]
    },
    {
     "data": {
      "text/html": [
       "Waiting for W&B process to finish... <strong style=\"color:green\">(success).</strong>"
      ],
      "text/plain": [
       "<IPython.core.display.HTML object>"
      ]
     },
     "metadata": {},
     "output_type": "display_data"
    },
    {
     "data": {
      "application/vnd.jupyter.widget-view+json": {
       "model_id": "a772e531c3be4c88aa734e5d18830f40",
       "version_major": 2,
       "version_minor": 0
      },
      "text/plain": [
       "VBox(children=(Label(value='0.001 MB of 0.001 MB uploaded (0.000 MB deduped)\\r'), FloatProgress(value=1.0, max…"
      ]
     },
     "metadata": {},
     "output_type": "display_data"
    },
    {
     "data": {
      "text/html": [
       " View run <strong style=\"color:#cdcd00\">olive-sweep-7</strong> at: <a href='https://wandb.ai/fhnw-cdl1/02-random-forest/runs/zfog99gp' target=\"_blank\">https://wandb.ai/fhnw-cdl1/02-random-forest/runs/zfog99gp</a><br/>Synced 6 W&B file(s), 0 media file(s), 0 artifact file(s) and 0 other file(s)"
      ],
      "text/plain": [
       "<IPython.core.display.HTML object>"
      ]
     },
     "metadata": {},
     "output_type": "display_data"
    },
    {
     "data": {
      "text/html": [
       "Find logs at: <code>./wandb/run-20230523_115351-zfog99gp/logs</code>"
      ],
      "text/plain": [
       "<IPython.core.display.HTML object>"
      ]
     },
     "metadata": {},
     "output_type": "display_data"
    }
   ],
   "source": [
    "# CODE\n",
    "# Define sweep config random forest\n",
    "sweep_config_rf = {\n",
    "    'method': 'bayes',\n",
    "    'metric': {\n",
    "        'name': 'accuracy_val',\n",
    "        'goal': 'maximize',\n",
    "    },\n",
    "    'parameters': {\n",
    "        'n_estimators': {\n",
    "            'values': [10]\n",
    "        },\n",
    "        'criterion': {\n",
    "            'values': ['entropy']\n",
    "        },\n",
    "        'max_depth': {\n",
    "            'values': [10]\n",
    "        },\n",
    "        'min_samples_split': {\n",
    "            'values': [10]\n",
    "        },\n",
    "        'min_samples_leaf': {\n",
    "            'values': [1]\n",
    "        },\n",
    "        'max_features': {\n",
    "            'values': ['auto', 'sqrt'],\n",
    "        },\n",
    "        'bootstrap': {\n",
    "            'values': [False]\n",
    "        },\n",
    "        'test_size': {\n",
    "            'values': [0.2]\n",
    "        },\n",
    "        'random_state': {\n",
    "            'min': 1,\n",
    "            'max': 10000,\n",
    "        },\n",
    "        'random_state_split': {\n",
    "            'min': 1,\n",
    "            'max': 10000,\n",
    "        },\n",
    "        'undersample': {\n",
    "            'values': [True, False]\n",
    "        },\n",
    "        'oversample': {\n",
    "            'values': [True, False]\n",
    "        }\n",
    "    }\n",
    "}\n",
    "\n",
    "# Initialize sweep\n",
    "sweep_id = wandb.sweep(sweep_config_rf, project=\"02-random-forest\")\n",
    "\n",
    "# Define sweep function\n",
    "def sweep_rf_train():\n",
    "    # Initialize wandb\n",
    "    wandb.init(project=\"02-random-forest\")\n",
    "\n",
    "    # Get hyperparameters\n",
    "    n_estimators = wandb.config.n_estimators\n",
    "    criterion = wandb.config.criterion\n",
    "    max_depth = wandb.config.max_depth\n",
    "    min_samples_split = wandb.config.min_samples_split\n",
    "    min_samples_leaf = wandb.config.min_samples_leaf\n",
    "    max_features = wandb.config.max_features\n",
    "    bootstrap = wandb.config.bootstrap\n",
    "    random_state = wandb.config.random_state\n",
    "\n",
    "    # Parametres for preprocess data \n",
    "    test_size = wandb.config.test_size\n",
    "    random_state_split = wandb.config.random_state_split\n",
    "    undersample = wandb.config.undersample\n",
    "    oversample = wandb.config.oversample\n",
    "\n",
    "    # load data and process it \n",
    "    X_train, y_train, X_val, y_val = preprocess_data(data, \n",
    "                                                     test_size=test_size, \n",
    "                                                     random_state_split=random_state_split, \n",
    "                                                     undersample=undersample, \n",
    "                                                     oversample=oversample)\n",
    "    \n",
    "    # create a random forest model\n",
    "    rf_model = RandomForestClassifier(n_estimators=n_estimators,\n",
    "                                       criterion=criterion,\n",
    "                                       max_depth=max_depth,\n",
    "                                       min_samples_split=min_samples_split,\n",
    "                                       min_samples_leaf=min_samples_leaf,\n",
    "                                       max_features=max_features,\n",
    "                                       bootstrap=bootstrap,\n",
    "                                       random_state=random_state,\n",
    "                                       n_jobs=-1)\n",
    "    \n",
    "    # fit the random forest model\n",
    "    rf_model.fit(X_train, y_train)\n",
    "\n",
    "    # predict the classes for the val data\n",
    "    prediction_val = rf_model.predict(X_val)\n",
    "    prediction_train = rf_model.predict(X_train)\n",
    "\n",
    "    # calculate the accuracy of the random forest model with train and val data\n",
    "    accuracy_val = accuracy_score(y_true = y_val, y_pred = prediction_val)\n",
    "    accuracy_train = accuracy_score(y_true = y_train, y_pred = prediction_train)\n",
    "\n",
    "    precision_val = precision_score(y_true = y_val, y_pred = prediction_val, average = \"weighted\")\n",
    "    precision_train = precision_score(y_true = y_train, y_pred = prediction_train, average = \"weighted\")\n",
    "\n",
    "    recall_val = recall_score(y_true = y_val, y_pred = prediction_val, average = \"weighted\")\n",
    "    recall_train = recall_score(y_true = y_train, y_pred = prediction_train, average = \"weighted\")\n",
    "\n",
    "    f1_val = f1_score(y_true = y_val, y_pred = prediction_val, average = \"weighted\")\n",
    "    f1_train = f1_score(y_true = y_train, y_pred = prediction_train, average = \"weighted\")    \n",
    "\n",
    "    # log metrics\n",
    "    wandb.log({'accuracy_val': accuracy_val,\n",
    "                'accuracy_train': accuracy_train,\n",
    "                'precision_val': precision_val,\n",
    "                'precision_train': precision_train,\n",
    "                'recall_val': recall_val,\n",
    "                'recall_train': recall_train,\n",
    "                'f1_val': f1_val,\n",
    "                'f1_train': f1_train})\n",
    "    \n",
    "# Run sweep\n",
    "wandb.agent(sweep_id, function=sweep_rf_train, count=10)\n",
    "wandb.finish()"
   ]
  },
  {
   "attachments": {},
   "cell_type": "markdown",
   "metadata": {},
   "source": [
    "## Bestes Modell\n",
    "Nachdem mit Weights & Bias verschiedene Modelle trainiert und getestet wurden, konnte ein Accuracy Score von xx - xx erreicht werden:"
   ]
  },
  {
   "cell_type": "code",
   "execution_count": 9,
   "metadata": {},
   "outputs": [
    {
     "name": "stdout",
     "output_type": "stream",
     "text": [
      "no undersampling or oversampling\n"
     ]
    },
    {
     "name": "stderr",
     "output_type": "stream",
     "text": [
      "c:\\Users\\Si Ben Tran\\venv\\cdl1\\lib\\site-packages\\sklearn\\ensemble\\_forest.py:424: FutureWarning: `max_features='auto'` has been deprecated in 1.1 and will be removed in 1.3. To keep the past behaviour, explicitly set `max_features='sqrt'` or remove this parameter as it is also the default value for RandomForestClassifiers and ExtraTreesClassifiers.\n",
      "  warn(\n"
     ]
    },
    {
     "data": {
      "image/png": "[encoded data removed]",
      "text/plain": [
       "<Figure size 2000x1000 with 2 Axes>"
      ]
     },
     "metadata": {},
     "output_type": "display_data"
    }
   ],
   "source": [
    "# train test split\n",
    "random_forest_X_train, random_forest_y_train, random_forest_X_val, random_forest_y_val = preprocess_data(data, test_size=0.2, random_state_split=9718, make_plot=False, undersample=False, oversample=False)\n",
    "\n",
    "# create a logistic regression model for multiclass classification with sklearn\n",
    "random_forest = RandomForestClassifier(criterion=\"gini\", max_depth=8, max_features=\"auto\", min_samples_leaf=2, min_samples_split=4, n_estimators=9, bootstrap=False, random_state=9718, n_jobs=-1)\n",
    "\n",
    "# fit the logistic regression model\n",
    "random_forest.fit(X = random_forest_X_train, y = random_forest_y_train)\n",
    "\n",
    "# predict the classes for the val data\n",
    "random_forest_val_y_pred = random_forest.predict(X = random_forest_X_val)\n",
    "\n",
    "# calculate the accuracy of the logistic regression model with train data and val data\n",
    "random_forest_val_accuracy = accuracy_score(y_true = random_forest_y_val, y_pred = random_forest_val_y_pred)\n",
    "\n",
    "# create a confusion matrix display\n",
    "random_forest_confmatrix = confusion_matrix(y_true = random_forest_y_val, y_pred = random_forest_val_y_pred)\n",
    "\n",
    "# plot the confusion matrix of the logistic regression model\n",
    "fig, ax = plt.subplots(figsize = (20,10))\n",
    "disp = ConfusionMatrixDisplay(confusion_matrix=random_forest_confmatrix, display_labels=random_forest.classes_)\n",
    "disp.plot(ax = ax, cmap = \"Blues\", values_format = \"d\", xticks_rotation = 'vertical')\n",
    "plt.title(\"Confusion Matrix of Random Forest best Model \\n Accuracy Score of: \" + str(round(random_forest_val_accuracy, 4)), fontsize = 20, y = 1.01)\n",
    "plt.xlabel(\"Predicted Class\", fontsize = 15)\n",
    "plt.ylabel(\"True Class\", fontsize = 15)\n",
    "plt.show()"
   ]
  },
  {
   "attachments": {},
   "cell_type": "markdown",
   "metadata": {},
   "source": [
    "## Fazit\n",
    "\n",
    "Wie bereits bei Decision Tree werden auch hier die Visualisierungen aus Weights und Bias veglichen. Total wurden über xx Modelle traniert, getestet und validiert:\n",
    "![alt text](X \"Random Forest - All Runs\")\n",
    "\n",
    "XXX (Beschreibung was gemacht wurde)\n",
    "![alt text](X \"Random Forest - Run X\")\n",
    "\n",
    "Nach der Evaluierung konnten einige Erkenntnisse gewonnen werden:\n",
    "- xx\n",
    "- xx\n",
    "- xx\n",
    "\n",
    "---"
   ]
  },
  {
   "attachments": {},
   "cell_type": "markdown",
   "metadata": {},
   "source": [
    "# Modell-03 - KNN\n",
    "## Modell trainieren"
   ]
  },
  {
   "cell_type": "code",
   "execution_count": 11,
   "metadata": {},
   "outputs": [
    {
     "name": "stdout",
     "output_type": "stream",
     "text": [
      "Create sweep with ID: ipi1ough\n",
      "Sweep URL: https://wandb.ai/fhnw-cdl1/03-knn/sweeps/ipi1ough\n"
     ]
    },
    {
     "name": "stderr",
     "output_type": "stream",
     "text": [
      "\u001b[34m\u001b[1mwandb\u001b[0m: Agent Starting Run: d79ki83k with config:\n",
      "\u001b[34m\u001b[1mwandb\u001b[0m: \talgorithm: auto\n",
      "\u001b[34m\u001b[1mwandb\u001b[0m: \tn_neighbors: 2\n",
      "\u001b[34m\u001b[1mwandb\u001b[0m: \toversample: True\n",
      "\u001b[34m\u001b[1mwandb\u001b[0m: \tp: 1\n",
      "\u001b[34m\u001b[1mwandb\u001b[0m: \trandom_state_split: 5912\n",
      "\u001b[34m\u001b[1mwandb\u001b[0m: \ttest_size: 0.2\n",
      "\u001b[34m\u001b[1mwandb\u001b[0m: \tundersample: False\n",
      "\u001b[34m\u001b[1mwandb\u001b[0m: \tweights: distance\n",
      "Failed to detect the name of this notebook, you can set it manually with the WANDB_NOTEBOOK_NAME environment variable to enable code saving.\n",
      "\u001b[34m\u001b[1mwandb\u001b[0m: \u001b[33mWARNING\u001b[0m Ignored wandb.init() arg project when running a sweep.\n"
     ]
    },
    {
     "data": {
      "text/html": [
       "Tracking run with wandb version 0.15.3"
      ],
      "text/plain": [
       "<IPython.core.display.HTML object>"
      ]
     },
     "metadata": {},
     "output_type": "display_data"
    },
    {
     "data": {
      "text/html": [
       "Run data is saved locally in <code>/Users/leabuetler/git_repos/06_Semester/cdl1/Sensor-Klassifikation-ohne-Deep-Learning/wandb/run-20230523_120000-d79ki83k</code>"
      ],
      "text/plain": [
       "<IPython.core.display.HTML object>"
      ]
     },
     "metadata": {},
     "output_type": "display_data"
    },
    {
     "data": {
      "text/html": [
       "Syncing run <strong><a href='https://wandb.ai/fhnw-cdl1/03-knn/runs/d79ki83k' target=\"_blank\">eternal-sweep-1</a></strong> to <a href='https://wandb.ai/fhnw-cdl1/03-knn' target=\"_blank\">Weights & Biases</a> (<a href='https://wandb.me/run' target=\"_blank\">docs</a>)<br/>Sweep page: <a href='https://wandb.ai/fhnw-cdl1/03-knn/sweeps/ipi1ough' target=\"_blank\">https://wandb.ai/fhnw-cdl1/03-knn/sweeps/ipi1ough</a>"
      ],
      "text/plain": [
       "<IPython.core.display.HTML object>"
      ]
     },
     "metadata": {},
     "output_type": "display_data"
    },
    {
     "data": {
      "text/html": [
       " View project at <a href='https://wandb.ai/fhnw-cdl1/03-knn' target=\"_blank\">https://wandb.ai/fhnw-cdl1/03-knn</a>"
      ],
      "text/plain": [
       "<IPython.core.display.HTML object>"
      ]
     },
     "metadata": {},
     "output_type": "display_data"
    },
    {
     "data": {
      "text/html": [
       " View sweep at <a href='https://wandb.ai/fhnw-cdl1/03-knn/sweeps/ipi1ough' target=\"_blank\">https://wandb.ai/fhnw-cdl1/03-knn/sweeps/ipi1ough</a>"
      ],
      "text/plain": [
       "<IPython.core.display.HTML object>"
      ]
     },
     "metadata": {},
     "output_type": "display_data"
    },
    {
     "data": {
      "text/html": [
       " View run at <a href='https://wandb.ai/fhnw-cdl1/03-knn/runs/d79ki83k' target=\"_blank\">https://wandb.ai/fhnw-cdl1/03-knn/runs/d79ki83k</a>"
      ],
      "text/plain": [
       "<IPython.core.display.HTML object>"
      ]
     },
     "metadata": {},
     "output_type": "display_data"
    },
    {
     "name": "stdout",
     "output_type": "stream",
     "text": [
      "oversample dataset\n"
     ]
    },
    {
     "name": "stderr",
     "output_type": "stream",
     "text": [
      "\u001b[34m\u001b[1mwandb\u001b[0m: Ctrl + C detected. Stopping sweep.\n"
     ]
    },
    {
     "data": {
      "text/html": [
       "Waiting for W&B process to finish... <strong style=\"color:green\">(success).</strong>"
      ],
      "text/plain": [
       "<IPython.core.display.HTML object>"
      ]
     },
     "metadata": {},
     "output_type": "display_data"
    },
    {
     "data": {
      "text/html": [
       " View run <strong style=\"color:#cdcd00\">eternal-sweep-1</strong> at: <a href='https://wandb.ai/fhnw-cdl1/03-knn/runs/d79ki83k' target=\"_blank\">https://wandb.ai/fhnw-cdl1/03-knn/runs/d79ki83k</a><br/>Synced 6 W&B file(s), 0 media file(s), 0 artifact file(s) and 0 other file(s)"
      ],
      "text/plain": [
       "<IPython.core.display.HTML object>"
      ]
     },
     "metadata": {},
     "output_type": "display_data"
    },
    {
     "data": {
      "text/html": [
       "Find logs at: <code>./wandb/run-20230523_120000-d79ki83k/logs</code>"
      ],
      "text/plain": [
       "<IPython.core.display.HTML object>"
      ]
     },
     "metadata": {},
     "output_type": "display_data"
    }
   ],
   "source": [
    "# Define sweep config for KNN\n",
    "sweep_config_knn = {\n",
    "    'method': 'random',\n",
    "    'metric': {\n",
    "        'name': 'accuracy_val',\n",
    "        'goal': 'maximize',\n",
    "    },\n",
    "    'parameters': {\n",
    "        'n_neighbors': {\n",
    "            'values': [2, 3, 5]\n",
    "        },\n",
    "        'weights': {\n",
    "            'values': ['uniform', 'distance']\n",
    "        },\n",
    "        'algorithm': {\n",
    "            'values': ['auto']\n",
    "        },\n",
    "        'p': {\n",
    "            'values': [1, 2]\n",
    "        },\n",
    "        'test_size': {\n",
    "            'values': [0.2]\n",
    "        },\n",
    "        'random_state_split': {\n",
    "            'min': 1,\n",
    "            'max': 10000,\n",
    "        },\n",
    "        'undersample': {\n",
    "            'values': [True, False]\n",
    "        },\n",
    "        'oversample': {\n",
    "            'values': [True, False]\n",
    "        }\n",
    "    }\n",
    "}\n",
    "\n",
    "# Initialize sweep\n",
    "sweep_id = wandb.sweep(sweep_config_knn, project=\"03-knn\")\n",
    "\n",
    "# Define sweep function\n",
    "def sweep_knn_train():\n",
    "    # Initialize wandb\n",
    "    wandb.init(project=\"03-knn\")\n",
    "\n",
    "    # Get hyperparameters\n",
    "    n_neighbors = wandb.config.n_neighbors\n",
    "    weights = wandb.config.weights\n",
    "    algorithm = wandb.config.algorithm\n",
    "    p = wandb.config.p\n",
    "    \n",
    "\n",
    "    # Parametres for preprocess data \n",
    "    test_size = wandb.config.test_size\n",
    "    random_state_split = np.round(wandb.config.random_state_split, 1)\n",
    "    undersample = wandb.config.undersample\n",
    "    oversample = wandb.config.oversample\n",
    "\n",
    "    # load data and process it \n",
    "    X_train, y_train, X_val, y_val = preprocess_data(data, \n",
    "                                                     test_size=test_size, \n",
    "                                                     random_state_split=random_state_split, \n",
    "                                                     undersample=undersample, \n",
    "                                                     oversample=oversample)\n",
    "    \n",
    "    # create a decision tree model\n",
    "    knn_model = KNeighborsClassifier(n_neighbors=n_neighbors,\n",
    "                                      weights=weights,\n",
    "                                      algorithm=algorithm,\n",
    "                                      p=p)\n",
    "    \n",
    "    # fit the decision tree model\n",
    "    knn_model.fit(X_train, y_train)\n",
    "\n",
    "    # predict the classes for the val data\n",
    "    prediction_val = knn_model.predict(X_val)\n",
    "    prediction_train = knn_model.predict(X_train)\n",
    "\n",
    "    # calculate the accuracy of the decision tree model with train and val data\n",
    "    accuracy_val = accuracy_score(y_true = y_val, y_pred = prediction_val)\n",
    "    accuracy_train = accuracy_score(y_true = y_train, y_pred = prediction_train)\n",
    "\n",
    "    precision_val = precision_score(y_true = y_val, y_pred = prediction_val, average = \"weighted\")\n",
    "    precision_train = precision_score(y_true = y_train, y_pred = prediction_train, average = \"weighted\")\n",
    "\n",
    "    recall_val = recall_score(y_true = y_val, y_pred = prediction_val, average = \"weighted\")\n",
    "    recall_train = recall_score(y_true = y_train, y_pred = prediction_train, average = \"weighted\")\n",
    "\n",
    "    f1_val = f1_score(y_true = y_val, y_pred = prediction_val, average = \"weighted\")\n",
    "    f1_train = f1_score(y_true = y_train, y_pred = prediction_train, average = \"weighted\")    \n",
    "\n",
    "    # log metrics\n",
    "    wandb.log({'accuracy_val': accuracy_val,\n",
    "                'accuracy_train': accuracy_train,\n",
    "                'precision_val': precision_val,\n",
    "                'precision_train': precision_train,\n",
    "                'recall_val': recall_val,\n",
    "                'recall_train': recall_train,\n",
    "                'f1_val': f1_val,\n",
    "                'f1_train': f1_train})\n",
    "    \n",
    "# Run sweep\n",
    "wandb.agent(sweep_id, function=sweep_knn_train, count=100)\n",
    "wandb.finish()\n",
    "    "
   ]
  },
  {
   "attachments": {},
   "cell_type": "markdown",
   "metadata": {},
   "source": [
    "## Fazit\n",
    "Das k-Nearest Neighbors Modell speichert alle Trainingsdaten und berechnet für jede neue Observation die Distanz zu allen Trainingsdaten. Da für jeden Datenpunkt alle Distanzen zu allen anderen Datenpunkten berechnet werden muss, steigt die Rechenintensität mit der Menge der Daten exponentiell an.\n",
    "Hier wird ein relativ grosses Datenset für das Training verwendet, weshalb das Modell bereits sehr rechenintensiv ist. Ein Run dauert über 20 Minuten, weshalb dieses Modell hier nicht weiter verfolgt wird.\n",
    "\n",
    "---"
   ]
  },
  {
   "attachments": {},
   "cell_type": "markdown",
   "metadata": {},
   "source": [
    "# Modell-04 - SVM\n",
    "## Modell trainieren"
   ]
  },
  {
   "cell_type": "code",
   "execution_count": 10,
   "metadata": {},
   "outputs": [
    {
     "name": "stdout",
     "output_type": "stream",
     "text": [
      "Create sweep with ID: 7qnrpb80\n",
      "Sweep URL: https://wandb.ai/fhnw-cdl1/04-svm/sweeps/7qnrpb80\n"
     ]
    },
    {
     "name": "stderr",
     "output_type": "stream",
     "text": [
      "\u001b[34m\u001b[1mwandb\u001b[0m: Agent Starting Run: 8s6s3ewf with config:\n",
      "\u001b[34m\u001b[1mwandb\u001b[0m: \tC: 0.1\n",
      "\u001b[34m\u001b[1mwandb\u001b[0m: \tclass_weight: balanced\n",
      "\u001b[34m\u001b[1mwandb\u001b[0m: \toversample: True\n",
      "\u001b[34m\u001b[1mwandb\u001b[0m: \tpca_n_components: 27\n",
      "\u001b[34m\u001b[1mwandb\u001b[0m: \trandom_state: 613\n",
      "\u001b[34m\u001b[1mwandb\u001b[0m: \trandom_state_split: 105\n",
      "\u001b[34m\u001b[1mwandb\u001b[0m: \ttest_size: 0.2\n",
      "\u001b[34m\u001b[1mwandb\u001b[0m: \tundersample: True\n",
      "Failed to detect the name of this notebook, you can set it manually with the WANDB_NOTEBOOK_NAME environment variable to enable code saving.\n",
      "\u001b[34m\u001b[1mwandb\u001b[0m: \u001b[33mWARNING\u001b[0m Ignored wandb.init() arg project when running a sweep.\n"
     ]
    },
    {
     "data": {
      "text/html": [
       "Tracking run with wandb version 0.15.3"
      ],
      "text/plain": [
       "<IPython.core.display.HTML object>"
      ]
     },
     "metadata": {},
     "output_type": "display_data"
    },
    {
     "data": {
      "text/html": [
       "Run data is saved locally in <code>/Users/leabuetler/git_repos/06_Semester/cdl1/Sensor-Klassifikation-ohne-Deep-Learning/wandb/run-20230530_082815-8s6s3ewf</code>"
      ],
      "text/plain": [
       "<IPython.core.display.HTML object>"
      ]
     },
     "metadata": {},
     "output_type": "display_data"
    },
    {
     "data": {
      "text/html": [
       "Syncing run <strong><a href='https://wandb.ai/fhnw-cdl1/04-svm/runs/8s6s3ewf' target=\"_blank\">young-sweep-1</a></strong> to <a href='https://wandb.ai/fhnw-cdl1/04-svm' target=\"_blank\">Weights & Biases</a> (<a href='https://wandb.me/run' target=\"_blank\">docs</a>)<br/>Sweep page: <a href='https://wandb.ai/fhnw-cdl1/04-svm/sweeps/7qnrpb80' target=\"_blank\">https://wandb.ai/fhnw-cdl1/04-svm/sweeps/7qnrpb80</a>"
      ],
      "text/plain": [
       "<IPython.core.display.HTML object>"
      ]
     },
     "metadata": {},
     "output_type": "display_data"
    },
    {
     "data": {
      "text/html": [
       " View project at <a href='https://wandb.ai/fhnw-cdl1/04-svm' target=\"_blank\">https://wandb.ai/fhnw-cdl1/04-svm</a>"
      ],
      "text/plain": [
       "<IPython.core.display.HTML object>"
      ]
     },
     "metadata": {},
     "output_type": "display_data"
    },
    {
     "data": {
      "text/html": [
       " View sweep at <a href='https://wandb.ai/fhnw-cdl1/04-svm/sweeps/7qnrpb80' target=\"_blank\">https://wandb.ai/fhnw-cdl1/04-svm/sweeps/7qnrpb80</a>"
      ],
      "text/plain": [
       "<IPython.core.display.HTML object>"
      ]
     },
     "metadata": {},
     "output_type": "display_data"
    },
    {
     "data": {
      "text/html": [
       " View run at <a href='https://wandb.ai/fhnw-cdl1/04-svm/runs/8s6s3ewf' target=\"_blank\">https://wandb.ai/fhnw-cdl1/04-svm/runs/8s6s3ewf</a>"
      ],
      "text/plain": [
       "<IPython.core.display.HTML object>"
      ]
     },
     "metadata": {},
     "output_type": "display_data"
    },
    {
     "name": "stdout",
     "output_type": "stream",
     "text": [
      "no undersampling or oversampling\n"
     ]
    },
    {
     "name": "stderr",
     "output_type": "stream",
     "text": [
      "\u001b[34m\u001b[1mwandb\u001b[0m: Ctrl + C detected. Stopping sweep.\n"
     ]
    },
    {
     "data": {
      "text/html": [
       "Waiting for W&B process to finish... <strong style=\"color:green\">(success).</strong>"
      ],
      "text/plain": [
       "<IPython.core.display.HTML object>"
      ]
     },
     "metadata": {},
     "output_type": "display_data"
    },
    {
     "data": {
      "application/vnd.jupyter.widget-view+json": {
       "model_id": "e1f230dbeb56452c8d1a6a26925148a6",
       "version_major": 2,
       "version_minor": 0
      },
      "text/plain": [
       "VBox(children=(Label(value='0.001 MB of 0.001 MB uploaded (0.000 MB deduped)\\r'), FloatProgress(value=1.0, max…"
      ]
     },
     "metadata": {},
     "output_type": "display_data"
    },
    {
     "data": {
      "text/html": [
       " View run <strong style=\"color:#cdcd00\">young-sweep-1</strong> at: <a href='https://wandb.ai/fhnw-cdl1/04-svm/runs/8s6s3ewf' target=\"_blank\">https://wandb.ai/fhnw-cdl1/04-svm/runs/8s6s3ewf</a><br/>Synced 6 W&B file(s), 0 media file(s), 0 artifact file(s) and 0 other file(s)"
      ],
      "text/plain": [
       "<IPython.core.display.HTML object>"
      ]
     },
     "metadata": {},
     "output_type": "display_data"
    },
    {
     "data": {
      "text/html": [
       "Find logs at: <code>./wandb/run-20230530_082815-8s6s3ewf/logs</code>"
      ],
      "text/plain": [
       "<IPython.core.display.HTML object>"
      ]
     },
     "metadata": {},
     "output_type": "display_data"
    }
   ],
   "source": [
    "# Import required libraries\n",
    "from sklearn.decomposition import PCA\n",
    "from sklearn.svm import LinearSVC\n",
    "\n",
    "# Define sweep config for SVM\n",
    "sweep_config_svm = {\n",
    "    'method': 'random',\n",
    "    'metric': {\n",
    "        'name': 'accuracy_val',\n",
    "        'goal': 'maximize',\n",
    "    },\n",
    "    'parameters': {\n",
    "        'C': {\n",
    "            'values': [0.1, 0.5, 1.0]  # lowered maximum C value\n",
    "        },\n",
    "        'class_weight': {\n",
    "            'values': ['balanced', None]\n",
    "        },\n",
    "        'test_size': {\n",
    "            'values': [0.2]\n",
    "        },\n",
    "        'random_state': {\n",
    "            'min': 1,\n",
    "            'max': 10000,\n",
    "        },\n",
    "        'random_state_split': {\n",
    "            'min': 1,\n",
    "            'max': 10000,\n",
    "        },\n",
    "        'undersample': {\n",
    "            'values': [True, False]\n",
    "        },\n",
    "        'oversample': {\n",
    "            'values': [True, False]\n",
    "        },\n",
    "        'pca_n_components': {\n",
    "            'min': 2,\n",
    "            'max': 100,\n",
    "        }\n",
    "    }\n",
    "}\n",
    "\n",
    "# Initialize sweep\n",
    "sweep_id = wandb.sweep(sweep_config_svm, project=\"04-svm\")\n",
    "\n",
    "# Define sweep function\n",
    "def sweep_svm_train():\n",
    "    # Initialize wandb\n",
    "    wandb.init(project=\"04-svm\")\n",
    "\n",
    "    # Get hyperparameters\n",
    "    C = wandb.config.C\n",
    "    class_weight = wandb.config.class_weight\n",
    "    random_state = wandb.config.random_state\n",
    "\n",
    "    # Parameters for preprocess data \n",
    "    test_size = wandb.config.test_size\n",
    "    random_state_split = np.round(wandb.config.random_state_split, 1)\n",
    "    undersample = wandb.config.undersample\n",
    "    oversample = wandb.config.oversample\n",
    "    pca_n_components = wandb.config.pca_n_components\n",
    "\n",
    "    # load data and process it \n",
    "    X_train, y_train, X_val, y_val = preprocess_data(data, \n",
    "                                                     test_size=test_size, \n",
    "                                                     random_state_split=random_state_split, \n",
    "                                                     undersample=undersample, \n",
    "                                                     oversample=oversample)\n",
    "\n",
    "    # Apply PCA to reduce dimensions of data\n",
    "    pca = PCA(n_components=pca_n_components)\n",
    "    X_train = pca.fit_transform(X_train)\n",
    "    X_val = pca.transform(X_val)\n",
    "\n",
    "    # Create a linear SVM model\n",
    "    svm_model = LinearSVC(C = C,\n",
    "                          class_weight = class_weight,\n",
    "                          random_state = random_state)\n",
    "\n",
    "    # fit the decision tree model\n",
    "    svm_model.fit(X_train, y_train)\n",
    "\n",
    "    # predict the classes for the val data\n",
    "    prediction_val = svm_model.predict(X_val)\n",
    "    prediction_train = svm_model.predict(X_train)\n",
    "\n",
    "    # calculate the accuracy of the svm model with train and val data\n",
    "    accuracy_val = accuracy_score(y_true = y_val, y_pred = prediction_val)\n",
    "    accuracy_train = accuracy_score(y_true = y_train, y_pred = prediction_train)\n",
    "\n",
    "    precision_val = precision_score(y_true = y_val, y_pred = prediction_val, average = \"weighted\")\n",
    "    precision_train = precision_score(y_true = y_train, y_pred = prediction_train, average = \"weighted\")\n",
    "\n",
    "    recall_val = recall_score(y_true = y_val, y_pred = prediction_val, average = \"weighted\")\n",
    "    recall_train = recall_score(y_true = y_train, y_pred = prediction_train, average = \"weighted\")\n",
    "\n",
    "    f1_val = f1_score(y_true = y_val, y_pred = prediction_val, average = \"weighted\")\n",
    "    f1_train = f1_score(y_true = y_train, y_pred = prediction_train, average = \"weighted\")    \n",
    "\n",
    "    # log metrics\n",
    "    wandb.log({'accuracy_val': accuracy_val,\n",
    "                'accuracy_train': accuracy_train,\n",
    "                'precision_val': precision_val,\n",
    "                'precision_train': precision_train,\n",
    "                'recall_val': recall_val,\n",
    "                'recall_train': recall_train,\n",
    "                'f1_val': f1_val,\n",
    "                'f1_train': f1_train})\n",
    "    \n",
    "# Run sweep\n",
    "wandb.agent(sweep_id, function=sweep_svm_train, count=100)\n",
    "wandb.finish()"
   ]
  },
  {
   "attachments": {},
   "cell_type": "markdown",
   "metadata": {},
   "source": [
    "## Fazit\n",
    "Auch das SVM scheint eine lange trainingsdauer zu haben, weswegen das optimieren dieses Modells erschwert ist.\n",
    "Trotz verwendung von PCA für Dimensionsreduktion und linearem SVM Kernel dauert ein Run über 15 Minuten.\n",
    "Das SVM Modell hat eine Komplexität von O(n^2) bis O(n^3), was bedeutet dass die Trainingsdauer mit der Anzahl Datenpunkte exponentiell oder gar mit dem faktor ^3 ansteigt.\n",
    "Zudem hängt die rechendauer von der Dimensionalität der Daten ab, also von der Anzahl der Merkmale. Je mehr Merkmale, desto länger dauert das Training.\n",
    "Bei unserem Datensatz sind sowohl viele Attribute wie auch viele Datenpnkte vorhanden, wodurch das Training sehr lange dauert.\n",
    "Aus diesem Grund wird das SVM Modell hier nicht weiter verfolgt.\n",
    "\n",
    "---"
   ]
  },
  {
   "attachments": {},
   "cell_type": "markdown",
   "metadata": {},
   "source": [
    "# Modell-05 - Stochastic Gradient Descent\n",
    "## Modell trainieren"
   ]
  },
  {
   "cell_type": "code",
   "execution_count": 25,
   "metadata": {},
   "outputs": [
    {
     "name": "stdout",
     "output_type": "stream",
     "text": [
      "Create sweep with ID: dhf85wub\n",
      "Sweep URL: https://wandb.ai/fhnw-cdl1/06-sgd/sweeps/dhf85wub\n"
     ]
    },
    {
     "name": "stderr",
     "output_type": "stream",
     "text": [
      "\u001b[34m\u001b[1mwandb\u001b[0m: Agent Starting Run: o2pyived with config:\n",
      "\u001b[34m\u001b[1mwandb\u001b[0m: \talpha: 0.1\n",
      "\u001b[34m\u001b[1mwandb\u001b[0m: \toversample: False\n",
      "\u001b[34m\u001b[1mwandb\u001b[0m: \tpenalty: elasticnet\n",
      "\u001b[34m\u001b[1mwandb\u001b[0m: \trandom_state_split: 8748\n",
      "\u001b[34m\u001b[1mwandb\u001b[0m: \ttest_size: 0.2\n",
      "\u001b[34m\u001b[1mwandb\u001b[0m: \tundersample: True\n",
      "Failed to detect the name of this notebook, you can set it manually with the WANDB_NOTEBOOK_NAME environment variable to enable code saving.\n",
      "\u001b[34m\u001b[1mwandb\u001b[0m: \u001b[33mWARNING\u001b[0m Ignored wandb.init() arg project when running a sweep.\n"
     ]
    },
    {
     "data": {
      "text/html": [
       "Tracking run with wandb version 0.15.3"
      ],
      "text/plain": [
       "<IPython.core.display.HTML object>"
      ]
     },
     "metadata": {},
     "output_type": "display_data"
    },
    {
     "data": {
      "text/html": [
       "Run data is saved locally in <code>/Users/leabuetler/git_repos/06_Semester/cdl1/Sensor-Klassifikation-ohne-Deep-Learning/wandb/run-20230530_093016-o2pyived</code>"
      ],
      "text/plain": [
       "<IPython.core.display.HTML object>"
      ]
     },
     "metadata": {},
     "output_type": "display_data"
    },
    {
     "data": {
      "text/html": [
       "Syncing run <strong><a href='https://wandb.ai/fhnw-cdl1/06-sgd/runs/o2pyived' target=\"_blank\">earnest-sweep-1</a></strong> to <a href='https://wandb.ai/fhnw-cdl1/06-sgd' target=\"_blank\">Weights & Biases</a> (<a href='https://wandb.me/run' target=\"_blank\">docs</a>)<br/>Sweep page: <a href='https://wandb.ai/fhnw-cdl1/06-sgd/sweeps/dhf85wub' target=\"_blank\">https://wandb.ai/fhnw-cdl1/06-sgd/sweeps/dhf85wub</a>"
      ],
      "text/plain": [
       "<IPython.core.display.HTML object>"
      ]
     },
     "metadata": {},
     "output_type": "display_data"
    },
    {
     "data": {
      "text/html": [
       " View project at <a href='https://wandb.ai/fhnw-cdl1/06-sgd' target=\"_blank\">https://wandb.ai/fhnw-cdl1/06-sgd</a>"
      ],
      "text/plain": [
       "<IPython.core.display.HTML object>"
      ]
     },
     "metadata": {},
     "output_type": "display_data"
    },
    {
     "data": {
      "text/html": [
       " View sweep at <a href='https://wandb.ai/fhnw-cdl1/06-sgd/sweeps/dhf85wub' target=\"_blank\">https://wandb.ai/fhnw-cdl1/06-sgd/sweeps/dhf85wub</a>"
      ],
      "text/plain": [
       "<IPython.core.display.HTML object>"
      ]
     },
     "metadata": {},
     "output_type": "display_data"
    },
    {
     "data": {
      "text/html": [
       " View run at <a href='https://wandb.ai/fhnw-cdl1/06-sgd/runs/o2pyived' target=\"_blank\">https://wandb.ai/fhnw-cdl1/06-sgd/runs/o2pyived</a>"
      ],
      "text/plain": [
       "<IPython.core.display.HTML object>"
      ]
     },
     "metadata": {},
     "output_type": "display_data"
    },
    {
     "name": "stdout",
     "output_type": "stream",
     "text": [
      "undersample dataset\n"
     ]
    },
    {
     "data": {
      "text/html": [
       "Waiting for W&B process to finish... <strong style=\"color:green\">(success).</strong>"
      ],
      "text/plain": [
       "<IPython.core.display.HTML object>"
      ]
     },
     "metadata": {},
     "output_type": "display_data"
    },
    {
     "data": {
      "application/vnd.jupyter.widget-view+json": {
       "model_id": "71fc22af44d349ef8b4dc971c0a7937e",
       "version_major": 2,
       "version_minor": 0
      },
      "text/plain": [
       "VBox(children=(Label(value='0.001 MB of 0.001 MB uploaded (0.000 MB deduped)\\r'), FloatProgress(value=1.0, max…"
      ]
     },
     "metadata": {},
     "output_type": "display_data"
    },
    {
     "data": {
      "text/html": [
       "<style>\n",
       "    table.wandb td:nth-child(1) { padding: 0 10px; text-align: left ; width: auto;} td:nth-child(2) {text-align: left ; width: 100%}\n",
       "    .wandb-row { display: flex; flex-direction: row; flex-wrap: wrap; justify-content: flex-start; width: 100% }\n",
       "    .wandb-col { display: flex; flex-direction: column; flex-basis: 100%; flex: 1; padding: 10px; }\n",
       "    </style>\n",
       "<div class=\"wandb-row\"><div class=\"wandb-col\"><h3>Run history:</h3><br/><table class=\"wandb\"><tr><td>accuracy_train</td><td>▁</td></tr><tr><td>accuracy_val</td><td>▁</td></tr><tr><td>f1_train</td><td>▁</td></tr><tr><td>f1_val</td><td>▁</td></tr><tr><td>precision_train</td><td>▁</td></tr><tr><td>precision_val</td><td>▁</td></tr><tr><td>recall_train</td><td>▁</td></tr><tr><td>recall_val</td><td>▁</td></tr></table><br/></div><div class=\"wandb-col\"><h3>Run summary:</h3><br/><table class=\"wandb\"><tr><td>accuracy_train</td><td>0.81307</td></tr><tr><td>accuracy_val</td><td>0.65183</td></tr><tr><td>f1_train</td><td>0.80983</td></tr><tr><td>f1_val</td><td>0.63595</td></tr><tr><td>precision_train</td><td>0.81059</td></tr><tr><td>precision_val</td><td>0.66974</td></tr><tr><td>recall_train</td><td>0.81307</td></tr><tr><td>recall_val</td><td>0.65183</td></tr></table><br/></div></div>"
      ],
      "text/plain": [
       "<IPython.core.display.HTML object>"
      ]
     },
     "metadata": {},
     "output_type": "display_data"
    },
    {
     "data": {
      "text/html": [
       " View run <strong style=\"color:#cdcd00\">earnest-sweep-1</strong> at: <a href='https://wandb.ai/fhnw-cdl1/06-sgd/runs/o2pyived' target=\"_blank\">https://wandb.ai/fhnw-cdl1/06-sgd/runs/o2pyived</a><br/>Synced 6 W&B file(s), 0 media file(s), 0 artifact file(s) and 0 other file(s)"
      ],
      "text/plain": [
       "<IPython.core.display.HTML object>"
      ]
     },
     "metadata": {},
     "output_type": "display_data"
    },
    {
     "data": {
      "text/html": [
       "Find logs at: <code>./wandb/run-20230530_093016-o2pyived/logs</code>"
      ],
      "text/plain": [
       "<IPython.core.display.HTML object>"
      ]
     },
     "metadata": {},
     "output_type": "display_data"
    },
    {
     "name": "stderr",
     "output_type": "stream",
     "text": [
      "\u001b[34m\u001b[1mwandb\u001b[0m: Agent Starting Run: apxw8uam with config:\n",
      "\u001b[34m\u001b[1mwandb\u001b[0m: \talpha: 1\n",
      "\u001b[34m\u001b[1mwandb\u001b[0m: \toversample: False\n",
      "\u001b[34m\u001b[1mwandb\u001b[0m: \tpenalty: l1\n",
      "\u001b[34m\u001b[1mwandb\u001b[0m: \trandom_state_split: 3434\n",
      "\u001b[34m\u001b[1mwandb\u001b[0m: \ttest_size: 0.2\n",
      "\u001b[34m\u001b[1mwandb\u001b[0m: \tundersample: True\n",
      "Failed to detect the name of this notebook, you can set it manually with the WANDB_NOTEBOOK_NAME environment variable to enable code saving.\n",
      "\u001b[34m\u001b[1mwandb\u001b[0m: \u001b[33mWARNING\u001b[0m Ignored wandb.init() arg project when running a sweep.\n"
     ]
    },
    {
     "data": {
      "text/html": [
       "Tracking run with wandb version 0.15.3"
      ],
      "text/plain": [
       "<IPython.core.display.HTML object>"
      ]
     },
     "metadata": {},
     "output_type": "display_data"
    },
    {
     "data": {
      "text/html": [
       "Run data is saved locally in <code>/Users/leabuetler/git_repos/06_Semester/cdl1/Sensor-Klassifikation-ohne-Deep-Learning/wandb/run-20230530_093204-apxw8uam</code>"
      ],
      "text/plain": [
       "<IPython.core.display.HTML object>"
      ]
     },
     "metadata": {},
     "output_type": "display_data"
    },
    {
     "data": {
      "text/html": [
       "Syncing run <strong><a href='https://wandb.ai/fhnw-cdl1/06-sgd/runs/apxw8uam' target=\"_blank\">efficient-sweep-2</a></strong> to <a href='https://wandb.ai/fhnw-cdl1/06-sgd' target=\"_blank\">Weights & Biases</a> (<a href='https://wandb.me/run' target=\"_blank\">docs</a>)<br/>Sweep page: <a href='https://wandb.ai/fhnw-cdl1/06-sgd/sweeps/dhf85wub' target=\"_blank\">https://wandb.ai/fhnw-cdl1/06-sgd/sweeps/dhf85wub</a>"
      ],
      "text/plain": [
       "<IPython.core.display.HTML object>"
      ]
     },
     "metadata": {},
     "output_type": "display_data"
    },
    {
     "data": {
      "text/html": [
       " View project at <a href='https://wandb.ai/fhnw-cdl1/06-sgd' target=\"_blank\">https://wandb.ai/fhnw-cdl1/06-sgd</a>"
      ],
      "text/plain": [
       "<IPython.core.display.HTML object>"
      ]
     },
     "metadata": {},
     "output_type": "display_data"
    },
    {
     "data": {
      "text/html": [
       " View sweep at <a href='https://wandb.ai/fhnw-cdl1/06-sgd/sweeps/dhf85wub' target=\"_blank\">https://wandb.ai/fhnw-cdl1/06-sgd/sweeps/dhf85wub</a>"
      ],
      "text/plain": [
       "<IPython.core.display.HTML object>"
      ]
     },
     "metadata": {},
     "output_type": "display_data"
    },
    {
     "data": {
      "text/html": [
       " View run at <a href='https://wandb.ai/fhnw-cdl1/06-sgd/runs/apxw8uam' target=\"_blank\">https://wandb.ai/fhnw-cdl1/06-sgd/runs/apxw8uam</a>"
      ],
      "text/plain": [
       "<IPython.core.display.HTML object>"
      ]
     },
     "metadata": {},
     "output_type": "display_data"
    },
    {
     "name": "stdout",
     "output_type": "stream",
     "text": [
      "undersample dataset\n"
     ]
    },
    {
     "name": "stderr",
     "output_type": "stream",
     "text": [
      "/Users/leabuetler/opt/anaconda3/envs/sensor_challenge/lib/python3.9/site-packages/sklearn/metrics/_classification.py:1344: UndefinedMetricWarning: Precision is ill-defined and being set to 0.0 in labels with no predicted samples. Use `zero_division` parameter to control this behavior.\n",
      "  _warn_prf(average, modifier, msg_start, len(result))\n",
      "/Users/leabuetler/opt/anaconda3/envs/sensor_challenge/lib/python3.9/site-packages/sklearn/metrics/_classification.py:1344: UndefinedMetricWarning: Precision is ill-defined and being set to 0.0 in labels with no predicted samples. Use `zero_division` parameter to control this behavior.\n",
      "  _warn_prf(average, modifier, msg_start, len(result))\n"
     ]
    },
    {
     "data": {
      "text/html": [
       "Waiting for W&B process to finish... <strong style=\"color:green\">(success).</strong>"
      ],
      "text/plain": [
       "<IPython.core.display.HTML object>"
      ]
     },
     "metadata": {},
     "output_type": "display_data"
    },
    {
     "data": {
      "text/html": [
       "<style>\n",
       "    table.wandb td:nth-child(1) { padding: 0 10px; text-align: left ; width: auto;} td:nth-child(2) {text-align: left ; width: 100%}\n",
       "    .wandb-row { display: flex; flex-direction: row; flex-wrap: wrap; justify-content: flex-start; width: 100% }\n",
       "    .wandb-col { display: flex; flex-direction: column; flex-basis: 100%; flex: 1; padding: 10px; }\n",
       "    </style>\n",
       "<div class=\"wandb-row\"><div class=\"wandb-col\"><h3>Run history:</h3><br/><table class=\"wandb\"><tr><td>accuracy_train</td><td>▁</td></tr><tr><td>accuracy_val</td><td>▁</td></tr><tr><td>f1_train</td><td>▁</td></tr><tr><td>f1_val</td><td>▁</td></tr><tr><td>precision_train</td><td>▁</td></tr><tr><td>precision_val</td><td>▁</td></tr><tr><td>recall_train</td><td>▁</td></tr><tr><td>recall_val</td><td>▁</td></tr></table><br/></div><div class=\"wandb-col\"><h3>Run summary:</h3><br/><table class=\"wandb\"><tr><td>accuracy_train</td><td>0.86008</td></tr><tr><td>accuracy_val</td><td>0.61726</td></tr><tr><td>f1_train</td><td>0.8256</td></tr><tr><td>f1_val</td><td>0.52393</td></tr><tr><td>precision_train</td><td>0.80064</td></tr><tr><td>precision_val</td><td>0.48035</td></tr><tr><td>recall_train</td><td>0.86008</td></tr><tr><td>recall_val</td><td>0.61726</td></tr></table><br/></div></div>"
      ],
      "text/plain": [
       "<IPython.core.display.HTML object>"
      ]
     },
     "metadata": {},
     "output_type": "display_data"
    },
    {
     "data": {
      "text/html": [
       " View run <strong style=\"color:#cdcd00\">efficient-sweep-2</strong> at: <a href='https://wandb.ai/fhnw-cdl1/06-sgd/runs/apxw8uam' target=\"_blank\">https://wandb.ai/fhnw-cdl1/06-sgd/runs/apxw8uam</a><br/>Synced 6 W&B file(s), 0 media file(s), 0 artifact file(s) and 0 other file(s)"
      ],
      "text/plain": [
       "<IPython.core.display.HTML object>"
      ]
     },
     "metadata": {},
     "output_type": "display_data"
    },
    {
     "data": {
      "text/html": [
       "Find logs at: <code>./wandb/run-20230530_093204-apxw8uam/logs</code>"
      ],
      "text/plain": [
       "<IPython.core.display.HTML object>"
      ]
     },
     "metadata": {},
     "output_type": "display_data"
    },
    {
     "name": "stderr",
     "output_type": "stream",
     "text": [
      "/Users/leabuetler/opt/anaconda3/envs/sensor_challenge/lib/python3.9/site-packages/sklearn/linear_model/_stochastic_gradient.py:702: ConvergenceWarning: Maximum number of iteration reached before convergence. Consider increasing max_iter to improve the fit.\n",
      "  warnings.warn(\n",
      "Run apxw8uam errored: Error('You must call wandb.init() before wandb.log()')\n",
      "\u001b[34m\u001b[1mwandb\u001b[0m: \u001b[32m\u001b[41mERROR\u001b[0m Run apxw8uam errored: Error('You must call wandb.init() before wandb.log()')\n",
      "\u001b[34m\u001b[1mwandb\u001b[0m: Sweep Agent: Waiting for job.\n",
      "\u001b[34m\u001b[1mwandb\u001b[0m: Job received.\n",
      "\u001b[34m\u001b[1mwandb\u001b[0m: Agent Starting Run: oq8dn2nd with config:\n",
      "\u001b[34m\u001b[1mwandb\u001b[0m: \talpha: 0.0001\n",
      "\u001b[34m\u001b[1mwandb\u001b[0m: \toversample: True\n",
      "\u001b[34m\u001b[1mwandb\u001b[0m: \tpenalty: l2\n",
      "\u001b[34m\u001b[1mwandb\u001b[0m: \trandom_state_split: 1532\n",
      "\u001b[34m\u001b[1mwandb\u001b[0m: \ttest_size: 0.2\n",
      "\u001b[34m\u001b[1mwandb\u001b[0m: \tundersample: True\n",
      "Failed to detect the name of this notebook, you can set it manually with the WANDB_NOTEBOOK_NAME environment variable to enable code saving.\n",
      "\u001b[34m\u001b[1mwandb\u001b[0m: \u001b[33mWARNING\u001b[0m Ignored wandb.init() arg project when running a sweep.\n"
     ]
    },
    {
     "data": {
      "text/html": [
       "Tracking run with wandb version 0.15.3"
      ],
      "text/plain": [
       "<IPython.core.display.HTML object>"
      ]
     },
     "metadata": {},
     "output_type": "display_data"
    },
    {
     "data": {
      "text/html": [
       "Run data is saved locally in <code>/Users/leabuetler/git_repos/06_Semester/cdl1/Sensor-Klassifikation-ohne-Deep-Learning/wandb/run-20230530_094521-oq8dn2nd</code>"
      ],
      "text/plain": [
       "<IPython.core.display.HTML object>"
      ]
     },
     "metadata": {},
     "output_type": "display_data"
    },
    {
     "data": {
      "text/html": [
       "Syncing run <strong><a href='https://wandb.ai/fhnw-cdl1/06-sgd/runs/oq8dn2nd' target=\"_blank\">revived-sweep-3</a></strong> to <a href='https://wandb.ai/fhnw-cdl1/06-sgd' target=\"_blank\">Weights & Biases</a> (<a href='https://wandb.me/run' target=\"_blank\">docs</a>)<br/>Sweep page: <a href='https://wandb.ai/fhnw-cdl1/06-sgd/sweeps/dhf85wub' target=\"_blank\">https://wandb.ai/fhnw-cdl1/06-sgd/sweeps/dhf85wub</a>"
      ],
      "text/plain": [
       "<IPython.core.display.HTML object>"
      ]
     },
     "metadata": {},
     "output_type": "display_data"
    },
    {
     "data": {
      "text/html": [
       " View project at <a href='https://wandb.ai/fhnw-cdl1/06-sgd' target=\"_blank\">https://wandb.ai/fhnw-cdl1/06-sgd</a>"
      ],
      "text/plain": [
       "<IPython.core.display.HTML object>"
      ]
     },
     "metadata": {},
     "output_type": "display_data"
    },
    {
     "data": {
      "text/html": [
       " View sweep at <a href='https://wandb.ai/fhnw-cdl1/06-sgd/sweeps/dhf85wub' target=\"_blank\">https://wandb.ai/fhnw-cdl1/06-sgd/sweeps/dhf85wub</a>"
      ],
      "text/plain": [
       "<IPython.core.display.HTML object>"
      ]
     },
     "metadata": {},
     "output_type": "display_data"
    },
    {
     "data": {
      "text/html": [
       " View run at <a href='https://wandb.ai/fhnw-cdl1/06-sgd/runs/oq8dn2nd' target=\"_blank\">https://wandb.ai/fhnw-cdl1/06-sgd/runs/oq8dn2nd</a>"
      ],
      "text/plain": [
       "<IPython.core.display.HTML object>"
      ]
     },
     "metadata": {},
     "output_type": "display_data"
    },
    {
     "name": "stdout",
     "output_type": "stream",
     "text": [
      "no undersampling or oversampling\n"
     ]
    },
    {
     "name": "stderr",
     "output_type": "stream",
     "text": [
      "/Users/leabuetler/opt/anaconda3/envs/sensor_challenge/lib/python3.9/site-packages/sklearn/linear_model/_stochastic_gradient.py:702: ConvergenceWarning: Maximum number of iteration reached before convergence. Consider increasing max_iter to improve the fit.\n",
      "  warnings.warn(\n"
     ]
    },
    {
     "data": {
      "text/html": [
       "Waiting for W&B process to finish... <strong style=\"color:green\">(success).</strong>"
      ],
      "text/plain": [
       "<IPython.core.display.HTML object>"
      ]
     },
     "metadata": {},
     "output_type": "display_data"
    },
    {
     "data": {
      "text/html": [
       "<style>\n",
       "    table.wandb td:nth-child(1) { padding: 0 10px; text-align: left ; width: auto;} td:nth-child(2) {text-align: left ; width: 100%}\n",
       "    .wandb-row { display: flex; flex-direction: row; flex-wrap: wrap; justify-content: flex-start; width: 100% }\n",
       "    .wandb-col { display: flex; flex-direction: column; flex-basis: 100%; flex: 1; padding: 10px; }\n",
       "    </style>\n",
       "<div class=\"wandb-row\"><div class=\"wandb-col\"><h3>Run history:</h3><br/><table class=\"wandb\"><tr><td>accuracy_train</td><td>▁</td></tr><tr><td>accuracy_val</td><td>▁</td></tr><tr><td>f1_train</td><td>▁</td></tr><tr><td>f1_val</td><td>▁</td></tr><tr><td>precision_train</td><td>▁</td></tr><tr><td>precision_val</td><td>▁</td></tr><tr><td>recall_train</td><td>▁</td></tr><tr><td>recall_val</td><td>▁</td></tr></table><br/></div><div class=\"wandb-col\"><h3>Run summary:</h3><br/><table class=\"wandb\"><tr><td>accuracy_train</td><td>0.81723</td></tr><tr><td>accuracy_val</td><td>0.74082</td></tr><tr><td>f1_train</td><td>0.81764</td></tr><tr><td>f1_val</td><td>0.73393</td></tr><tr><td>precision_train</td><td>0.83847</td></tr><tr><td>precision_val</td><td>0.77998</td></tr><tr><td>recall_train</td><td>0.81723</td></tr><tr><td>recall_val</td><td>0.74082</td></tr></table><br/></div></div>"
      ],
      "text/plain": [
       "<IPython.core.display.HTML object>"
      ]
     },
     "metadata": {},
     "output_type": "display_data"
    },
    {
     "data": {
      "text/html": [
       " View run <strong style=\"color:#cdcd00\">revived-sweep-3</strong> at: <a href='https://wandb.ai/fhnw-cdl1/06-sgd/runs/oq8dn2nd' target=\"_blank\">https://wandb.ai/fhnw-cdl1/06-sgd/runs/oq8dn2nd</a><br/>Synced 6 W&B file(s), 0 media file(s), 0 artifact file(s) and 0 other file(s)"
      ],
      "text/plain": [
       "<IPython.core.display.HTML object>"
      ]
     },
     "metadata": {},
     "output_type": "display_data"
    },
    {
     "data": {
      "text/html": [
       "Find logs at: <code>./wandb/run-20230530_094521-oq8dn2nd/logs</code>"
      ],
      "text/plain": [
       "<IPython.core.display.HTML object>"
      ]
     },
     "metadata": {},
     "output_type": "display_data"
    },
    {
     "name": "stderr",
     "output_type": "stream",
     "text": [
      "\u001b[34m\u001b[1mwandb\u001b[0m: Agent Starting Run: 6bt3rk3u with config:\n",
      "\u001b[34m\u001b[1mwandb\u001b[0m: \talpha: 0.01\n",
      "\u001b[34m\u001b[1mwandb\u001b[0m: \toversample: False\n",
      "\u001b[34m\u001b[1mwandb\u001b[0m: \tpenalty: l2\n",
      "\u001b[34m\u001b[1mwandb\u001b[0m: \trandom_state_split: 8145\n",
      "\u001b[34m\u001b[1mwandb\u001b[0m: \ttest_size: 0.2\n",
      "\u001b[34m\u001b[1mwandb\u001b[0m: \tundersample: False\n",
      "Failed to detect the name of this notebook, you can set it manually with the WANDB_NOTEBOOK_NAME environment variable to enable code saving.\n",
      "\u001b[34m\u001b[1mwandb\u001b[0m: \u001b[33mWARNING\u001b[0m Ignored wandb.init() arg project when running a sweep.\n"
     ]
    },
    {
     "data": {
      "text/html": [
       "Tracking run with wandb version 0.15.3"
      ],
      "text/plain": [
       "<IPython.core.display.HTML object>"
      ]
     },
     "metadata": {},
     "output_type": "display_data"
    },
    {
     "data": {
      "text/html": [
       "Run data is saved locally in <code>/Users/leabuetler/git_repos/06_Semester/cdl1/Sensor-Klassifikation-ohne-Deep-Learning/wandb/run-20230530_101250-6bt3rk3u</code>"
      ],
      "text/plain": [
       "<IPython.core.display.HTML object>"
      ]
     },
     "metadata": {},
     "output_type": "display_data"
    },
    {
     "data": {
      "text/html": [
       "Syncing run <strong><a href='https://wandb.ai/fhnw-cdl1/06-sgd/runs/6bt3rk3u' target=\"_blank\">valiant-sweep-4</a></strong> to <a href='https://wandb.ai/fhnw-cdl1/06-sgd' target=\"_blank\">Weights & Biases</a> (<a href='https://wandb.me/run' target=\"_blank\">docs</a>)<br/>Sweep page: <a href='https://wandb.ai/fhnw-cdl1/06-sgd/sweeps/dhf85wub' target=\"_blank\">https://wandb.ai/fhnw-cdl1/06-sgd/sweeps/dhf85wub</a>"
      ],
      "text/plain": [
       "<IPython.core.display.HTML object>"
      ]
     },
     "metadata": {},
     "output_type": "display_data"
    },
    {
     "data": {
      "text/html": [
       " View project at <a href='https://wandb.ai/fhnw-cdl1/06-sgd' target=\"_blank\">https://wandb.ai/fhnw-cdl1/06-sgd</a>"
      ],
      "text/plain": [
       "<IPython.core.display.HTML object>"
      ]
     },
     "metadata": {},
     "output_type": "display_data"
    },
    {
     "data": {
      "text/html": [
       " View sweep at <a href='https://wandb.ai/fhnw-cdl1/06-sgd/sweeps/dhf85wub' target=\"_blank\">https://wandb.ai/fhnw-cdl1/06-sgd/sweeps/dhf85wub</a>"
      ],
      "text/plain": [
       "<IPython.core.display.HTML object>"
      ]
     },
     "metadata": {},
     "output_type": "display_data"
    },
    {
     "data": {
      "text/html": [
       " View run at <a href='https://wandb.ai/fhnw-cdl1/06-sgd/runs/6bt3rk3u' target=\"_blank\">https://wandb.ai/fhnw-cdl1/06-sgd/runs/6bt3rk3u</a>"
      ],
      "text/plain": [
       "<IPython.core.display.HTML object>"
      ]
     },
     "metadata": {},
     "output_type": "display_data"
    },
    {
     "name": "stdout",
     "output_type": "stream",
     "text": [
      "no undersampling or oversampling\n"
     ]
    },
    {
     "data": {
      "text/html": [
       "Waiting for W&B process to finish... <strong style=\"color:green\">(success).</strong>"
      ],
      "text/plain": [
       "<IPython.core.display.HTML object>"
      ]
     },
     "metadata": {},
     "output_type": "display_data"
    },
    {
     "data": {
      "application/vnd.jupyter.widget-view+json": {
       "model_id": "50dea91df40e49a7baeb2af27ef3a8b0",
       "version_major": 2,
       "version_minor": 0
      },
      "text/plain": [
       "VBox(children=(Label(value='0.001 MB of 0.001 MB uploaded (0.000 MB deduped)\\r'), FloatProgress(value=1.0, max…"
      ]
     },
     "metadata": {},
     "output_type": "display_data"
    },
    {
     "data": {
      "text/html": [
       "<style>\n",
       "    table.wandb td:nth-child(1) { padding: 0 10px; text-align: left ; width: auto;} td:nth-child(2) {text-align: left ; width: 100%}\n",
       "    .wandb-row { display: flex; flex-direction: row; flex-wrap: wrap; justify-content: flex-start; width: 100% }\n",
       "    .wandb-col { display: flex; flex-direction: column; flex-basis: 100%; flex: 1; padding: 10px; }\n",
       "    </style>\n",
       "<div class=\"wandb-row\"><div class=\"wandb-col\"><h3>Run history:</h3><br/><table class=\"wandb\"><tr><td>accuracy_train</td><td>▁</td></tr><tr><td>accuracy_val</td><td>▁</td></tr><tr><td>f1_train</td><td>▁</td></tr><tr><td>f1_val</td><td>▁</td></tr><tr><td>precision_train</td><td>▁</td></tr><tr><td>precision_val</td><td>▁</td></tr><tr><td>recall_train</td><td>▁</td></tr><tr><td>recall_val</td><td>▁</td></tr></table><br/></div><div class=\"wandb-col\"><h3>Run summary:</h3><br/><table class=\"wandb\"><tr><td>accuracy_train</td><td>0.83061</td></tr><tr><td>accuracy_val</td><td>0.64748</td></tr><tr><td>f1_train</td><td>0.82465</td></tr><tr><td>f1_val</td><td>0.64846</td></tr><tr><td>precision_train</td><td>0.83204</td></tr><tr><td>precision_val</td><td>0.68284</td></tr><tr><td>recall_train</td><td>0.83061</td></tr><tr><td>recall_val</td><td>0.64748</td></tr></table><br/></div></div>"
      ],
      "text/plain": [
       "<IPython.core.display.HTML object>"
      ]
     },
     "metadata": {},
     "output_type": "display_data"
    },
    {
     "data": {
      "text/html": [
       " View run <strong style=\"color:#cdcd00\">valiant-sweep-4</strong> at: <a href='https://wandb.ai/fhnw-cdl1/06-sgd/runs/6bt3rk3u' target=\"_blank\">https://wandb.ai/fhnw-cdl1/06-sgd/runs/6bt3rk3u</a><br/>Synced 6 W&B file(s), 0 media file(s), 0 artifact file(s) and 0 other file(s)"
      ],
      "text/plain": [
       "<IPython.core.display.HTML object>"
      ]
     },
     "metadata": {},
     "output_type": "display_data"
    },
    {
     "data": {
      "text/html": [
       "Find logs at: <code>./wandb/run-20230530_101250-6bt3rk3u/logs</code>"
      ],
      "text/plain": [
       "<IPython.core.display.HTML object>"
      ]
     },
     "metadata": {},
     "output_type": "display_data"
    },
    {
     "name": "stderr",
     "output_type": "stream",
     "text": [
      "\u001b[34m\u001b[1mwandb\u001b[0m: Agent Starting Run: 6bzztp5h with config:\n",
      "\u001b[34m\u001b[1mwandb\u001b[0m: \talpha: 0.01\n",
      "\u001b[34m\u001b[1mwandb\u001b[0m: \toversample: False\n",
      "\u001b[34m\u001b[1mwandb\u001b[0m: \tpenalty: elasticnet\n",
      "\u001b[34m\u001b[1mwandb\u001b[0m: \trandom_state_split: 239\n",
      "\u001b[34m\u001b[1mwandb\u001b[0m: \ttest_size: 0.2\n",
      "\u001b[34m\u001b[1mwandb\u001b[0m: \tundersample: False\n",
      "Failed to detect the name of this notebook, you can set it manually with the WANDB_NOTEBOOK_NAME environment variable to enable code saving.\n",
      "\u001b[34m\u001b[1mwandb\u001b[0m: \u001b[33mWARNING\u001b[0m Ignored wandb.init() arg project when running a sweep.\n"
     ]
    },
    {
     "data": {
      "text/html": [
       "Tracking run with wandb version 0.15.3"
      ],
      "text/plain": [
       "<IPython.core.display.HTML object>"
      ]
     },
     "metadata": {},
     "output_type": "display_data"
    },
    {
     "data": {
      "text/html": [
       "Run data is saved locally in <code>/Users/leabuetler/git_repos/06_Semester/cdl1/Sensor-Klassifikation-ohne-Deep-Learning/wandb/run-20230530_101739-6bzztp5h</code>"
      ],
      "text/plain": [
       "<IPython.core.display.HTML object>"
      ]
     },
     "metadata": {},
     "output_type": "display_data"
    },
    {
     "data": {
      "text/html": [
       "Syncing run <strong><a href='https://wandb.ai/fhnw-cdl1/06-sgd/runs/6bzztp5h' target=\"_blank\">sparkling-sweep-5</a></strong> to <a href='https://wandb.ai/fhnw-cdl1/06-sgd' target=\"_blank\">Weights & Biases</a> (<a href='https://wandb.me/run' target=\"_blank\">docs</a>)<br/>Sweep page: <a href='https://wandb.ai/fhnw-cdl1/06-sgd/sweeps/dhf85wub' target=\"_blank\">https://wandb.ai/fhnw-cdl1/06-sgd/sweeps/dhf85wub</a>"
      ],
      "text/plain": [
       "<IPython.core.display.HTML object>"
      ]
     },
     "metadata": {},
     "output_type": "display_data"
    },
    {
     "data": {
      "text/html": [
       " View project at <a href='https://wandb.ai/fhnw-cdl1/06-sgd' target=\"_blank\">https://wandb.ai/fhnw-cdl1/06-sgd</a>"
      ],
      "text/plain": [
       "<IPython.core.display.HTML object>"
      ]
     },
     "metadata": {},
     "output_type": "display_data"
    },
    {
     "data": {
      "text/html": [
       " View sweep at <a href='https://wandb.ai/fhnw-cdl1/06-sgd/sweeps/dhf85wub' target=\"_blank\">https://wandb.ai/fhnw-cdl1/06-sgd/sweeps/dhf85wub</a>"
      ],
      "text/plain": [
       "<IPython.core.display.HTML object>"
      ]
     },
     "metadata": {},
     "output_type": "display_data"
    },
    {
     "data": {
      "text/html": [
       " View run at <a href='https://wandb.ai/fhnw-cdl1/06-sgd/runs/6bzztp5h' target=\"_blank\">https://wandb.ai/fhnw-cdl1/06-sgd/runs/6bzztp5h</a>"
      ],
      "text/plain": [
       "<IPython.core.display.HTML object>"
      ]
     },
     "metadata": {},
     "output_type": "display_data"
    },
    {
     "name": "stdout",
     "output_type": "stream",
     "text": [
      "no undersampling or oversampling\n"
     ]
    },
    {
     "data": {
      "text/html": [
       "Waiting for W&B process to finish... <strong style=\"color:green\">(success).</strong>"
      ],
      "text/plain": [
       "<IPython.core.display.HTML object>"
      ]
     },
     "metadata": {},
     "output_type": "display_data"
    },
    {
     "data": {
      "text/html": [
       "<style>\n",
       "    table.wandb td:nth-child(1) { padding: 0 10px; text-align: left ; width: auto;} td:nth-child(2) {text-align: left ; width: 100%}\n",
       "    .wandb-row { display: flex; flex-direction: row; flex-wrap: wrap; justify-content: flex-start; width: 100% }\n",
       "    .wandb-col { display: flex; flex-direction: column; flex-basis: 100%; flex: 1; padding: 10px; }\n",
       "    </style>\n",
       "<div class=\"wandb-row\"><div class=\"wandb-col\"><h3>Run history:</h3><br/><table class=\"wandb\"><tr><td>accuracy_train</td><td>▁</td></tr><tr><td>accuracy_val</td><td>▁</td></tr><tr><td>f1_train</td><td>▁</td></tr><tr><td>f1_val</td><td>▁</td></tr><tr><td>precision_train</td><td>▁</td></tr><tr><td>precision_val</td><td>▁</td></tr><tr><td>recall_train</td><td>▁</td></tr><tr><td>recall_val</td><td>▁</td></tr></table><br/></div><div class=\"wandb-col\"><h3>Run summary:</h3><br/><table class=\"wandb\"><tr><td>accuracy_train</td><td>0.83325</td></tr><tr><td>accuracy_val</td><td>0.55994</td></tr><tr><td>f1_train</td><td>0.82732</td></tr><tr><td>f1_val</td><td>0.56863</td></tr><tr><td>precision_train</td><td>0.83036</td></tr><tr><td>precision_val</td><td>0.77552</td></tr><tr><td>recall_train</td><td>0.83325</td></tr><tr><td>recall_val</td><td>0.55994</td></tr></table><br/></div></div>"
      ],
      "text/plain": [
       "<IPython.core.display.HTML object>"
      ]
     },
     "metadata": {},
     "output_type": "display_data"
    },
    {
     "data": {
      "text/html": [
       " View run <strong style=\"color:#cdcd00\">sparkling-sweep-5</strong> at: <a href='https://wandb.ai/fhnw-cdl1/06-sgd/runs/6bzztp5h' target=\"_blank\">https://wandb.ai/fhnw-cdl1/06-sgd/runs/6bzztp5h</a><br/>Synced 6 W&B file(s), 0 media file(s), 0 artifact file(s) and 0 other file(s)"
      ],
      "text/plain": [
       "<IPython.core.display.HTML object>"
      ]
     },
     "metadata": {},
     "output_type": "display_data"
    },
    {
     "data": {
      "text/html": [
       "Find logs at: <code>./wandb/run-20230530_101739-6bzztp5h/logs</code>"
      ],
      "text/plain": [
       "<IPython.core.display.HTML object>"
      ]
     },
     "metadata": {},
     "output_type": "display_data"
    },
    {
     "name": "stderr",
     "output_type": "stream",
     "text": [
      "\u001b[34m\u001b[1mwandb\u001b[0m: Agent Starting Run: ilc3v744 with config:\n",
      "\u001b[34m\u001b[1mwandb\u001b[0m: \talpha: 0.1\n",
      "\u001b[34m\u001b[1mwandb\u001b[0m: \toversample: False\n",
      "\u001b[34m\u001b[1mwandb\u001b[0m: \tpenalty: l2\n",
      "\u001b[34m\u001b[1mwandb\u001b[0m: \trandom_state_split: 3571\n",
      "\u001b[34m\u001b[1mwandb\u001b[0m: \ttest_size: 0.2\n",
      "\u001b[34m\u001b[1mwandb\u001b[0m: \tundersample: True\n",
      "Failed to detect the name of this notebook, you can set it manually with the WANDB_NOTEBOOK_NAME environment variable to enable code saving.\n",
      "\u001b[34m\u001b[1mwandb\u001b[0m: \u001b[33mWARNING\u001b[0m Ignored wandb.init() arg project when running a sweep.\n"
     ]
    },
    {
     "data": {
      "text/html": [
       "Tracking run with wandb version 0.15.3"
      ],
      "text/plain": [
       "<IPython.core.display.HTML object>"
      ]
     },
     "metadata": {},
     "output_type": "display_data"
    },
    {
     "data": {
      "text/html": [
       "Run data is saved locally in <code>/Users/leabuetler/git_repos/06_Semester/cdl1/Sensor-Klassifikation-ohne-Deep-Learning/wandb/run-20230530_102338-ilc3v744</code>"
      ],
      "text/plain": [
       "<IPython.core.display.HTML object>"
      ]
     },
     "metadata": {},
     "output_type": "display_data"
    },
    {
     "data": {
      "text/html": [
       "Syncing run <strong><a href='https://wandb.ai/fhnw-cdl1/06-sgd/runs/ilc3v744' target=\"_blank\">charmed-sweep-6</a></strong> to <a href='https://wandb.ai/fhnw-cdl1/06-sgd' target=\"_blank\">Weights & Biases</a> (<a href='https://wandb.me/run' target=\"_blank\">docs</a>)<br/>Sweep page: <a href='https://wandb.ai/fhnw-cdl1/06-sgd/sweeps/dhf85wub' target=\"_blank\">https://wandb.ai/fhnw-cdl1/06-sgd/sweeps/dhf85wub</a>"
      ],
      "text/plain": [
       "<IPython.core.display.HTML object>"
      ]
     },
     "metadata": {},
     "output_type": "display_data"
    },
    {
     "data": {
      "text/html": [
       " View project at <a href='https://wandb.ai/fhnw-cdl1/06-sgd' target=\"_blank\">https://wandb.ai/fhnw-cdl1/06-sgd</a>"
      ],
      "text/plain": [
       "<IPython.core.display.HTML object>"
      ]
     },
     "metadata": {},
     "output_type": "display_data"
    },
    {
     "data": {
      "text/html": [
       " View sweep at <a href='https://wandb.ai/fhnw-cdl1/06-sgd/sweeps/dhf85wub' target=\"_blank\">https://wandb.ai/fhnw-cdl1/06-sgd/sweeps/dhf85wub</a>"
      ],
      "text/plain": [
       "<IPython.core.display.HTML object>"
      ]
     },
     "metadata": {},
     "output_type": "display_data"
    },
    {
     "data": {
      "text/html": [
       " View run at <a href='https://wandb.ai/fhnw-cdl1/06-sgd/runs/ilc3v744' target=\"_blank\">https://wandb.ai/fhnw-cdl1/06-sgd/runs/ilc3v744</a>"
      ],
      "text/plain": [
       "<IPython.core.display.HTML object>"
      ]
     },
     "metadata": {},
     "output_type": "display_data"
    },
    {
     "name": "stdout",
     "output_type": "stream",
     "text": [
      "undersample dataset\n"
     ]
    },
    {
     "data": {
      "text/html": [
       "Waiting for W&B process to finish... <strong style=\"color:green\">(success).</strong>"
      ],
      "text/plain": [
       "<IPython.core.display.HTML object>"
      ]
     },
     "metadata": {},
     "output_type": "display_data"
    },
    {
     "data": {
      "text/html": [
       "<style>\n",
       "    table.wandb td:nth-child(1) { padding: 0 10px; text-align: left ; width: auto;} td:nth-child(2) {text-align: left ; width: 100%}\n",
       "    .wandb-row { display: flex; flex-direction: row; flex-wrap: wrap; justify-content: flex-start; width: 100% }\n",
       "    .wandb-col { display: flex; flex-direction: column; flex-basis: 100%; flex: 1; padding: 10px; }\n",
       "    </style>\n",
       "<div class=\"wandb-row\"><div class=\"wandb-col\"><h3>Run history:</h3><br/><table class=\"wandb\"><tr><td>accuracy_train</td><td>▁</td></tr><tr><td>accuracy_val</td><td>▁</td></tr><tr><td>f1_train</td><td>▁</td></tr><tr><td>f1_val</td><td>▁</td></tr><tr><td>precision_train</td><td>▁</td></tr><tr><td>precision_val</td><td>▁</td></tr><tr><td>recall_train</td><td>▁</td></tr><tr><td>recall_val</td><td>▁</td></tr></table><br/></div><div class=\"wandb-col\"><h3>Run summary:</h3><br/><table class=\"wandb\"><tr><td>accuracy_train</td><td>0.79049</td></tr><tr><td>accuracy_val</td><td>0.79871</td></tr><tr><td>f1_train</td><td>0.78684</td></tr><tr><td>f1_val</td><td>0.78919</td></tr><tr><td>precision_train</td><td>0.78786</td></tr><tr><td>precision_val</td><td>0.82061</td></tr><tr><td>recall_train</td><td>0.79049</td></tr><tr><td>recall_val</td><td>0.79871</td></tr></table><br/></div></div>"
      ],
      "text/plain": [
       "<IPython.core.display.HTML object>"
      ]
     },
     "metadata": {},
     "output_type": "display_data"
    },
    {
     "data": {
      "text/html": [
       " View run <strong style=\"color:#cdcd00\">charmed-sweep-6</strong> at: <a href='https://wandb.ai/fhnw-cdl1/06-sgd/runs/ilc3v744' target=\"_blank\">https://wandb.ai/fhnw-cdl1/06-sgd/runs/ilc3v744</a><br/>Synced 6 W&B file(s), 0 media file(s), 0 artifact file(s) and 0 other file(s)"
      ],
      "text/plain": [
       "<IPython.core.display.HTML object>"
      ]
     },
     "metadata": {},
     "output_type": "display_data"
    },
    {
     "data": {
      "text/html": [
       "Find logs at: <code>./wandb/run-20230530_102338-ilc3v744/logs</code>"
      ],
      "text/plain": [
       "<IPython.core.display.HTML object>"
      ]
     },
     "metadata": {},
     "output_type": "display_data"
    },
    {
     "name": "stderr",
     "output_type": "stream",
     "text": [
      "\u001b[34m\u001b[1mwandb\u001b[0m: Agent Starting Run: j4oedxnx with config:\n",
      "\u001b[34m\u001b[1mwandb\u001b[0m: \talpha: 0.001\n",
      "\u001b[34m\u001b[1mwandb\u001b[0m: \toversample: True\n",
      "\u001b[34m\u001b[1mwandb\u001b[0m: \tpenalty: l2\n",
      "\u001b[34m\u001b[1mwandb\u001b[0m: \trandom_state_split: 1731\n",
      "\u001b[34m\u001b[1mwandb\u001b[0m: \ttest_size: 0.2\n",
      "\u001b[34m\u001b[1mwandb\u001b[0m: \tundersample: False\n",
      "Failed to detect the name of this notebook, you can set it manually with the WANDB_NOTEBOOK_NAME environment variable to enable code saving.\n",
      "\u001b[34m\u001b[1mwandb\u001b[0m: \u001b[33mWARNING\u001b[0m Ignored wandb.init() arg project when running a sweep.\n"
     ]
    },
    {
     "data": {
      "text/html": [
       "Tracking run with wandb version 0.15.3"
      ],
      "text/plain": [
       "<IPython.core.display.HTML object>"
      ]
     },
     "metadata": {},
     "output_type": "display_data"
    },
    {
     "data": {
      "text/html": [
       "Run data is saved locally in <code>/Users/leabuetler/git_repos/06_Semester/cdl1/Sensor-Klassifikation-ohne-Deep-Learning/wandb/run-20230530_102512-j4oedxnx</code>"
      ],
      "text/plain": [
       "<IPython.core.display.HTML object>"
      ]
     },
     "metadata": {},
     "output_type": "display_data"
    },
    {
     "data": {
      "text/html": [
       "Syncing run <strong><a href='https://wandb.ai/fhnw-cdl1/06-sgd/runs/j4oedxnx' target=\"_blank\">usual-sweep-7</a></strong> to <a href='https://wandb.ai/fhnw-cdl1/06-sgd' target=\"_blank\">Weights & Biases</a> (<a href='https://wandb.me/run' target=\"_blank\">docs</a>)<br/>Sweep page: <a href='https://wandb.ai/fhnw-cdl1/06-sgd/sweeps/dhf85wub' target=\"_blank\">https://wandb.ai/fhnw-cdl1/06-sgd/sweeps/dhf85wub</a>"
      ],
      "text/plain": [
       "<IPython.core.display.HTML object>"
      ]
     },
     "metadata": {},
     "output_type": "display_data"
    },
    {
     "data": {
      "text/html": [
       " View project at <a href='https://wandb.ai/fhnw-cdl1/06-sgd' target=\"_blank\">https://wandb.ai/fhnw-cdl1/06-sgd</a>"
      ],
      "text/plain": [
       "<IPython.core.display.HTML object>"
      ]
     },
     "metadata": {},
     "output_type": "display_data"
    },
    {
     "data": {
      "text/html": [
       " View sweep at <a href='https://wandb.ai/fhnw-cdl1/06-sgd/sweeps/dhf85wub' target=\"_blank\">https://wandb.ai/fhnw-cdl1/06-sgd/sweeps/dhf85wub</a>"
      ],
      "text/plain": [
       "<IPython.core.display.HTML object>"
      ]
     },
     "metadata": {},
     "output_type": "display_data"
    },
    {
     "data": {
      "text/html": [
       " View run at <a href='https://wandb.ai/fhnw-cdl1/06-sgd/runs/j4oedxnx' target=\"_blank\">https://wandb.ai/fhnw-cdl1/06-sgd/runs/j4oedxnx</a>"
      ],
      "text/plain": [
       "<IPython.core.display.HTML object>"
      ]
     },
     "metadata": {},
     "output_type": "display_data"
    },
    {
     "name": "stdout",
     "output_type": "stream",
     "text": [
      "oversample dataset\n"
     ]
    },
    {
     "data": {
      "text/html": [
       "Waiting for W&B process to finish... <strong style=\"color:green\">(success).</strong>"
      ],
      "text/plain": [
       "<IPython.core.display.HTML object>"
      ]
     },
     "metadata": {},
     "output_type": "display_data"
    },
    {
     "data": {
      "text/html": [
       "<style>\n",
       "    table.wandb td:nth-child(1) { padding: 0 10px; text-align: left ; width: auto;} td:nth-child(2) {text-align: left ; width: 100%}\n",
       "    .wandb-row { display: flex; flex-direction: row; flex-wrap: wrap; justify-content: flex-start; width: 100% }\n",
       "    .wandb-col { display: flex; flex-direction: column; flex-basis: 100%; flex: 1; padding: 10px; }\n",
       "    </style>\n",
       "<div class=\"wandb-row\"><div class=\"wandb-col\"><h3>Run history:</h3><br/><table class=\"wandb\"><tr><td>accuracy_train</td><td>▁</td></tr><tr><td>accuracy_val</td><td>▁</td></tr><tr><td>f1_train</td><td>▁</td></tr><tr><td>f1_val</td><td>▁</td></tr><tr><td>precision_train</td><td>▁</td></tr><tr><td>precision_val</td><td>▁</td></tr><tr><td>recall_train</td><td>▁</td></tr><tr><td>recall_val</td><td>▁</td></tr></table><br/></div><div class=\"wandb-col\"><h3>Run summary:</h3><br/><table class=\"wandb\"><tr><td>accuracy_train</td><td>0.82621</td></tr><tr><td>accuracy_val</td><td>0.62037</td></tr><tr><td>f1_train</td><td>0.82462</td></tr><tr><td>f1_val</td><td>0.58283</td></tr><tr><td>precision_train</td><td>0.83632</td></tr><tr><td>precision_val</td><td>0.60288</td></tr><tr><td>recall_train</td><td>0.82621</td></tr><tr><td>recall_val</td><td>0.62037</td></tr></table><br/></div></div>"
      ],
      "text/plain": [
       "<IPython.core.display.HTML object>"
      ]
     },
     "metadata": {},
     "output_type": "display_data"
    },
    {
     "data": {
      "text/html": [
       " View run <strong style=\"color:#cdcd00\">usual-sweep-7</strong> at: <a href='https://wandb.ai/fhnw-cdl1/06-sgd/runs/j4oedxnx' target=\"_blank\">https://wandb.ai/fhnw-cdl1/06-sgd/runs/j4oedxnx</a><br/>Synced 6 W&B file(s), 0 media file(s), 0 artifact file(s) and 0 other file(s)"
      ],
      "text/plain": [
       "<IPython.core.display.HTML object>"
      ]
     },
     "metadata": {},
     "output_type": "display_data"
    },
    {
     "data": {
      "text/html": [
       "Find logs at: <code>./wandb/run-20230530_102512-j4oedxnx/logs</code>"
      ],
      "text/plain": [
       "<IPython.core.display.HTML object>"
      ]
     },
     "metadata": {},
     "output_type": "display_data"
    },
    {
     "name": "stderr",
     "output_type": "stream",
     "text": [
      "\u001b[34m\u001b[1mwandb\u001b[0m: Agent Starting Run: vo54b979 with config:\n",
      "\u001b[34m\u001b[1mwandb\u001b[0m: \talpha: 0.001\n",
      "\u001b[34m\u001b[1mwandb\u001b[0m: \toversample: False\n",
      "\u001b[34m\u001b[1mwandb\u001b[0m: \tpenalty: l1\n",
      "\u001b[34m\u001b[1mwandb\u001b[0m: \trandom_state_split: 2145\n",
      "\u001b[34m\u001b[1mwandb\u001b[0m: \ttest_size: 0.2\n",
      "\u001b[34m\u001b[1mwandb\u001b[0m: \tundersample: False\n",
      "Failed to detect the name of this notebook, you can set it manually with the WANDB_NOTEBOOK_NAME environment variable to enable code saving.\n",
      "\u001b[34m\u001b[1mwandb\u001b[0m: \u001b[33mWARNING\u001b[0m Ignored wandb.init() arg project when running a sweep.\n"
     ]
    },
    {
     "data": {
      "text/html": [
       "Tracking run with wandb version 0.15.3"
      ],
      "text/plain": [
       "<IPython.core.display.HTML object>"
      ]
     },
     "metadata": {},
     "output_type": "display_data"
    },
    {
     "data": {
      "text/html": [
       "Run data is saved locally in <code>/Users/leabuetler/git_repos/06_Semester/cdl1/Sensor-Klassifikation-ohne-Deep-Learning/wandb/run-20230530_104643-vo54b979</code>"
      ],
      "text/plain": [
       "<IPython.core.display.HTML object>"
      ]
     },
     "metadata": {},
     "output_type": "display_data"
    },
    {
     "data": {
      "text/html": [
       "Syncing run <strong><a href='https://wandb.ai/fhnw-cdl1/06-sgd/runs/vo54b979' target=\"_blank\">spring-sweep-8</a></strong> to <a href='https://wandb.ai/fhnw-cdl1/06-sgd' target=\"_blank\">Weights & Biases</a> (<a href='https://wandb.me/run' target=\"_blank\">docs</a>)<br/>Sweep page: <a href='https://wandb.ai/fhnw-cdl1/06-sgd/sweeps/dhf85wub' target=\"_blank\">https://wandb.ai/fhnw-cdl1/06-sgd/sweeps/dhf85wub</a>"
      ],
      "text/plain": [
       "<IPython.core.display.HTML object>"
      ]
     },
     "metadata": {},
     "output_type": "display_data"
    },
    {
     "data": {
      "text/html": [
       " View project at <a href='https://wandb.ai/fhnw-cdl1/06-sgd' target=\"_blank\">https://wandb.ai/fhnw-cdl1/06-sgd</a>"
      ],
      "text/plain": [
       "<IPython.core.display.HTML object>"
      ]
     },
     "metadata": {},
     "output_type": "display_data"
    },
    {
     "data": {
      "text/html": [
       " View sweep at <a href='https://wandb.ai/fhnw-cdl1/06-sgd/sweeps/dhf85wub' target=\"_blank\">https://wandb.ai/fhnw-cdl1/06-sgd/sweeps/dhf85wub</a>"
      ],
      "text/plain": [
       "<IPython.core.display.HTML object>"
      ]
     },
     "metadata": {},
     "output_type": "display_data"
    },
    {
     "data": {
      "text/html": [
       " View run at <a href='https://wandb.ai/fhnw-cdl1/06-sgd/runs/vo54b979' target=\"_blank\">https://wandb.ai/fhnw-cdl1/06-sgd/runs/vo54b979</a>"
      ],
      "text/plain": [
       "<IPython.core.display.HTML object>"
      ]
     },
     "metadata": {},
     "output_type": "display_data"
    },
    {
     "name": "stdout",
     "output_type": "stream",
     "text": [
      "no undersampling or oversampling\n"
     ]
    },
    {
     "name": "stderr",
     "output_type": "stream",
     "text": [
      "\u001b[34m\u001b[1mwandb\u001b[0m: Ctrl + C detected. Stopping sweep.\n"
     ]
    },
    {
     "data": {
      "text/html": [
       "Waiting for W&B process to finish... <strong style=\"color:green\">(success).</strong>"
      ],
      "text/plain": [
       "<IPython.core.display.HTML object>"
      ]
     },
     "metadata": {},
     "output_type": "display_data"
    },
    {
     "data": {
      "application/vnd.jupyter.widget-view+json": {
       "model_id": "e5a7cb65632d4e27a6e5400281787c4f",
       "version_major": 2,
       "version_minor": 0
      },
      "text/plain": [
       "VBox(children=(Label(value='0.001 MB of 0.001 MB uploaded (0.000 MB deduped)\\r'), FloatProgress(value=1.0, max…"
      ]
     },
     "metadata": {},
     "output_type": "display_data"
    },
    {
     "data": {
      "text/html": [
       " View run <strong style=\"color:#cdcd00\">spring-sweep-8</strong> at: <a href='https://wandb.ai/fhnw-cdl1/06-sgd/runs/vo54b979' target=\"_blank\">https://wandb.ai/fhnw-cdl1/06-sgd/runs/vo54b979</a><br/>Synced 6 W&B file(s), 0 media file(s), 0 artifact file(s) and 0 other file(s)"
      ],
      "text/plain": [
       "<IPython.core.display.HTML object>"
      ]
     },
     "metadata": {},
     "output_type": "display_data"
    },
    {
     "data": {
      "text/html": [
       "Find logs at: <code>./wandb/run-20230530_104643-vo54b979/logs</code>"
      ],
      "text/plain": [
       "<IPython.core.display.HTML object>"
      ]
     },
     "metadata": {},
     "output_type": "display_data"
    }
   ],
   "source": [
    "# Define sweep config for SGD\n",
    "sweep_config_sgd = {\n",
    "    'method': 'random',\n",
    "    'metric': {\n",
    "        'name': 'accuracy_val',\n",
    "        'goal': 'maximize',\n",
    "    },\n",
    "    'parameters': {\n",
    "        'alpha': {\n",
    "            'values': [0.0001, 0.001, 0.01, 0.1, 1]\n",
    "        },\n",
    "        'penalty': {\n",
    "            'values': ['l2', 'l1', 'elasticnet']\n",
    "        },\n",
    "        'test_size': {\n",
    "            'values': [0.2]\n",
    "        },\n",
    "        'random_state_split': {\n",
    "            'min': 1,\n",
    "            'max': 10000,\n",
    "        },\n",
    "        'undersample': {\n",
    "            'values': [True, False]\n",
    "        },\n",
    "        'oversample': {\n",
    "            'values': [True, False]\n",
    "        }\n",
    "    }\n",
    "}\n",
    "\n",
    "# Initialize sweep\n",
    "sweep_id = wandb.sweep(sweep_config_sgd, project=\"06-sgd\")\n",
    "\n",
    "# Define sweep function\n",
    "def sweep_sgd_train():\n",
    "    # Initialize wandb\n",
    "    wandb.init(project=\"06-sgd\")\n",
    "\n",
    "    # Get hyperparameters\n",
    "    alpha = wandb.config.alpha\n",
    "    penalty = wandb.config.penalty\n",
    "\n",
    "    # Parameters for preprocess data \n",
    "    test_size = wandb.config.test_size\n",
    "    random_state_split = np.round(wandb.config.random_state_split, 1)\n",
    "    undersample = wandb.config.undersample\n",
    "    oversample = wandb.config.oversample\n",
    "\n",
    "    # load data and process it \n",
    "    X_train, y_train, X_val, y_val = preprocess_data(data, \n",
    "                                                     test_size=test_size, \n",
    "                                                     random_state_split=random_state_split, \n",
    "                                                     undersample=undersample, \n",
    "                                                     oversample=oversample)\n",
    "    \n",
    "    # create an SGD model\n",
    "    sgd_model = SGDClassifier(loss='hinge', penalty=penalty, alpha=alpha)\n",
    "    \n",
    "    # fit the SGD model\n",
    "    sgd_model.fit(X_train, y_train)\n",
    "\n",
    "    # predict the classes for the val data\n",
    "    prediction_val = sgd_model.predict(X_val)\n",
    "    prediction_train = sgd_model.predict(X_train)\n",
    "\n",
    "    # calculate the accuracy of the SGD model with train and val data\n",
    "    accuracy_val = accuracy_score(y_true = y_val, y_pred = prediction_val)\n",
    "    accuracy_train = accuracy_score(y_true = y_train, y_pred = prediction_train)\n",
    "\n",
    "    precision_val = precision_score(y_true = y_val, y_pred = prediction_val, average = \"weighted\")\n",
    "    precision_train = precision_score(y_true = y_train, y_pred = prediction_train, average = \"weighted\")\n",
    "\n",
    "    recall_val = recall_score(y_true = y_val, y_pred = prediction_val, average = \"weighted\")\n",
    "    recall_train = recall_score(y_true = y_train, y_pred = prediction_train, average = \"weighted\")\n",
    "\n",
    "    f1_val = f1_score(y_true = y_val, y_pred = prediction_val, average = \"weighted\")\n",
    "    f1_train = f1_score(y_true = y_train, y_pred = prediction_train, average = \"weighted\")    \n",
    "\n",
    "    # log metrics\n",
    "    wandb.log({'accuracy_val': accuracy_val,\n",
    "                'accuracy_train': accuracy_train,\n",
    "                'precision_val': precision_val,\n",
    "                'precision_train': precision_train,\n",
    "                'recall_val': recall_val,\n",
    "                'recall_train': recall_train,\n",
    "                'f1_val': f1_val,\n",
    "                'f1_train': f1_train})\n",
    "    \n",
    "# Run sweep\n",
    "wandb.agent(sweep_id, function= sweep_sgd_train, count=100)\n",
    "wandb.finish()\n"
   ]
  },
  {
   "attachments": {},
   "cell_type": "markdown",
   "metadata": {},
   "source": [
    "## Bestes Modell"
   ]
  },
  {
   "cell_type": "code",
   "execution_count": null,
   "metadata": {},
   "outputs": [],
   "source": [
    "# train test split\n",
    "sgd_X_train, sgd_y_train, sgd_X_val, sgd_y_val = preprocess_data(data, test_size=0.2, random_state_split=7885, make_plot=False, undersample=False, oversample=False) #TODO: add hyperparameters here\n",
    "\n",
    "# create a stochastic gradient boosting model for multiclass classification with sklearn\n",
    "sgd = SGDClassifier()  #TODO: add hyperparameters here\n",
    "\n",
    "# fit the logistic regression model\n",
    "sgd.fit(X = sgd_X_train, y = sgd_y_train)\n",
    "\n",
    "# predict the classes for the val data\n",
    "sgd_val_y_pred = sgd.predict(X = sgd_X_val)\n",
    "\n",
    "# calculate the accuracy of the logistic regression model with train data and val data\n",
    "sgd_val_accuracy = accuracy_score(y_true = sgd_y_val, y_pred = sgd_val_y_pred)\n",
    "\n",
    "# create a confusion matrix display\n",
    "sgd_confmatrix = confusion_matrix(y_true = sgd_y_val, y_pred = sgd_val_y_pred)\n",
    "\n",
    "# plot the confusion matrix of the logistic regression model\n",
    "fig, ax = plt.subplots(figsize = (20,10))\n",
    "disp = ConfusionMatrixDisplay(confusion_matrix=sgd_confmatrix, display_labels=sgd.classes_)\n",
    "disp.plot(ax = ax, cmap = \"Blues\", values_format = \"d\", xticks_rotation = 'vertical')\n",
    "plt.title(\"Confusion Matrix of Gradient Boosting best Model \\n Accuracy Score of: \" + str(round(sgd_val_accuracy, 4)), fontsize = 20, y = 1.01)\n",
    "plt.xlabel(\"Predicted Class\", fontsize = 15)\n",
    "plt.ylabel(\"True Class\", fontsize = 15)\n",
    "plt.show()"
   ]
  },
  {
   "attachments": {},
   "cell_type": "markdown",
   "metadata": {},
   "source": [
    "## Fazit\n",
    "Wie bereits den anderen Modellen werden auch hier die Visualisierungen aus Weights und Bias veglichen. Total wurden über xx Modelle traniert, getestet und validiert:\n",
    "![alt text](X \"K-Means - All Runs\")\n",
    "\n",
    "XXX (Beschreibung was gemacht wurde)\n",
    "![alt text](X \"K-Means - Run X\")\n",
    "\n",
    "Nach der Evaluierung konnten einige Erkenntnisse gewonnen werden:\n",
    "- xx\n",
    "- xx\n",
    "- xx\n",
    "\n",
    "---"
   ]
  },
  {
   "attachments": {},
   "cell_type": "markdown",
   "metadata": {},
   "source": [
    "# Modelle vergleichen\n"
   ]
  },
  {
   "cell_type": "code",
   "execution_count": null,
   "metadata": {},
   "outputs": [],
   "source": [
    "# create a dictionary with the model names as key and the accuracy score as value\n",
    "model_accuracy_dict = {\"Logistic Regression Baseline Model\": baseline_val_accuracy}\n",
    "\n",
    "# create a dataframe from the dictionary\n",
    "model_accuracy_df = pd.DataFrame.from_dict(model_accuracy_dict, orient = \"index\", columns = [\"Accuracy Score\"])\n",
    "\n",
    "# sort dataframe by accuracy score\n",
    "model_accuracy_df = model_accuracy_df.sort_values(by = \"Accuracy Score\", ascending = False)\n",
    "\n",
    "# display the dataframe \n",
    "display(model_accuracy_df)\n",
    "\n",
    "# create a barplot for comparison \n",
    "fig, ax = plt.subplots(figsize = (20,10))\n",
    "model_accuracy_df.plot(kind = \"bar\", ax = ax, legend = False, color = \"lightblue\", edgecolor = \"black\", linewidth = 1)\n",
    "# add the accuracy score as text to the barplot\n",
    "plt.title(\"Accuracy Score comparison of ML Modells\", fontsize = 20, y = 1.01)\n",
    "plt.xlabel(\"Model\", fontsize = 15)\n",
    "plt.ylabel(\"Accuracy Score\", fontsize = 15)\n",
    "plt.xticks(rotation = 0)\n",
    "plt.show()\n"
   ]
  },
  {
   "attachments": {},
   "cell_type": "markdown",
   "metadata": {},
   "source": [
    "## Fazit zu ML Modelle \n",
    "\n",
    "blabla\n",
    "\n",
    "---"
   ]
  }
 ],
 "metadata": {
  "kernelspec": {
   "display_name": "cdl1",
   "language": "python",
   "name": "python3"
  },
  "language_info": {
   "codemirror_mode": {
    "name": "ipython",
    "version": 3
   },
   "file_extension": ".py",
   "mimetype": "text/x-python",
   "name": "python",
   "nbconvert_exporter": "python",
   "pygments_lexer": "ipython3",
   "version": "3.9.16"
  },
  "orig_nbformat": 4
 },
 "nbformat": 4,
 "nbformat_minor": 2
}
