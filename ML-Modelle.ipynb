{
 "cells": [
  {
   "attachments": {},
   "cell_type": "markdown",
   "metadata": {},
   "source": [
    "# Sensor Based Activity Recoginition \n",
    "Challenge: cdl1 - Sensor based Activity Recognition  \n",
    "Team: Lea Bütler, Manjavy Kirupa, Etienne Roulet, Si Ben Tran  \n",
    "\n",
    "Aufgabe: ML Modell erstellen\n",
    "\n",
    "Hier in diesem Notebook erstellen wir unsere Machine Learning Modelle.\n",
    "\n",
    "---"
   ]
  },
  {
   "attachments": {},
   "cell_type": "markdown",
   "metadata": {},
   "source": [
    "# Libraries Importieren"
   ]
  },
  {
   "cell_type": "code",
   "execution_count": 2,
   "metadata": {},
   "outputs": [
    {
     "name": "stderr",
     "output_type": "stream",
     "text": [
      "wandb: Appending key for api.wandb.ai to your netrc file: C:\\Users\\Si Ben Tran/.netrc\n",
      "Failed to detect the name of this notebook, you can set it manually with the WANDB_NOTEBOOK_NAME environment variable to enable code saving.\n",
      "\u001b[34m\u001b[1mwandb\u001b[0m: Currently logged in as: \u001b[33m7ben18\u001b[0m (\u001b[33mfhnw-cdl1\u001b[0m). Use \u001b[1m`wandb login --relogin`\u001b[0m to force relogin\n"
     ]
    },
    {
     "name": "stdout",
     "output_type": "stream",
     "text": [
      "Successfull wandb login:  True\n"
     ]
    }
   ],
   "source": [
    "# Data Science Libraries\n",
    "import pandas as pd\n",
    "import matplotlib.pyplot as plt\n",
    "import numpy as np\n",
    "import sklearn\n",
    "\n",
    "# Preprocessing \n",
    "from sklearn.model_selection import train_test_split, GroupShuffleSplit\n",
    "import imblearn\n",
    "\n",
    "# ML Modells\n",
    "\n",
    "## import logistic regression\n",
    "from sklearn.linear_model import LogisticRegression\n",
    "\n",
    "## Decision Tree\n",
    "from sklearn.tree import DecisionTreeClassifier\n",
    "\n",
    "## Random Forest\n",
    "from sklearn.ensemble import RandomForestClassifier\n",
    "\n",
    "# import metrics \n",
    "\n",
    "from sklearn.metrics import accuracy_score, precision_score, recall_score, f1_score\n",
    "from sklearn.metrics import confusion_matrix, ConfusionMatrixDisplay\n",
    "\n",
    "# import wandb\n",
    "import wandb\n",
    "!wandb login 78f4b23509c6a8e501867be1da2c6c4b207c1a50\n",
    "print(\"Successfull wandb login: \", wandb.login())"
   ]
  },
  {
   "attachments": {},
   "cell_type": "markdown",
   "metadata": {},
   "source": [
    "# Daten einlesen"
   ]
  },
  {
   "attachments": {},
   "cell_type": "markdown",
   "metadata": {},
   "source": [
    "- Einlesen der unprocessierten Daten\n",
    "- Einlesen der getrimmten und aggregierten Daten"
   ]
  },
  {
   "cell_type": "code",
   "execution_count": 3,
   "metadata": {},
   "outputs": [
    {
     "data": {
      "text/plain": [
       "'raw_unprocessed_data (2539533, 17)'"
      ]
     },
     "metadata": {},
     "output_type": "display_data"
    },
    {
     "data": {
      "text/html": [
       "<div>\n",
       "<style scoped>\n",
       "    .dataframe tbody tr th:only-of-type {\n",
       "        vertical-align: middle;\n",
       "    }\n",
       "\n",
       "    .dataframe tbody tr th {\n",
       "        vertical-align: top;\n",
       "    }\n",
       "\n",
       "    .dataframe thead th {\n",
       "        text-align: right;\n",
       "    }\n",
       "</style>\n",
       "<table border=\"1\" class=\"dataframe\">\n",
       "  <thead>\n",
       "    <tr style=\"text-align: right;\">\n",
       "      <th></th>\n",
       "      <th>time</th>\n",
       "      <th>Accelerometer_x</th>\n",
       "      <th>Accelerometer_y</th>\n",
       "      <th>Accelerometer_z</th>\n",
       "      <th>Gyroscope_x</th>\n",
       "      <th>Gyroscope_y</th>\n",
       "      <th>Gyroscope_z</th>\n",
       "      <th>Magnetometer_x</th>\n",
       "      <th>Magnetometer_y</th>\n",
       "      <th>Magnetometer_z</th>\n",
       "      <th>Orientation_qx</th>\n",
       "      <th>Orientation_qy</th>\n",
       "      <th>Orientation_qz</th>\n",
       "      <th>id</th>\n",
       "      <th>user</th>\n",
       "      <th>class</th>\n",
       "      <th>id_combined</th>\n",
       "    </tr>\n",
       "  </thead>\n",
       "  <tbody>\n",
       "    <tr>\n",
       "      <th>0</th>\n",
       "      <td>2023-02-27 15:02:04.548</td>\n",
       "      <td>0.000</td>\n",
       "      <td>-3.552</td>\n",
       "      <td>-9.140</td>\n",
       "      <td>NaN</td>\n",
       "      <td>NaN</td>\n",
       "      <td>NaN</td>\n",
       "      <td>NaN</td>\n",
       "      <td>NaN</td>\n",
       "      <td>NaN</td>\n",
       "      <td>0.161765</td>\n",
       "      <td>-0.088290</td>\n",
       "      <td>-0.470671</td>\n",
       "      <td>01_SamsungA22-2023-02-27_15-02-03</td>\n",
       "      <td>Ben_Tran</td>\n",
       "      <td>Laufen</td>\n",
       "      <td>01_SamsungA22-2023-02-27_15-02-03Ben_TranLaufen</td>\n",
       "    </tr>\n",
       "    <tr>\n",
       "      <th>1</th>\n",
       "      <td>2023-02-27 15:02:17.156</td>\n",
       "      <td>0.000</td>\n",
       "      <td>9.722</td>\n",
       "      <td>1.278</td>\n",
       "      <td>NaN</td>\n",
       "      <td>NaN</td>\n",
       "      <td>NaN</td>\n",
       "      <td>NaN</td>\n",
       "      <td>NaN</td>\n",
       "      <td>NaN</td>\n",
       "      <td>-0.217750</td>\n",
       "      <td>-0.719579</td>\n",
       "      <td>0.631111</td>\n",
       "      <td>01_SamsungA22-2023-02-27_15-02-03</td>\n",
       "      <td>Ben_Tran</td>\n",
       "      <td>Laufen</td>\n",
       "      <td>01_SamsungA22-2023-02-27_15-02-03Ben_TranLaufen</td>\n",
       "    </tr>\n",
       "    <tr>\n",
       "      <th>2</th>\n",
       "      <td>2023-02-27 15:02:31.574</td>\n",
       "      <td>-0.728</td>\n",
       "      <td>9.779</td>\n",
       "      <td>0.000</td>\n",
       "      <td>NaN</td>\n",
       "      <td>NaN</td>\n",
       "      <td>NaN</td>\n",
       "      <td>NaN</td>\n",
       "      <td>NaN</td>\n",
       "      <td>NaN</td>\n",
       "      <td>-0.420650</td>\n",
       "      <td>0.568356</td>\n",
       "      <td>-0.598058</td>\n",
       "      <td>01_SamsungA22-2023-02-27_15-02-03</td>\n",
       "      <td>Ben_Tran</td>\n",
       "      <td>Laufen</td>\n",
       "      <td>01_SamsungA22-2023-02-27_15-02-03Ben_TranLaufen</td>\n",
       "    </tr>\n",
       "    <tr>\n",
       "      <th>3</th>\n",
       "      <td>2023-02-27 15:02:16.685</td>\n",
       "      <td>NaN</td>\n",
       "      <td>NaN</td>\n",
       "      <td>NaN</td>\n",
       "      <td>NaN</td>\n",
       "      <td>NaN</td>\n",
       "      <td>NaN</td>\n",
       "      <td>0.000000</td>\n",
       "      <td>43.5</td>\n",
       "      <td>-13.143750</td>\n",
       "      <td>NaN</td>\n",
       "      <td>NaN</td>\n",
       "      <td>NaN</td>\n",
       "      <td>01_SamsungA22-2023-02-27_15-02-03</td>\n",
       "      <td>Ben_Tran</td>\n",
       "      <td>Laufen</td>\n",
       "      <td>01_SamsungA22-2023-02-27_15-02-03Ben_TranLaufen</td>\n",
       "    </tr>\n",
       "    <tr>\n",
       "      <th>4</th>\n",
       "      <td>2023-02-27 15:02:32.295</td>\n",
       "      <td>NaN</td>\n",
       "      <td>NaN</td>\n",
       "      <td>NaN</td>\n",
       "      <td>NaN</td>\n",
       "      <td>NaN</td>\n",
       "      <td>NaN</td>\n",
       "      <td>-13.012501</td>\n",
       "      <td>0.0</td>\n",
       "      <td>20.587502</td>\n",
       "      <td>NaN</td>\n",
       "      <td>NaN</td>\n",
       "      <td>NaN</td>\n",
       "      <td>01_SamsungA22-2023-02-27_15-02-03</td>\n",
       "      <td>Ben_Tran</td>\n",
       "      <td>Laufen</td>\n",
       "      <td>01_SamsungA22-2023-02-27_15-02-03Ben_TranLaufen</td>\n",
       "    </tr>\n",
       "  </tbody>\n",
       "</table>\n",
       "</div>"
      ],
      "text/plain": [
       "                      time  Accelerometer_x  Accelerometer_y  Accelerometer_z  \\\n",
       "0  2023-02-27 15:02:04.548            0.000           -3.552           -9.140   \n",
       "1  2023-02-27 15:02:17.156            0.000            9.722            1.278   \n",
       "2  2023-02-27 15:02:31.574           -0.728            9.779            0.000   \n",
       "3  2023-02-27 15:02:16.685              NaN              NaN              NaN   \n",
       "4  2023-02-27 15:02:32.295              NaN              NaN              NaN   \n",
       "\n",
       "   Gyroscope_x  Gyroscope_y  Gyroscope_z  Magnetometer_x  Magnetometer_y  \\\n",
       "0          NaN          NaN          NaN             NaN             NaN   \n",
       "1          NaN          NaN          NaN             NaN             NaN   \n",
       "2          NaN          NaN          NaN             NaN             NaN   \n",
       "3          NaN          NaN          NaN        0.000000            43.5   \n",
       "4          NaN          NaN          NaN      -13.012501             0.0   \n",
       "\n",
       "   Magnetometer_z  Orientation_qx  Orientation_qy  Orientation_qz  \\\n",
       "0             NaN        0.161765       -0.088290       -0.470671   \n",
       "1             NaN       -0.217750       -0.719579        0.631111   \n",
       "2             NaN       -0.420650        0.568356       -0.598058   \n",
       "3      -13.143750             NaN             NaN             NaN   \n",
       "4       20.587502             NaN             NaN             NaN   \n",
       "\n",
       "                                  id      user   class  \\\n",
       "0  01_SamsungA22-2023-02-27_15-02-03  Ben_Tran  Laufen   \n",
       "1  01_SamsungA22-2023-02-27_15-02-03  Ben_Tran  Laufen   \n",
       "2  01_SamsungA22-2023-02-27_15-02-03  Ben_Tran  Laufen   \n",
       "3  01_SamsungA22-2023-02-27_15-02-03  Ben_Tran  Laufen   \n",
       "4  01_SamsungA22-2023-02-27_15-02-03  Ben_Tran  Laufen   \n",
       "\n",
       "                                       id_combined  \n",
       "0  01_SamsungA22-2023-02-27_15-02-03Ben_TranLaufen  \n",
       "1  01_SamsungA22-2023-02-27_15-02-03Ben_TranLaufen  \n",
       "2  01_SamsungA22-2023-02-27_15-02-03Ben_TranLaufen  \n",
       "3  01_SamsungA22-2023-02-27_15-02-03Ben_TranLaufen  \n",
       "4  01_SamsungA22-2023-02-27_15-02-03Ben_TranLaufen  "
      ]
     },
     "metadata": {},
     "output_type": "display_data"
    },
    {
     "data": {
      "text/plain": [
       "'data (2344488, 65)'"
      ]
     },
     "metadata": {},
     "output_type": "display_data"
    },
    {
     "data": {
      "text/html": [
       "<div>\n",
       "<style scoped>\n",
       "    .dataframe tbody tr th:only-of-type {\n",
       "        vertical-align: middle;\n",
       "    }\n",
       "\n",
       "    .dataframe tbody tr th {\n",
       "        vertical-align: top;\n",
       "    }\n",
       "\n",
       "    .dataframe thead th {\n",
       "        text-align: right;\n",
       "    }\n",
       "</style>\n",
       "<table border=\"1\" class=\"dataframe\">\n",
       "  <thead>\n",
       "    <tr style=\"text-align: right;\">\n",
       "      <th></th>\n",
       "      <th>time</th>\n",
       "      <th>Accelerometer_x</th>\n",
       "      <th>Accelerometer_y</th>\n",
       "      <th>Accelerometer_z</th>\n",
       "      <th>Gyroscope_x</th>\n",
       "      <th>Gyroscope_y</th>\n",
       "      <th>Gyroscope_z</th>\n",
       "      <th>Magnetometer_x</th>\n",
       "      <th>Magnetometer_y</th>\n",
       "      <th>Magnetometer_z</th>\n",
       "      <th>...</th>\n",
       "      <th>Orientation_qx_mean</th>\n",
       "      <th>Orientation_qx_median</th>\n",
       "      <th>Orientation_qy_min</th>\n",
       "      <th>Orientation_qy_max</th>\n",
       "      <th>Orientation_qy_mean</th>\n",
       "      <th>Orientation_qy_median</th>\n",
       "      <th>Orientation_qz_min</th>\n",
       "      <th>Orientation_qz_max</th>\n",
       "      <th>Orientation_qz_mean</th>\n",
       "      <th>Orientation_qz_median</th>\n",
       "    </tr>\n",
       "  </thead>\n",
       "  <tbody>\n",
       "    <tr>\n",
       "      <th>0</th>\n",
       "      <td>2023-02-27 15:02:17.156</td>\n",
       "      <td>0.000</td>\n",
       "      <td>9.722</td>\n",
       "      <td>1.278</td>\n",
       "      <td>0.0</td>\n",
       "      <td>0.0</td>\n",
       "      <td>0.0</td>\n",
       "      <td>0.000000</td>\n",
       "      <td>0.0</td>\n",
       "      <td>0.000000</td>\n",
       "      <td>...</td>\n",
       "      <td>NaN</td>\n",
       "      <td>NaN</td>\n",
       "      <td>NaN</td>\n",
       "      <td>NaN</td>\n",
       "      <td>NaN</td>\n",
       "      <td>NaN</td>\n",
       "      <td>NaN</td>\n",
       "      <td>NaN</td>\n",
       "      <td>NaN</td>\n",
       "      <td>NaN</td>\n",
       "    </tr>\n",
       "    <tr>\n",
       "      <th>1</th>\n",
       "      <td>2023-02-27 15:02:31.574</td>\n",
       "      <td>-0.728</td>\n",
       "      <td>9.779</td>\n",
       "      <td>0.000</td>\n",
       "      <td>0.0</td>\n",
       "      <td>0.0</td>\n",
       "      <td>0.0</td>\n",
       "      <td>0.000000</td>\n",
       "      <td>0.0</td>\n",
       "      <td>0.000000</td>\n",
       "      <td>...</td>\n",
       "      <td>-0.319200</td>\n",
       "      <td>-0.319200</td>\n",
       "      <td>-0.719579</td>\n",
       "      <td>0.568356</td>\n",
       "      <td>-0.075612</td>\n",
       "      <td>-0.075612</td>\n",
       "      <td>-0.598058</td>\n",
       "      <td>0.631111</td>\n",
       "      <td>0.016527</td>\n",
       "      <td>0.016527</td>\n",
       "    </tr>\n",
       "    <tr>\n",
       "      <th>2</th>\n",
       "      <td>2023-02-27 15:02:16.685</td>\n",
       "      <td>0.000</td>\n",
       "      <td>0.000</td>\n",
       "      <td>0.000</td>\n",
       "      <td>0.0</td>\n",
       "      <td>0.0</td>\n",
       "      <td>0.0</td>\n",
       "      <td>0.000000</td>\n",
       "      <td>43.5</td>\n",
       "      <td>-13.143750</td>\n",
       "      <td>...</td>\n",
       "      <td>-0.210325</td>\n",
       "      <td>-0.210325</td>\n",
       "      <td>0.000000</td>\n",
       "      <td>0.568356</td>\n",
       "      <td>0.284178</td>\n",
       "      <td>0.284178</td>\n",
       "      <td>-0.598058</td>\n",
       "      <td>0.000000</td>\n",
       "      <td>-0.299029</td>\n",
       "      <td>-0.299029</td>\n",
       "    </tr>\n",
       "    <tr>\n",
       "      <th>3</th>\n",
       "      <td>2023-02-27 15:02:32.295</td>\n",
       "      <td>0.000</td>\n",
       "      <td>0.000</td>\n",
       "      <td>0.000</td>\n",
       "      <td>0.0</td>\n",
       "      <td>0.0</td>\n",
       "      <td>0.0</td>\n",
       "      <td>-13.012501</td>\n",
       "      <td>0.0</td>\n",
       "      <td>20.587502</td>\n",
       "      <td>...</td>\n",
       "      <td>0.000000</td>\n",
       "      <td>0.000000</td>\n",
       "      <td>0.000000</td>\n",
       "      <td>0.000000</td>\n",
       "      <td>0.000000</td>\n",
       "      <td>0.000000</td>\n",
       "      <td>0.000000</td>\n",
       "      <td>0.000000</td>\n",
       "      <td>0.000000</td>\n",
       "      <td>0.000000</td>\n",
       "    </tr>\n",
       "    <tr>\n",
       "      <th>4</th>\n",
       "      <td>2023-02-27 15:02:33.285</td>\n",
       "      <td>0.000</td>\n",
       "      <td>0.000</td>\n",
       "      <td>0.000</td>\n",
       "      <td>0.0</td>\n",
       "      <td>0.0</td>\n",
       "      <td>0.0</td>\n",
       "      <td>-22.612501</td>\n",
       "      <td>0.0</td>\n",
       "      <td>20.268751</td>\n",
       "      <td>...</td>\n",
       "      <td>0.000000</td>\n",
       "      <td>0.000000</td>\n",
       "      <td>0.000000</td>\n",
       "      <td>0.000000</td>\n",
       "      <td>0.000000</td>\n",
       "      <td>0.000000</td>\n",
       "      <td>0.000000</td>\n",
       "      <td>0.000000</td>\n",
       "      <td>0.000000</td>\n",
       "      <td>0.000000</td>\n",
       "    </tr>\n",
       "  </tbody>\n",
       "</table>\n",
       "<p>5 rows × 65 columns</p>\n",
       "</div>"
      ],
      "text/plain": [
       "                      time  Accelerometer_x  Accelerometer_y  Accelerometer_z  \\\n",
       "0  2023-02-27 15:02:17.156            0.000            9.722            1.278   \n",
       "1  2023-02-27 15:02:31.574           -0.728            9.779            0.000   \n",
       "2  2023-02-27 15:02:16.685            0.000            0.000            0.000   \n",
       "3  2023-02-27 15:02:32.295            0.000            0.000            0.000   \n",
       "4  2023-02-27 15:02:33.285            0.000            0.000            0.000   \n",
       "\n",
       "   Gyroscope_x  Gyroscope_y  Gyroscope_z  Magnetometer_x  Magnetometer_y  \\\n",
       "0          0.0          0.0          0.0        0.000000             0.0   \n",
       "1          0.0          0.0          0.0        0.000000             0.0   \n",
       "2          0.0          0.0          0.0        0.000000            43.5   \n",
       "3          0.0          0.0          0.0      -13.012501             0.0   \n",
       "4          0.0          0.0          0.0      -22.612501             0.0   \n",
       "\n",
       "   Magnetometer_z  ...  Orientation_qx_mean  Orientation_qx_median  \\\n",
       "0        0.000000  ...                  NaN                    NaN   \n",
       "1        0.000000  ...            -0.319200              -0.319200   \n",
       "2      -13.143750  ...            -0.210325              -0.210325   \n",
       "3       20.587502  ...             0.000000               0.000000   \n",
       "4       20.268751  ...             0.000000               0.000000   \n",
       "\n",
       "   Orientation_qy_min Orientation_qy_max Orientation_qy_mean  \\\n",
       "0                 NaN                NaN                 NaN   \n",
       "1           -0.719579           0.568356           -0.075612   \n",
       "2            0.000000           0.568356            0.284178   \n",
       "3            0.000000           0.000000            0.000000   \n",
       "4            0.000000           0.000000            0.000000   \n",
       "\n",
       "  Orientation_qy_median Orientation_qz_min  Orientation_qz_max  \\\n",
       "0                   NaN                NaN                 NaN   \n",
       "1             -0.075612          -0.598058            0.631111   \n",
       "2              0.284178          -0.598058            0.000000   \n",
       "3              0.000000           0.000000            0.000000   \n",
       "4              0.000000           0.000000            0.000000   \n",
       "\n",
       "   Orientation_qz_mean  Orientation_qz_median  \n",
       "0                  NaN                    NaN  \n",
       "1             0.016527               0.016527  \n",
       "2            -0.299029              -0.299029  \n",
       "3             0.000000               0.000000  \n",
       "4             0.000000               0.000000  \n",
       "\n",
       "[5 rows x 65 columns]"
      ]
     },
     "metadata": {},
     "output_type": "display_data"
    }
   ],
   "source": [
    "# File: Alle_Messungen.csv (Raw Data) einlesen\n",
    "raw_unprocessed_data = pd.read_csv(\"..\\Sensor_Data-Wrangling-und-EDA\\Alle_Messungen.csv\", index_col=0)\n",
    "data = pd.read_csv(\"../Sensor_Data-Wrangling-und-EDA/data_trimmed_aggregated_windows_size_5s.csv\")\n",
    "\n",
    "# display head \n",
    "display(\"raw_unprocessed_data \" + str(raw_unprocessed_data.shape), raw_unprocessed_data.head())\n",
    "display(\"data \" + str(data.shape), data.head())"
   ]
  },
  {
   "attachments": {},
   "cell_type": "markdown",
   "metadata": {},
   "source": [
    "## Preprocessing der Daten für Baseline Modell\n",
    "\n",
    "Für das Baseline Modell werden die Daten wie folgt verarbeitet:\n",
    "\n",
    "- Entfernen der Zeilen, die NaN Werte aufweisen\n",
    "- Die Anzahl Observationen gleichmässig auf die minimale Anzahl Observationen pro Klasse sampeln\n",
    "- Die Daten werden in Trainings und Validierungsdaten gesplittet, dabei sollten die Anzahl der Werte in 'class' gleichmaessig verteilt sein\n",
    "- Die Verteilung der Klassen wird mittels einem Barplot gezeigt\n",
    "- Das erstellen eines Logistischen Regression Modell fuer multiple Klassen, mittels sklearn\n",
    "- Berechnung der Accuracy sowie Visualisierung der Confusion Matrix\n",
    "\n",
    "Fragen: \n",
    "\n",
    "- Warum wurde hier nicht nach \"id_combined\" gesplittet?  \n",
    "Hier handelt es sich um die unverarbeiteten Daten, also die Daten, die wir weder getrimmt (5 Sekunden Schnitt) noch aggregiert haben. Die Daten sind also noch in der Form, wie sie vom Sensor kommen. Da es sich hierbei um ein Baseline Model handelt, haben wir uns dazu entschieden, die Daten nicht nach \"id_combined\" zu splitten."
   ]
  },
  {
   "cell_type": "code",
   "execution_count": null,
   "metadata": {},
   "outputs": [],
   "source": [
    "# remove na rows from raw_unprocessed_data\n",
    "raw_unprocessed_data = raw_unprocessed_data.dropna(axis = 0)\n",
    "\n",
    "# drop uneccessary columns for the baseline modell\n",
    "baseline_data = raw_unprocessed_data.drop(['time', 'id', 'user', 'id_combined'], axis = 1)\n",
    "\n",
    "# get the number of observation for each class and select the minimum\n",
    "min_class = baseline_data['class'].value_counts().min()\n",
    "\n",
    "# Select the min_class of each class to get an equal number of observations for each class\n",
    "baseline_data = baseline_data.groupby('class').sample(n = min_class, random_state=42)\n",
    "\n",
    "# split the data into baselin_train_X, baseline_train_y, baseline_test_X, baseline_test_y \n",
    "baseline_train_X, baseline_val_X, baseline_train_y, baseline_val_y = train_test_split(baseline_data.drop('class', axis = 1), baseline_data['class'], test_size = 0.2, random_state = 42)\n",
    "\n",
    "# plot the class distribution of the baselin_data, baseline_train_y and baseline_test_y in 3 subplots\n",
    "fig, (ax1, ax2, ax3) = plt.subplots(1, 3, figsize = (15, 5))\n",
    "\n",
    "# plot the class distribution of the baseline_data\n",
    "baseline_data['class'].value_counts().plot(kind = \"bar\", ax = ax1, color = \"lightblue\", edgecolor = \"black\", linewidth = 1)\n",
    "ax1.set_xlabel(\"Class\")\n",
    "ax1.set_ylabel(\"Number of Observations\")\n",
    "ax1.set_title(\"Number of Observations per Class in Baseline Data\")\n",
    "\n",
    "# plot the class distribution of the baseline_train_y\n",
    "baseline_train_y.value_counts().plot(kind = \"bar\", ax = ax2, color = \"lightblue\", edgecolor = \"black\", linewidth = 1)\n",
    "ax2.set_xlabel(\"Class\")\n",
    "ax2.set_ylabel(\"Number of Observations\")\n",
    "ax2.set_title(\"Number of Observations per Class in Train Data\")\n",
    "\n",
    "# plot the class distribution of the baseline_test_y\n",
    "baseline_val_y.value_counts().plot(kind = \"bar\", ax = ax3, color = \"lightblue\", edgecolor = \"black\", linewidth = 1)\n",
    "ax3.set_xlabel(\"Class\")\n",
    "ax3.set_ylabel(\"Number of Observations\")\n",
    "ax3.set_title(\"Number of Observations per Class in Validate Data\")\n",
    "\n",
    "# set the title of the figure and optimize the layout of the subplots\n",
    "fig.suptitle(\"Class Distribution of Baseline Data, Train and Test Data\", fontsize = 16)\n",
    "plt.tight_layout()\n",
    "plt.show()\n"
   ]
  },
  {
   "attachments": {},
   "cell_type": "markdown",
   "metadata": {},
   "source": [
    "--- \n",
    "\n",
    "# Preprocessing der Daten für die ML-Modelle\n",
    "\n",
    "- Damit wir ein Data Leakage vermeiden, splitten wir die Daten aufgrund von id_combined, somit stellen wir sicher, dass die Daten, die wir für das Training verwenden, nicht in der Validierung verwendet werden.\n",
    "- Weil wir die Accuracy Metrik haben, ist es uns wichtig, dass die \"Class\" gleichverteilt ist sowohl beim Training als auch beim Test Datensatz. Die Funktin ermoeglicht es uns die Daten zu splitten, sodass die Verteilung der Klassen gleich ist. \n"
   ]
  },
  {
   "cell_type": "code",
   "execution_count": 4,
   "metadata": {},
   "outputs": [],
   "source": [
    "# Create function\n",
    "def preprocess_data(data, test_size=0.2, random_state=42, make_plot=False, undersample=False, oversample=False):\n",
    "\n",
    "    # Split data into train and validation sets using GroupShuffleSplit\n",
    "    df_train_idx, df_val_idx = next(iter(sklearn.model_selection.GroupShuffleSplit(n_splits=1, test_size=test_size, random_state=random_state).split(data, groups=data['id_combined'])))\n",
    "    df_train_ = data.iloc[df_train_idx]\n",
    "    df_val_ = data.iloc[df_val_idx]\n",
    "\n",
    "    # Undersample if specified, else oversample if specified, else keep original dataset\n",
    "    if undersample and not oversample:\n",
    "        print(\"undersample dataset\")\n",
    "        df_train = df_train_.groupby('class').sample(n = df_train_['class'].value_counts().min(), random_state=random_state)\n",
    "        df_val = df_val_.groupby('class').sample(n = df_val_['class'].value_counts().min(), random_state=random_state)\n",
    "    elif oversample and not undersample:\n",
    "        print(\"oversample dataset\")\n",
    "        df_train = df_train_.groupby('class').sample(n = df_train_['class'].value_counts().max(), replace=True, random_state=random_state)\n",
    "        df_val = df_val_.groupby('class').sample(n = df_val_['class'].value_counts().max(), replace=True, random_state=random_state)\n",
    "\n",
    "        #df_train = df_train_.groupby('class').apply(lambda x: x.sample(df_train_['class'].value_counts().max(), replace=True, random_state=42))\n",
    "        #df_val = df_val_.groupby('class').apply(lambda x: x.sample(df_val_['class'].value_counts().max(), replace=True, random_state=42))\n",
    "    else:\n",
    "        print(\"no undersampling or oversampling\")\n",
    "        df_train = df_train_\n",
    "        df_val = df_val_\n",
    "\n",
    "    # Plot class distribution if specified\n",
    "    if make_plot:\n",
    "        # create counterplot for the class distribution of train and test data\n",
    "        fig, (ax1, ax2) = plt.subplots(1, 2, figsize = (15, 5))\n",
    "\n",
    "        # plot the class distribution of the train data\n",
    "        df_train['class'].value_counts().plot(kind = \"bar\", ax = ax1, color = \"lightblue\", edgecolor = \"black\", linewidth = 1)\n",
    "        ax1.set_xlabel(\"Class\")\n",
    "        ax1.set_ylabel(\"Number of Observations\")\n",
    "        ax1.set_title(\"Number of Observations per Class in Train Data\")\n",
    "        for p in ax1.patches:\n",
    "            ax1.annotate(str(p.get_height()), (p.get_x() * 1.005, p.get_height() * 1.005))\n",
    "\n",
    "        # plot the class distribution of the test data\n",
    "        df_val['class'].value_counts().plot(kind = \"bar\", ax = ax2, color = \"lightblue\", edgecolor = \"black\", linewidth = 1)\n",
    "        ax2.set_xlabel(\"Class\")\n",
    "        ax2.set_ylabel(\"Number of Observations\")\n",
    "        ax2.set_title(\"Number of Observations per Class in Validate Data\")\n",
    "        for p in ax2.patches:\n",
    "            ax2.annotate(str(p.get_height()), (p.get_x() * 1.005, p.get_height() * 1.005))\n",
    "\n",
    "        # set the title of the figure and optimize the layout of the subplots\n",
    "        fig.suptitle(\"Class Distribution of Train and Validate Dataz\\n undersample: \" + str(undersample) + \" ,oversample: \" + str(oversample), fontsize = 16)\n",
    "        plt.tight_layout()\n",
    "        plt.show()\n",
    "\n",
    "    # cols that should be dropped from the dataset\n",
    "    cols_to_drop = ['time', 'Accelerometer_x', 'Accelerometer_y', 'Accelerometer_z', 'Gyroscope_x', 'Gyroscope_y', 'Gyroscope_z', 'Magnetometer_x',\n",
    "                    'Magnetometer_y', 'Magnetometer_z', 'Orientation_qx', 'Orientation_qy', 'Orientation_qz', 'id', 'user', 'id_combined']\n",
    "    \n",
    "    # Drop columns\n",
    "    df_train = df_train.drop(cols_to_drop, axis=1)\n",
    "    df_val = df_val.drop(cols_to_drop, axis=1)\n",
    "\n",
    "    # drop rows with NaN Values (cause from the export_aggregated_df(concat_only=True) function, there exists rows with NaN values)\n",
    "    df_train = df_train.dropna()\n",
    "    df_val = df_val.dropna()\n",
    "\n",
    "    # Creata X and y \n",
    "    y_train = df_train['class']\n",
    "    X_train = df_train.drop('class', axis=1)\n",
    "    y_val = df_val['class']\n",
    "    X_val = df_val.drop('class', axis=1)\n",
    "\n",
    "    # Return preprocessed data\n",
    "    return X_train, y_train, X_val, y_val"
   ]
  },
  {
   "cell_type": "code",
   "execution_count": null,
   "metadata": {},
   "outputs": [],
   "source": [
    "# preprocess data function with undersampling\n",
    "preprocess_data(data, test_size=0.2, random_state=3, make_plot=True, undersample=False, oversample=True)\n",
    "# preprocess data function with oversampling\n",
    "preprocess_data(data, test_size=0.3, random_state=5, make_plot=True, undersample=True, oversample=False)\n",
    "# preprocess data function with no undersampling or oversampling\n",
    "preprocess_data(data, test_size=0.3, random_state=7, make_plot=True, undersample=False, oversample=False)\n",
    "\n",
    "print(\"Oversample and Undersampling Data Works\")"
   ]
  },
  {
   "attachments": {},
   "cell_type": "markdown",
   "metadata": {},
   "source": [
    "---\n",
    "# Baseline Modell "
   ]
  },
  {
   "cell_type": "code",
   "execution_count": null,
   "metadata": {},
   "outputs": [],
   "source": [
    "# create a logistic regression model for multiclass classification with sklearn\n",
    "logistic_regression = LogisticRegression(multi_class = \"multinomial\", solver = \"lbfgs\", max_iter = 1000)\n",
    "\n",
    "# fit the logistic regression model\n",
    "logistic_regression.fit(X = baseline_train_X, y = baseline_train_y)\n",
    "\n",
    "# predict the classes for the val data\n",
    "baseline_val_y_pred = logistic_regression.predict(X = baseline_val_X)\n",
    "\n",
    "# calculate the accuracy of the logistic regression model with train data and val data\n",
    "baseline_val_accuracy = accuracy_score(y_true = baseline_val_y, y_pred = baseline_val_y_pred)\n",
    "\n",
    "# create a confusion matrix display\n",
    "baseline_confmatrix = confusion_matrix(y_true = baseline_val_y, y_pred = baseline_val_y_pred)\n",
    "\n",
    "# plot the confusion matrix of the logistic regression model\n",
    "fig, ax = plt.subplots(figsize = (20,10))\n",
    "disp = ConfusionMatrixDisplay(confusion_matrix=baseline_confmatrix, display_labels=logistic_regression.classes_)\n",
    "disp.plot(ax = ax, cmap = \"Blues\", values_format = \"d\", xticks_rotation = 'vertical')\n",
    "plt.title(\"Confusion Matrix of Logistic Regression Baseline Model \\n Accuracy Score of: \" + str(round(baseline_val_accuracy, 4)), fontsize = 20, y = 1.01)\n",
    "plt.xlabel(\"Predicted Class\", fontsize = 15)\n",
    "plt.ylabel(\"True Class\", fontsize = 15)\n",
    "plt.show()\n"
   ]
  },
  {
   "attachments": {},
   "cell_type": "markdown",
   "metadata": {},
   "source": [
    "Unser Baseline Modell ist ein Logistisches Regression Modell. Wir haben uns für dieses Modell entschieden, da es einfach zu implementieren ist und wir so einen Vergleich zu den anderen Machine Learning Modellen erstellen können."
   ]
  },
  {
   "attachments": {},
   "cell_type": "markdown",
   "metadata": {},
   "source": [
    "---\n",
    "# Modell-01 - Decision Tree"
   ]
  },
  {
   "cell_type": "code",
   "execution_count": 6,
   "metadata": {},
   "outputs": [
    {
     "name": "stdout",
     "output_type": "stream",
     "text": [
      "Create sweep with ID: xpm9kuef\n",
      "Sweep URL: https://wandb.ai/fhnw-cdl1/01-decision-tree/sweeps/xpm9kuef\n"
     ]
    },
    {
     "name": "stderr",
     "output_type": "stream",
     "text": [
      "\u001b[34m\u001b[1mwandb\u001b[0m: Agent Starting Run: hlygan59 with config:\n",
      "\u001b[34m\u001b[1mwandb\u001b[0m: \tmax_depth: 6\n",
      "\u001b[34m\u001b[1mwandb\u001b[0m: \tmax_features: sqrt\n",
      "\u001b[34m\u001b[1mwandb\u001b[0m: \tmin_samples_leaf: 10\n",
      "\u001b[34m\u001b[1mwandb\u001b[0m: \tmin_samples_split: 8\n",
      "\u001b[34m\u001b[1mwandb\u001b[0m: \toversample: False\n",
      "\u001b[34m\u001b[1mwandb\u001b[0m: \trandom_state: 4767\n",
      "\u001b[34m\u001b[1mwandb\u001b[0m: \tsplitter: random\n",
      "\u001b[34m\u001b[1mwandb\u001b[0m: \ttest_size: 0.4878794972544898\n",
      "\u001b[34m\u001b[1mwandb\u001b[0m: \tundersample: False\n",
      "Failed to detect the name of this notebook, you can set it manually with the WANDB_NOTEBOOK_NAME environment variable to enable code saving.\n",
      "\u001b[34m\u001b[1mwandb\u001b[0m: \u001b[33mWARNING\u001b[0m Ignored wandb.init() arg project when running a sweep.\n"
     ]
    },
    {
     "data": {
      "application/vnd.jupyter.widget-view+json": {
       "model_id": "e269afb00975475b8c2df641f2c28cd3",
       "version_major": 2,
       "version_minor": 0
      },
      "text/plain": [
       "VBox(children=(Label(value='Waiting for wandb.init()...\\r'), FloatProgress(value=0.016666666666666666, max=1.0…"
      ]
     },
     "metadata": {},
     "output_type": "display_data"
    },
    {
     "data": {
      "text/html": [
       "wandb version 0.15.0 is available!  To upgrade, please run:\n",
       " $ pip install wandb --upgrade"
      ],
      "text/plain": [
       "<IPython.core.display.HTML object>"
      ]
     },
     "metadata": {},
     "output_type": "display_data"
    },
    {
     "data": {
      "text/html": [
       "Tracking run with wandb version 0.13.11"
      ],
      "text/plain": [
       "<IPython.core.display.HTML object>"
      ]
     },
     "metadata": {},
     "output_type": "display_data"
    },
    {
     "data": {
      "text/html": [
       "Run data is saved locally in <code>c:\\Users\\Si Ben Tran\\Documents\\GitHub\\fhnw-cdl1-Sensorchallenge\\Sensor-Klassifikation-ohne-Deep-Learning\\wandb\\run-20230421_175445-hlygan59</code>"
      ],
      "text/plain": [
       "<IPython.core.display.HTML object>"
      ]
     },
     "metadata": {},
     "output_type": "display_data"
    },
    {
     "data": {
      "text/html": [
       "Syncing run <strong><a href='https://wandb.ai/fhnw-cdl1/01-decision-tree/runs/hlygan59' target=\"_blank\">helpful-sweep-1</a></strong> to <a href='https://wandb.ai/fhnw-cdl1/01-decision-tree' target=\"_blank\">Weights & Biases</a> (<a href='https://wandb.me/run' target=\"_blank\">docs</a>)<br/>Sweep page: <a href='https://wandb.ai/fhnw-cdl1/01-decision-tree/sweeps/xpm9kuef' target=\"_blank\">https://wandb.ai/fhnw-cdl1/01-decision-tree/sweeps/xpm9kuef</a>"
      ],
      "text/plain": [
       "<IPython.core.display.HTML object>"
      ]
     },
     "metadata": {},
     "output_type": "display_data"
    },
    {
     "data": {
      "text/html": [
       " View project at <a href='https://wandb.ai/fhnw-cdl1/01-decision-tree' target=\"_blank\">https://wandb.ai/fhnw-cdl1/01-decision-tree</a>"
      ],
      "text/plain": [
       "<IPython.core.display.HTML object>"
      ]
     },
     "metadata": {},
     "output_type": "display_data"
    },
    {
     "data": {
      "text/html": [
       " View sweep at <a href='https://wandb.ai/fhnw-cdl1/01-decision-tree/sweeps/xpm9kuef' target=\"_blank\">https://wandb.ai/fhnw-cdl1/01-decision-tree/sweeps/xpm9kuef</a>"
      ],
      "text/plain": [
       "<IPython.core.display.HTML object>"
      ]
     },
     "metadata": {},
     "output_type": "display_data"
    },
    {
     "data": {
      "text/html": [
       " View run at <a href='https://wandb.ai/fhnw-cdl1/01-decision-tree/runs/hlygan59' target=\"_blank\">https://wandb.ai/fhnw-cdl1/01-decision-tree/runs/hlygan59</a>"
      ],
      "text/plain": [
       "<IPython.core.display.HTML object>"
      ]
     },
     "metadata": {},
     "output_type": "display_data"
    },
    {
     "name": "stdout",
     "output_type": "stream",
     "text": [
      "no undersampling or oversampling\n"
     ]
    },
    {
     "data": {
      "text/html": [
       "Waiting for W&B process to finish... <strong style=\"color:green\">(success).</strong>"
      ],
      "text/plain": [
       "<IPython.core.display.HTML object>"
      ]
     },
     "metadata": {},
     "output_type": "display_data"
    },
    {
     "data": {
      "text/html": [
       "<style>\n",
       "    table.wandb td:nth-child(1) { padding: 0 10px; text-align: left ; width: auto;} td:nth-child(2) {text-align: left ; width: 100%}\n",
       "    .wandb-row { display: flex; flex-direction: row; flex-wrap: wrap; justify-content: flex-start; width: 100% }\n",
       "    .wandb-col { display: flex; flex-direction: column; flex-basis: 100%; flex: 1; padding: 10px; }\n",
       "    </style>\n",
       "<div class=\"wandb-row\"><div class=\"wandb-col\"><h3>Run history:</h3><br/><table class=\"wandb\"><tr><td>accuracy_train</td><td>▁</td></tr><tr><td>accuracy_val</td><td>▁</td></tr><tr><td>f1_train</td><td>▁</td></tr><tr><td>f1_val</td><td>▁</td></tr><tr><td>precision_train</td><td>▁</td></tr><tr><td>precision_val</td><td>▁</td></tr><tr><td>recall_train</td><td>▁</td></tr><tr><td>recall_val</td><td>▁</td></tr></table><br/></div><div class=\"wandb-col\"><h3>Run summary:</h3><br/><table class=\"wandb\"><tr><td>accuracy_train</td><td>0.90691</td></tr><tr><td>accuracy_val</td><td>0.71549</td></tr><tr><td>f1_train</td><td>0.90253</td></tr><tr><td>f1_val</td><td>0.7158</td></tr><tr><td>precision_train</td><td>0.91006</td></tr><tr><td>precision_val</td><td>0.7545</td></tr><tr><td>recall_train</td><td>0.90691</td></tr><tr><td>recall_val</td><td>0.71549</td></tr></table><br/></div></div>"
      ],
      "text/plain": [
       "<IPython.core.display.HTML object>"
      ]
     },
     "metadata": {},
     "output_type": "display_data"
    },
    {
     "data": {
      "text/html": [
       " View run <strong style=\"color:#cdcd00\">helpful-sweep-1</strong> at: <a href='https://wandb.ai/fhnw-cdl1/01-decision-tree/runs/hlygan59' target=\"_blank\">https://wandb.ai/fhnw-cdl1/01-decision-tree/runs/hlygan59</a><br/>Synced 5 W&B file(s), 0 media file(s), 0 artifact file(s) and 0 other file(s)"
      ],
      "text/plain": [
       "<IPython.core.display.HTML object>"
      ]
     },
     "metadata": {},
     "output_type": "display_data"
    },
    {
     "data": {
      "text/html": [
       "Find logs at: <code>.\\wandb\\run-20230421_175445-hlygan59\\logs</code>"
      ],
      "text/plain": [
       "<IPython.core.display.HTML object>"
      ]
     },
     "metadata": {},
     "output_type": "display_data"
    },
    {
     "name": "stderr",
     "output_type": "stream",
     "text": [
      "\u001b[34m\u001b[1mwandb\u001b[0m: Agent Starting Run: b1lw8ofi with config:\n",
      "\u001b[34m\u001b[1mwandb\u001b[0m: \tmax_depth: 8\n",
      "\u001b[34m\u001b[1mwandb\u001b[0m: \tmax_features: sqrt\n",
      "\u001b[34m\u001b[1mwandb\u001b[0m: \tmin_samples_leaf: 5\n",
      "\u001b[34m\u001b[1mwandb\u001b[0m: \tmin_samples_split: 4\n",
      "\u001b[34m\u001b[1mwandb\u001b[0m: \toversample: False\n",
      "\u001b[34m\u001b[1mwandb\u001b[0m: \trandom_state: 5880\n",
      "\u001b[34m\u001b[1mwandb\u001b[0m: \tsplitter: random\n",
      "\u001b[34m\u001b[1mwandb\u001b[0m: \ttest_size: 0.25147442429887745\n",
      "\u001b[34m\u001b[1mwandb\u001b[0m: \tundersample: True\n",
      "Failed to detect the name of this notebook, you can set it manually with the WANDB_NOTEBOOK_NAME environment variable to enable code saving.\n",
      "\u001b[34m\u001b[1mwandb\u001b[0m: \u001b[33mWARNING\u001b[0m Ignored wandb.init() arg project when running a sweep.\n"
     ]
    },
    {
     "data": {
      "text/html": [
       "wandb version 0.15.0 is available!  To upgrade, please run:\n",
       " $ pip install wandb --upgrade"
      ],
      "text/plain": [
       "<IPython.core.display.HTML object>"
      ]
     },
     "metadata": {},
     "output_type": "display_data"
    },
    {
     "data": {
      "text/html": [
       "Tracking run with wandb version 0.13.11"
      ],
      "text/plain": [
       "<IPython.core.display.HTML object>"
      ]
     },
     "metadata": {},
     "output_type": "display_data"
    },
    {
     "data": {
      "text/html": [
       "Run data is saved locally in <code>c:\\Users\\Si Ben Tran\\Documents\\GitHub\\fhnw-cdl1-Sensorchallenge\\Sensor-Klassifikation-ohne-Deep-Learning\\wandb\\run-20230421_175834-b1lw8ofi</code>"
      ],
      "text/plain": [
       "<IPython.core.display.HTML object>"
      ]
     },
     "metadata": {},
     "output_type": "display_data"
    },
    {
     "data": {
      "text/html": [
       "Syncing run <strong><a href='https://wandb.ai/fhnw-cdl1/01-decision-tree/runs/b1lw8ofi' target=\"_blank\">solar-sweep-2</a></strong> to <a href='https://wandb.ai/fhnw-cdl1/01-decision-tree' target=\"_blank\">Weights & Biases</a> (<a href='https://wandb.me/run' target=\"_blank\">docs</a>)<br/>Sweep page: <a href='https://wandb.ai/fhnw-cdl1/01-decision-tree/sweeps/xpm9kuef' target=\"_blank\">https://wandb.ai/fhnw-cdl1/01-decision-tree/sweeps/xpm9kuef</a>"
      ],
      "text/plain": [
       "<IPython.core.display.HTML object>"
      ]
     },
     "metadata": {},
     "output_type": "display_data"
    },
    {
     "data": {
      "text/html": [
       " View project at <a href='https://wandb.ai/fhnw-cdl1/01-decision-tree' target=\"_blank\">https://wandb.ai/fhnw-cdl1/01-decision-tree</a>"
      ],
      "text/plain": [
       "<IPython.core.display.HTML object>"
      ]
     },
     "metadata": {},
     "output_type": "display_data"
    },
    {
     "data": {
      "text/html": [
       " View sweep at <a href='https://wandb.ai/fhnw-cdl1/01-decision-tree/sweeps/xpm9kuef' target=\"_blank\">https://wandb.ai/fhnw-cdl1/01-decision-tree/sweeps/xpm9kuef</a>"
      ],
      "text/plain": [
       "<IPython.core.display.HTML object>"
      ]
     },
     "metadata": {},
     "output_type": "display_data"
    },
    {
     "data": {
      "text/html": [
       " View run at <a href='https://wandb.ai/fhnw-cdl1/01-decision-tree/runs/b1lw8ofi' target=\"_blank\">https://wandb.ai/fhnw-cdl1/01-decision-tree/runs/b1lw8ofi</a>"
      ],
      "text/plain": [
       "<IPython.core.display.HTML object>"
      ]
     },
     "metadata": {},
     "output_type": "display_data"
    },
    {
     "name": "stdout",
     "output_type": "stream",
     "text": [
      "undersample dataset\n"
     ]
    },
    {
     "data": {
      "text/html": [
       "Waiting for W&B process to finish... <strong style=\"color:green\">(success).</strong>"
      ],
      "text/plain": [
       "<IPython.core.display.HTML object>"
      ]
     },
     "metadata": {},
     "output_type": "display_data"
    },
    {
     "data": {
      "application/vnd.jupyter.widget-view+json": {
       "model_id": "5d7aeb666a0e483e8337a044548c279d",
       "version_major": 2,
       "version_minor": 0
      },
      "text/plain": [
       "VBox(children=(Label(value='0.001 MB of 0.005 MB uploaded (0.000 MB deduped)\\r'), FloatProgress(value=0.219892…"
      ]
     },
     "metadata": {},
     "output_type": "display_data"
    },
    {
     "data": {
      "text/html": [
       "<style>\n",
       "    table.wandb td:nth-child(1) { padding: 0 10px; text-align: left ; width: auto;} td:nth-child(2) {text-align: left ; width: 100%}\n",
       "    .wandb-row { display: flex; flex-direction: row; flex-wrap: wrap; justify-content: flex-start; width: 100% }\n",
       "    .wandb-col { display: flex; flex-direction: column; flex-basis: 100%; flex: 1; padding: 10px; }\n",
       "    </style>\n",
       "<div class=\"wandb-row\"><div class=\"wandb-col\"><h3>Run history:</h3><br/><table class=\"wandb\"><tr><td>accuracy_train</td><td>▁</td></tr><tr><td>accuracy_val</td><td>▁</td></tr><tr><td>f1_train</td><td>▁</td></tr><tr><td>f1_val</td><td>▁</td></tr><tr><td>precision_train</td><td>▁</td></tr><tr><td>precision_val</td><td>▁</td></tr><tr><td>recall_train</td><td>▁</td></tr><tr><td>recall_val</td><td>▁</td></tr></table><br/></div><div class=\"wandb-col\"><h3>Run summary:</h3><br/><table class=\"wandb\"><tr><td>accuracy_train</td><td>0.94355</td></tr><tr><td>accuracy_val</td><td>0.72705</td></tr><tr><td>f1_train</td><td>0.94372</td></tr><tr><td>f1_val</td><td>0.73325</td></tr><tr><td>precision_train</td><td>0.94504</td></tr><tr><td>precision_val</td><td>0.75954</td></tr><tr><td>recall_train</td><td>0.94355</td></tr><tr><td>recall_val</td><td>0.72705</td></tr></table><br/></div></div>"
      ],
      "text/plain": [
       "<IPython.core.display.HTML object>"
      ]
     },
     "metadata": {},
     "output_type": "display_data"
    },
    {
     "data": {
      "text/html": [
       " View run <strong style=\"color:#cdcd00\">solar-sweep-2</strong> at: <a href='https://wandb.ai/fhnw-cdl1/01-decision-tree/runs/b1lw8ofi' target=\"_blank\">https://wandb.ai/fhnw-cdl1/01-decision-tree/runs/b1lw8ofi</a><br/>Synced 5 W&B file(s), 0 media file(s), 0 artifact file(s) and 0 other file(s)"
      ],
      "text/plain": [
       "<IPython.core.display.HTML object>"
      ]
     },
     "metadata": {},
     "output_type": "display_data"
    },
    {
     "data": {
      "text/html": [
       "Find logs at: <code>.\\wandb\\run-20230421_175834-b1lw8ofi\\logs</code>"
      ],
      "text/plain": [
       "<IPython.core.display.HTML object>"
      ]
     },
     "metadata": {},
     "output_type": "display_data"
    },
    {
     "name": "stderr",
     "output_type": "stream",
     "text": [
      "\u001b[34m\u001b[1mwandb\u001b[0m: Agent Starting Run: 6ke55xl4 with config:\n",
      "\u001b[34m\u001b[1mwandb\u001b[0m: \tmax_depth: 9\n",
      "\u001b[34m\u001b[1mwandb\u001b[0m: \tmax_features: auto\n",
      "\u001b[34m\u001b[1mwandb\u001b[0m: \tmin_samples_leaf: 10\n",
      "\u001b[34m\u001b[1mwandb\u001b[0m: \tmin_samples_split: 6\n",
      "\u001b[34m\u001b[1mwandb\u001b[0m: \toversample: False\n",
      "\u001b[34m\u001b[1mwandb\u001b[0m: \trandom_state: 1335\n",
      "\u001b[34m\u001b[1mwandb\u001b[0m: \tsplitter: random\n",
      "\u001b[34m\u001b[1mwandb\u001b[0m: \ttest_size: 0.1309477298676597\n",
      "\u001b[34m\u001b[1mwandb\u001b[0m: \tundersample: False\n",
      "Failed to detect the name of this notebook, you can set it manually with the WANDB_NOTEBOOK_NAME environment variable to enable code saving.\n",
      "\u001b[34m\u001b[1mwandb\u001b[0m: \u001b[33mWARNING\u001b[0m Ignored wandb.init() arg project when running a sweep.\n"
     ]
    },
    {
     "data": {
      "text/html": [
       "wandb version 0.15.0 is available!  To upgrade, please run:\n",
       " $ pip install wandb --upgrade"
      ],
      "text/plain": [
       "<IPython.core.display.HTML object>"
      ]
     },
     "metadata": {},
     "output_type": "display_data"
    },
    {
     "data": {
      "text/html": [
       "Tracking run with wandb version 0.13.11"
      ],
      "text/plain": [
       "<IPython.core.display.HTML object>"
      ]
     },
     "metadata": {},
     "output_type": "display_data"
    },
    {
     "data": {
      "text/html": [
       "Run data is saved locally in <code>c:\\Users\\Si Ben Tran\\Documents\\GitHub\\fhnw-cdl1-Sensorchallenge\\Sensor-Klassifikation-ohne-Deep-Learning\\wandb\\run-20230421_180115-6ke55xl4</code>"
      ],
      "text/plain": [
       "<IPython.core.display.HTML object>"
      ]
     },
     "metadata": {},
     "output_type": "display_data"
    },
    {
     "data": {
      "text/html": [
       "Syncing run <strong><a href='https://wandb.ai/fhnw-cdl1/01-decision-tree/runs/6ke55xl4' target=\"_blank\">worthy-sweep-3</a></strong> to <a href='https://wandb.ai/fhnw-cdl1/01-decision-tree' target=\"_blank\">Weights & Biases</a> (<a href='https://wandb.me/run' target=\"_blank\">docs</a>)<br/>Sweep page: <a href='https://wandb.ai/fhnw-cdl1/01-decision-tree/sweeps/xpm9kuef' target=\"_blank\">https://wandb.ai/fhnw-cdl1/01-decision-tree/sweeps/xpm9kuef</a>"
      ],
      "text/plain": [
       "<IPython.core.display.HTML object>"
      ]
     },
     "metadata": {},
     "output_type": "display_data"
    },
    {
     "data": {
      "text/html": [
       " View project at <a href='https://wandb.ai/fhnw-cdl1/01-decision-tree' target=\"_blank\">https://wandb.ai/fhnw-cdl1/01-decision-tree</a>"
      ],
      "text/plain": [
       "<IPython.core.display.HTML object>"
      ]
     },
     "metadata": {},
     "output_type": "display_data"
    },
    {
     "data": {
      "text/html": [
       " View sweep at <a href='https://wandb.ai/fhnw-cdl1/01-decision-tree/sweeps/xpm9kuef' target=\"_blank\">https://wandb.ai/fhnw-cdl1/01-decision-tree/sweeps/xpm9kuef</a>"
      ],
      "text/plain": [
       "<IPython.core.display.HTML object>"
      ]
     },
     "metadata": {},
     "output_type": "display_data"
    },
    {
     "data": {
      "text/html": [
       " View run at <a href='https://wandb.ai/fhnw-cdl1/01-decision-tree/runs/6ke55xl4' target=\"_blank\">https://wandb.ai/fhnw-cdl1/01-decision-tree/runs/6ke55xl4</a>"
      ],
      "text/plain": [
       "<IPython.core.display.HTML object>"
      ]
     },
     "metadata": {},
     "output_type": "display_data"
    },
    {
     "name": "stdout",
     "output_type": "stream",
     "text": [
      "no undersampling or oversampling\n"
     ]
    },
    {
     "name": "stderr",
     "output_type": "stream",
     "text": [
      "c:\\Users\\Si Ben Tran\\venv\\cdl1\\lib\\site-packages\\sklearn\\tree\\_classes.py:269: FutureWarning: `max_features='auto'` has been deprecated in 1.1 and will be removed in 1.3. To keep the past behaviour, explicitly set `max_features='sqrt'`.\n",
      "  warnings.warn(\n"
     ]
    },
    {
     "data": {
      "text/html": [
       "Waiting for W&B process to finish... <strong style=\"color:green\">(success).</strong>"
      ],
      "text/plain": [
       "<IPython.core.display.HTML object>"
      ]
     },
     "metadata": {},
     "output_type": "display_data"
    },
    {
     "data": {
      "text/html": [
       "<style>\n",
       "    table.wandb td:nth-child(1) { padding: 0 10px; text-align: left ; width: auto;} td:nth-child(2) {text-align: left ; width: 100%}\n",
       "    .wandb-row { display: flex; flex-direction: row; flex-wrap: wrap; justify-content: flex-start; width: 100% }\n",
       "    .wandb-col { display: flex; flex-direction: column; flex-basis: 100%; flex: 1; padding: 10px; }\n",
       "    </style>\n",
       "<div class=\"wandb-row\"><div class=\"wandb-col\"><h3>Run history:</h3><br/><table class=\"wandb\"><tr><td>accuracy_train</td><td>▁</td></tr><tr><td>accuracy_val</td><td>▁</td></tr><tr><td>f1_train</td><td>▁</td></tr><tr><td>f1_val</td><td>▁</td></tr><tr><td>precision_train</td><td>▁</td></tr><tr><td>precision_val</td><td>▁</td></tr><tr><td>recall_train</td><td>▁</td></tr><tr><td>recall_val</td><td>▁</td></tr></table><br/></div><div class=\"wandb-col\"><h3>Run summary:</h3><br/><table class=\"wandb\"><tr><td>accuracy_train</td><td>0.9519</td></tr><tr><td>accuracy_val</td><td>0.73417</td></tr><tr><td>f1_train</td><td>0.95118</td></tr><tr><td>f1_val</td><td>0.74818</td></tr><tr><td>precision_train</td><td>0.95513</td></tr><tr><td>precision_val</td><td>0.7813</td></tr><tr><td>recall_train</td><td>0.9519</td></tr><tr><td>recall_val</td><td>0.73417</td></tr></table><br/></div></div>"
      ],
      "text/plain": [
       "<IPython.core.display.HTML object>"
      ]
     },
     "metadata": {},
     "output_type": "display_data"
    },
    {
     "data": {
      "text/html": [
       " View run <strong style=\"color:#cdcd00\">worthy-sweep-3</strong> at: <a href='https://wandb.ai/fhnw-cdl1/01-decision-tree/runs/6ke55xl4' target=\"_blank\">https://wandb.ai/fhnw-cdl1/01-decision-tree/runs/6ke55xl4</a><br/>Synced 5 W&B file(s), 0 media file(s), 0 artifact file(s) and 0 other file(s)"
      ],
      "text/plain": [
       "<IPython.core.display.HTML object>"
      ]
     },
     "metadata": {},
     "output_type": "display_data"
    },
    {
     "data": {
      "text/html": [
       "Find logs at: <code>.\\wandb\\run-20230421_180115-6ke55xl4\\logs</code>"
      ],
      "text/plain": [
       "<IPython.core.display.HTML object>"
      ]
     },
     "metadata": {},
     "output_type": "display_data"
    },
    {
     "name": "stderr",
     "output_type": "stream",
     "text": [
      "\u001b[34m\u001b[1mwandb\u001b[0m: Sweep Agent: Waiting for job.\n",
      "\u001b[34m\u001b[1mwandb\u001b[0m: Job received.\n",
      "\u001b[34m\u001b[1mwandb\u001b[0m: Agent Starting Run: 3elvupde with config:\n",
      "\u001b[34m\u001b[1mwandb\u001b[0m: \tmax_depth: 6\n",
      "\u001b[34m\u001b[1mwandb\u001b[0m: \tmax_features: auto\n",
      "\u001b[34m\u001b[1mwandb\u001b[0m: \tmin_samples_leaf: 4\n",
      "\u001b[34m\u001b[1mwandb\u001b[0m: \tmin_samples_split: 9\n",
      "\u001b[34m\u001b[1mwandb\u001b[0m: \toversample: False\n",
      "\u001b[34m\u001b[1mwandb\u001b[0m: \trandom_state: 7100\n",
      "\u001b[34m\u001b[1mwandb\u001b[0m: \tsplitter: random\n",
      "\u001b[34m\u001b[1mwandb\u001b[0m: \ttest_size: 0.13576908281779818\n",
      "\u001b[34m\u001b[1mwandb\u001b[0m: \tundersample: True\n",
      "Failed to detect the name of this notebook, you can set it manually with the WANDB_NOTEBOOK_NAME environment variable to enable code saving.\n",
      "\u001b[34m\u001b[1mwandb\u001b[0m: \u001b[33mWARNING\u001b[0m Ignored wandb.init() arg project when running a sweep.\n"
     ]
    },
    {
     "data": {
      "text/html": [
       "wandb version 0.15.0 is available!  To upgrade, please run:\n",
       " $ pip install wandb --upgrade"
      ],
      "text/plain": [
       "<IPython.core.display.HTML object>"
      ]
     },
     "metadata": {},
     "output_type": "display_data"
    },
    {
     "data": {
      "text/html": [
       "Tracking run with wandb version 0.13.11"
      ],
      "text/plain": [
       "<IPython.core.display.HTML object>"
      ]
     },
     "metadata": {},
     "output_type": "display_data"
    },
    {
     "data": {
      "text/html": [
       "Run data is saved locally in <code>c:\\Users\\Si Ben Tran\\Documents\\GitHub\\fhnw-cdl1-Sensorchallenge\\Sensor-Klassifikation-ohne-Deep-Learning\\wandb\\run-20230421_180613-3elvupde</code>"
      ],
      "text/plain": [
       "<IPython.core.display.HTML object>"
      ]
     },
     "metadata": {},
     "output_type": "display_data"
    },
    {
     "data": {
      "text/html": [
       "Syncing run <strong><a href='https://wandb.ai/fhnw-cdl1/01-decision-tree/runs/3elvupde' target=\"_blank\">crimson-sweep-4</a></strong> to <a href='https://wandb.ai/fhnw-cdl1/01-decision-tree' target=\"_blank\">Weights & Biases</a> (<a href='https://wandb.me/run' target=\"_blank\">docs</a>)<br/>Sweep page: <a href='https://wandb.ai/fhnw-cdl1/01-decision-tree/sweeps/xpm9kuef' target=\"_blank\">https://wandb.ai/fhnw-cdl1/01-decision-tree/sweeps/xpm9kuef</a>"
      ],
      "text/plain": [
       "<IPython.core.display.HTML object>"
      ]
     },
     "metadata": {},
     "output_type": "display_data"
    },
    {
     "data": {
      "text/html": [
       " View project at <a href='https://wandb.ai/fhnw-cdl1/01-decision-tree' target=\"_blank\">https://wandb.ai/fhnw-cdl1/01-decision-tree</a>"
      ],
      "text/plain": [
       "<IPython.core.display.HTML object>"
      ]
     },
     "metadata": {},
     "output_type": "display_data"
    },
    {
     "data": {
      "text/html": [
       " View sweep at <a href='https://wandb.ai/fhnw-cdl1/01-decision-tree/sweeps/xpm9kuef' target=\"_blank\">https://wandb.ai/fhnw-cdl1/01-decision-tree/sweeps/xpm9kuef</a>"
      ],
      "text/plain": [
       "<IPython.core.display.HTML object>"
      ]
     },
     "metadata": {},
     "output_type": "display_data"
    },
    {
     "data": {
      "text/html": [
       " View run at <a href='https://wandb.ai/fhnw-cdl1/01-decision-tree/runs/3elvupde' target=\"_blank\">https://wandb.ai/fhnw-cdl1/01-decision-tree/runs/3elvupde</a>"
      ],
      "text/plain": [
       "<IPython.core.display.HTML object>"
      ]
     },
     "metadata": {},
     "output_type": "display_data"
    },
    {
     "name": "stdout",
     "output_type": "stream",
     "text": [
      "undersample dataset\n"
     ]
    },
    {
     "name": "stderr",
     "output_type": "stream",
     "text": [
      "c:\\Users\\Si Ben Tran\\venv\\cdl1\\lib\\site-packages\\sklearn\\tree\\_classes.py:269: FutureWarning: `max_features='auto'` has been deprecated in 1.1 and will be removed in 1.3. To keep the past behaviour, explicitly set `max_features='sqrt'`.\n",
      "  warnings.warn(\n"
     ]
    }
   ],
   "source": [
    "# Define sweep config for decision tree\n",
    "sweep_config_dt = {\n",
    "    'method': 'bayes',\n",
    "    'metric': {\n",
    "        'name': 'accuracy_val',\n",
    "        'goal': 'maximize',\n",
    "    },\n",
    "    'parameters': {\n",
    "        'max_depth': {\n",
    "            'min': 5,\n",
    "            'max': 10,\n",
    "        },\n",
    "        'splitter': {\n",
    "            'values': ['best', 'random']\n",
    "        },\n",
    "        'min_samples_split': {\n",
    "            'min': 2,\n",
    "            'max': 10,\n",
    "        },\n",
    "        'min_samples_leaf': {\n",
    "            'min': 1,\n",
    "            'max': 10,\n",
    "        },\n",
    "        'max_features': {\n",
    "            'values': ['auto', 'sqrt', 'log2'],\n",
    "        },\n",
    "        'test_size': {\n",
    "            'min': 0.1,\n",
    "            'max': 0.6,\n",
    "        },\n",
    "        'random_state': {\n",
    "            'min': 1,\n",
    "            'max': 10000,\n",
    "        },\n",
    "        'undersample': {\n",
    "            'values': [True, False]\n",
    "        },\n",
    "        'oversample': {\n",
    "            'values': [True, False]\n",
    "        }\n",
    "    }\n",
    "}\n",
    "\n",
    "# Initialize sweep\n",
    "sweep_id = wandb.sweep(sweep_config_dt, project=\"01-decision-tree\")\n",
    "\n",
    "# Define sweep function\n",
    "def sweep_dt_train():\n",
    "    # Initialize wandb\n",
    "    wandb.init(project=\"01-decision-tree\")\n",
    "\n",
    "    # Get hyperparameters\n",
    "    max_depth = wandb.config.max_depth\n",
    "    min_samples_split = wandb.config.min_samples_split\n",
    "    min_samples_leaf = wandb.config.min_samples_leaf\n",
    "    max_features = wandb.config.max_features\n",
    "    test_size = wandb.config.test_size\n",
    "    random_state = np.round(wandb.config.random_state, 1)\n",
    "    undersample = wandb.config.undersample\n",
    "    oversample = wandb.config.oversample\n",
    "\n",
    "    # load data and process it \n",
    "    X_train, y_train, X_val, y_val = preprocess_data(data, \n",
    "                                                     test_size=test_size, \n",
    "                                                     random_state=random_state, \n",
    "                                                     undersample=undersample, \n",
    "                                                     oversample=oversample)\n",
    "    \n",
    "    # create a decision tree model\n",
    "    dt_model = DecisionTreeClassifier(max_depth=max_depth,\n",
    "                                           min_samples_split=min_samples_split,\n",
    "                                           min_samples_leaf=min_samples_leaf,\n",
    "                                           max_features=max_features)\n",
    "    \n",
    "    # fit the decision tree model\n",
    "    dt_model.fit(X_train, y_train)\n",
    "\n",
    "    # predict the classes for the val data\n",
    "    prediction_val = dt_model.predict(X_val)\n",
    "    prediction_train = dt_model.predict(X_train)\n",
    "\n",
    "    # calculate the accuracy of the decision tree model with train and val data\n",
    "    accuracy_val = accuracy_score(y_true = y_val, y_pred = prediction_val)\n",
    "    accuracy_train = accuracy_score(y_true = y_train, y_pred = prediction_train)\n",
    "\n",
    "    precision_val = precision_score(y_true = y_val, y_pred = prediction_val, average = \"weighted\")\n",
    "    precision_train = precision_score(y_true = y_train, y_pred = prediction_train, average = \"weighted\")\n",
    "\n",
    "    recall_val = recall_score(y_true = y_val, y_pred = prediction_val, average = \"weighted\")\n",
    "    recall_train = recall_score(y_true = y_train, y_pred = prediction_train, average = \"weighted\")\n",
    "\n",
    "    f1_val = f1_score(y_true = y_val, y_pred = prediction_val, average = \"weighted\")\n",
    "    f1_train = f1_score(y_true = y_train, y_pred = prediction_train, average = \"weighted\")    \n",
    "\n",
    "    # log metrics\n",
    "    wandb.log({'accuracy_val': accuracy_val,\n",
    "                'accuracy_train': accuracy_train,\n",
    "                'precision_val': precision_val,\n",
    "                'precision_train': precision_train,\n",
    "                'recall_val': recall_val,\n",
    "                'recall_train': recall_train,\n",
    "                'f1_val': f1_val,\n",
    "                'f1_train': f1_train})\n",
    "    \n",
    "# Run sweep\n",
    "wandb.agent(sweep_id, function=sweep_dt_train, count=100)\n",
    "wandb.finish()\n",
    "    "
   ]
  },
  {
   "attachments": {},
   "cell_type": "markdown",
   "metadata": {},
   "source": [
    "## Fazit zu Modell-01 - Decision Tree\n",
    "\n",
    "blabla\n",
    "\n",
    "---"
   ]
  },
  {
   "attachments": {},
   "cell_type": "markdown",
   "metadata": {},
   "source": [
    "# Modell-02 - Random Forest"
   ]
  },
  {
   "cell_type": "code",
   "execution_count": null,
   "metadata": {},
   "outputs": [],
   "source": [
    "# CODE\n",
    "\n",
    "# Modell erstellen\n",
    "\n",
    "# Modell trainieren\n",
    "\n",
    "# Modell Accuracy mittels Validierungsdatensatz\n",
    "\n",
    "# Confusion Matrix erstellen"
   ]
  },
  {
   "attachments": {},
   "cell_type": "markdown",
   "metadata": {},
   "source": [
    "## Fazit zu Modell-02 - Random Forest\n",
    "\n",
    "blabla\n",
    "\n",
    "---"
   ]
  },
  {
   "attachments": {},
   "cell_type": "markdown",
   "metadata": {},
   "source": [
    "# Modelle vergleichen\n"
   ]
  },
  {
   "cell_type": "code",
   "execution_count": null,
   "metadata": {},
   "outputs": [],
   "source": [
    "# create a dictionary with the model names as key and the accuracy score as value\n",
    "model_accuracy_dict = {\"Logistic Regression Baseline Model\": baseline_val_accuracy}\n",
    "\n",
    "# create a dataframe from the dictionary\n",
    "model_accuracy_df = pd.DataFrame.from_dict(model_accuracy_dict, orient = \"index\", columns = [\"Accuracy Score\"])\n",
    "\n",
    "# sort dataframe by accuracy score\n",
    "model_accuracy_df = model_accuracy_df.sort_values(by = \"Accuracy Score\", ascending = False)\n",
    "\n",
    "# display the dataframe \n",
    "display(model_accuracy_df)\n",
    "\n",
    "# create a barplot for comparison \n",
    "fig, ax = plt.subplots(figsize = (20,10))\n",
    "model_accuracy_df.plot(kind = \"bar\", ax = ax, legend = False, color = \"lightblue\", edgecolor = \"black\", linewidth = 1)\n",
    "# add the accuracy score as text to the barplot\n",
    "plt.title(\"Accuracy Score comparison of ML Modells\", fontsize = 20, y = 1.01)\n",
    "plt.xlabel(\"Model\", fontsize = 15)\n",
    "plt.ylabel(\"Accuracy Score\", fontsize = 15)\n",
    "plt.xticks(rotation = 0)\n",
    "plt.show()\n"
   ]
  },
  {
   "attachments": {},
   "cell_type": "markdown",
   "metadata": {},
   "source": [
    "## Fazit zu ML Modelle \n",
    "\n",
    "blabla\n",
    "\n",
    "---"
   ]
  }
 ],
 "metadata": {
  "kernelspec": {
   "display_name": "cdl1",
   "language": "python",
   "name": "python3"
  },
  "language_info": {
   "codemirror_mode": {
    "name": "ipython",
    "version": 3
   },
   "file_extension": ".py",
   "mimetype": "text/x-python",
   "name": "python",
   "nbconvert_exporter": "python",
   "pygments_lexer": "ipython3",
   "version": "3.9.7"
  },
  "orig_nbformat": 4
 },
 "nbformat": 4,
 "nbformat_minor": 2
}
